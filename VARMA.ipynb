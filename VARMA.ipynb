{
  "nbformat": 4,
  "nbformat_minor": 0,
  "metadata": {
    "colab": {
      "name": "VARMA",
      "provenance": [],
      "authorship_tag": "ABX9TyPvDbGk1fxV0NfIoAhA+7GE",
      "include_colab_link": true
    },
    "kernelspec": {
      "name": "python3",
      "display_name": "Python 3"
    }
  },
  "cells": [
    {
      "cell_type": "markdown",
      "metadata": {
        "id": "view-in-github",
        "colab_type": "text"
      },
      "source": [
        "<a href=\"https://colab.research.google.com/github/Satyake/Time-Series-Analysis-spagheti-code/blob/master/VARMA.ipynb\" target=\"_parent\"><img src=\"https://colab.research.google.com/assets/colab-badge.svg\" alt=\"Open In Colab\"/></a>"
      ]
    },
    {
      "cell_type": "code",
      "metadata": {
        "id": "2fTKQRS-8e1r"
      },
      "source": [
        "#VARMA (p,q)"
      ],
      "execution_count": 1,
      "outputs": []
    },
    {
      "cell_type": "code",
      "metadata": {
        "id": "7J-Hg0qw8uP2"
      },
      "source": [
        "import pandas as pd"
      ],
      "execution_count": 1,
      "outputs": []
    },
    {
      "cell_type": "code",
      "metadata": {
        "id": "cX8la-ZX8_AR",
        "outputId": "17453c8b-86e1-4129-804b-a479ccc07715",
        "colab": {
          "base_uri": "https://localhost:8080/",
          "height": 690
        }
      },
      "source": [
        "!pip install pmdarima"
      ],
      "execution_count": 3,
      "outputs": [
        {
          "output_type": "stream",
          "text": [
            "Collecting pmdarima\n",
            "\u001b[?25l  Downloading https://files.pythonhosted.org/packages/be/62/725b3b6ae0e56c77534de5a8139322e7b863ca53fd5bd6bd3b7de87d0c20/pmdarima-1.7.1-cp36-cp36m-manylinux1_x86_64.whl (1.5MB)\n",
            "\u001b[K     |████████████████████████████████| 1.5MB 6.8MB/s \n",
            "\u001b[?25hRequirement already satisfied: joblib>=0.11 in /usr/local/lib/python3.6/dist-packages (from pmdarima) (0.17.0)\n",
            "Collecting Cython<0.29.18,>=0.29\n",
            "\u001b[?25l  Downloading https://files.pythonhosted.org/packages/e7/d7/510ddef0248f3e1e91f9cc7e31c0f35f8954d0af92c5c3fd4c853e859ebe/Cython-0.29.17-cp36-cp36m-manylinux1_x86_64.whl (2.1MB)\n",
            "\u001b[K     |████████████████████████████████| 2.1MB 29.4MB/s \n",
            "\u001b[?25hRequirement already satisfied: numpy>=1.17.3 in /usr/local/lib/python3.6/dist-packages (from pmdarima) (1.18.5)\n",
            "Requirement already satisfied: pandas>=0.19 in /usr/local/lib/python3.6/dist-packages (from pmdarima) (1.1.4)\n",
            "Collecting statsmodels<0.12,>=0.11\n",
            "\u001b[?25l  Downloading https://files.pythonhosted.org/packages/cb/83/540fd83238a18abe6c2d280fa8e489ac5fcefa1f370f0ca1acd16ae1b860/statsmodels-0.11.1-cp36-cp36m-manylinux1_x86_64.whl (8.7MB)\n",
            "\u001b[K     |████████████████████████████████| 8.7MB 34.6MB/s \n",
            "\u001b[?25hRequirement already satisfied: urllib3 in /usr/local/lib/python3.6/dist-packages (from pmdarima) (1.24.3)\n",
            "Requirement already satisfied: scipy>=1.3.2 in /usr/local/lib/python3.6/dist-packages (from pmdarima) (1.4.1)\n",
            "Collecting setuptools<50.0.0\n",
            "\u001b[?25l  Downloading https://files.pythonhosted.org/packages/c3/a9/5dc32465951cf4812e9e93b4ad2d314893c2fa6d5f66ce5c057af6e76d85/setuptools-49.6.0-py3-none-any.whl (803kB)\n",
            "\u001b[K     |████████████████████████████████| 808kB 46.0MB/s \n",
            "\u001b[?25hRequirement already satisfied: scikit-learn>=0.22 in /usr/local/lib/python3.6/dist-packages (from pmdarima) (0.22.2.post1)\n",
            "Requirement already satisfied: python-dateutil>=2.7.3 in /usr/local/lib/python3.6/dist-packages (from pandas>=0.19->pmdarima) (2.8.1)\n",
            "Requirement already satisfied: pytz>=2017.2 in /usr/local/lib/python3.6/dist-packages (from pandas>=0.19->pmdarima) (2018.9)\n",
            "Requirement already satisfied: patsy>=0.5 in /usr/local/lib/python3.6/dist-packages (from statsmodels<0.12,>=0.11->pmdarima) (0.5.1)\n",
            "Requirement already satisfied: six>=1.5 in /usr/local/lib/python3.6/dist-packages (from python-dateutil>=2.7.3->pandas>=0.19->pmdarima) (1.15.0)\n",
            "\u001b[31mERROR: datascience 0.10.6 has requirement folium==0.2.1, but you'll have folium 0.8.3 which is incompatible.\u001b[0m\n",
            "Installing collected packages: Cython, statsmodels, setuptools, pmdarima\n",
            "  Found existing installation: Cython 0.29.21\n",
            "    Uninstalling Cython-0.29.21:\n",
            "      Successfully uninstalled Cython-0.29.21\n",
            "  Found existing installation: statsmodels 0.10.2\n",
            "    Uninstalling statsmodels-0.10.2:\n",
            "      Successfully uninstalled statsmodels-0.10.2\n",
            "  Found existing installation: setuptools 50.3.2\n",
            "    Uninstalling setuptools-50.3.2:\n",
            "      Successfully uninstalled setuptools-50.3.2\n",
            "Successfully installed Cython-0.29.17 pmdarima-1.7.1 setuptools-49.6.0 statsmodels-0.11.1\n"
          ],
          "name": "stdout"
        },
        {
          "output_type": "display_data",
          "data": {
            "application/vnd.colab-display-data+json": {
              "pip_warning": {
                "packages": [
                  "pkg_resources",
                  "statsmodels"
                ]
              }
            }
          },
          "metadata": {
            "tags": []
          }
        }
      ]
    },
    {
      "cell_type": "code",
      "metadata": {
        "id": "aPguz2DP8wFp"
      },
      "source": [
        "from statsmodels.tsa.statespace.varmax import VARMAX,VARMAXResults\n",
        "from statsmodels.tsa.stattools import adfuller\n",
        "from statsmodels.tools.eval_measures import rmse\n",
        "from pmdarima import  auto_arima"
      ],
      "execution_count": 20,
      "outputs": []
    },
    {
      "cell_type": "code",
      "metadata": {
        "id": "7G0BmPb29DRQ"
      },
      "source": [
        "df=pd.read_csv('/content/M2SLMoneyStock.csv',index_col=0,parse_dates=True)\n",
        "sp=pd.read_csv('/content/PCEPersonalSpending.csv',index_col=0,parse_dates=True)"
      ],
      "execution_count": 21,
      "outputs": []
    },
    {
      "cell_type": "code",
      "metadata": {
        "id": "8zOUf2xaQ2tl"
      },
      "source": [
        "df=df.join(sp)"
      ],
      "execution_count": 22,
      "outputs": []
    },
    {
      "cell_type": "code",
      "metadata": {
        "id": "dtkpa2Rn9RkV",
        "outputId": "210a930f-a8b2-46ac-e867-04273057252c",
        "colab": {
          "base_uri": "https://localhost:8080/",
          "height": 399
        }
      },
      "source": [
        "auto_arima(df['Money'],maxiter=1000).summary()"
      ],
      "execution_count": 7,
      "outputs": [
        {
          "output_type": "execute_result",
          "data": {
            "text/html": [
              "<table class=\"simpletable\">\n",
              "<caption>SARIMAX Results</caption>\n",
              "<tr>\n",
              "  <th>Dep. Variable:</th>           <td>y</td>        <th>  No. Observations:  </th>    <td>252</td>   \n",
              "</tr>\n",
              "<tr>\n",
              "  <th>Model:</th>           <td>SARIMAX(1, 2, 1)</td> <th>  Log Likelihood     </th> <td>-1176.729</td>\n",
              "</tr>\n",
              "<tr>\n",
              "  <th>Date:</th>            <td>Mon, 16 Nov 2020</td> <th>  AIC                </th> <td>2359.458</td> \n",
              "</tr>\n",
              "<tr>\n",
              "  <th>Time:</th>                <td>22:11:25</td>     <th>  BIC                </th> <td>2370.023</td> \n",
              "</tr>\n",
              "<tr>\n",
              "  <th>Sample:</th>                  <td>0</td>        <th>  HQIC               </th> <td>2363.710</td> \n",
              "</tr>\n",
              "<tr>\n",
              "  <th></th>                      <td> - 252</td>      <th>                     </th>     <td> </td>    \n",
              "</tr>\n",
              "<tr>\n",
              "  <th>Covariance Type:</th>        <td>opg</td>       <th>                     </th>     <td> </td>    \n",
              "</tr>\n",
              "</table>\n",
              "<table class=\"simpletable\">\n",
              "<tr>\n",
              "     <td></td>       <th>coef</th>     <th>std err</th>      <th>z</th>      <th>P>|z|</th>  <th>[0.025</th>    <th>0.975]</th>  \n",
              "</tr>\n",
              "<tr>\n",
              "  <th>ar.L1</th>  <td>    0.2229</td> <td>    0.042</td> <td>    5.297</td> <td> 0.000</td> <td>    0.140</td> <td>    0.305</td>\n",
              "</tr>\n",
              "<tr>\n",
              "  <th>ma.L1</th>  <td>   -0.9481</td> <td>    0.021</td> <td>  -45.132</td> <td> 0.000</td> <td>   -0.989</td> <td>   -0.907</td>\n",
              "</tr>\n",
              "<tr>\n",
              "  <th>sigma2</th> <td>  712.5495</td> <td>   33.501</td> <td>   21.270</td> <td> 0.000</td> <td>  646.889</td> <td>  778.210</td>\n",
              "</tr>\n",
              "</table>\n",
              "<table class=\"simpletable\">\n",
              "<tr>\n",
              "  <th>Ljung-Box (Q):</th>          <td>80.87</td> <th>  Jarque-Bera (JB):  </th> <td>598.56</td>\n",
              "</tr>\n",
              "<tr>\n",
              "  <th>Prob(Q):</th>                <td>0.00</td>  <th>  Prob(JB):          </th>  <td>0.00</td> \n",
              "</tr>\n",
              "<tr>\n",
              "  <th>Heteroskedasticity (H):</th> <td>4.31</td>  <th>  Skew:              </th>  <td>1.32</td> \n",
              "</tr>\n",
              "<tr>\n",
              "  <th>Prob(H) (two-sided):</th>    <td>0.00</td>  <th>  Kurtosis:          </th>  <td>10.11</td>\n",
              "</tr>\n",
              "</table><br/><br/>Warnings:<br/>[1] Covariance matrix calculated using the outer product of gradients (complex-step)."
            ],
            "text/plain": [
              "<class 'statsmodels.iolib.summary.Summary'>\n",
              "\"\"\"\n",
              "                               SARIMAX Results                                \n",
              "==============================================================================\n",
              "Dep. Variable:                      y   No. Observations:                  252\n",
              "Model:               SARIMAX(1, 2, 1)   Log Likelihood               -1176.729\n",
              "Date:                Mon, 16 Nov 2020   AIC                           2359.458\n",
              "Time:                        22:11:25   BIC                           2370.023\n",
              "Sample:                             0   HQIC                          2363.710\n",
              "                                - 252                                         \n",
              "Covariance Type:                  opg                                         \n",
              "==============================================================================\n",
              "                 coef    std err          z      P>|z|      [0.025      0.975]\n",
              "------------------------------------------------------------------------------\n",
              "ar.L1          0.2229      0.042      5.297      0.000       0.140       0.305\n",
              "ma.L1         -0.9481      0.021    -45.132      0.000      -0.989      -0.907\n",
              "sigma2       712.5495     33.501     21.270      0.000     646.889     778.210\n",
              "===================================================================================\n",
              "Ljung-Box (Q):                       80.87   Jarque-Bera (JB):               598.56\n",
              "Prob(Q):                              0.00   Prob(JB):                         0.00\n",
              "Heteroskedasticity (H):               4.31   Skew:                             1.32\n",
              "Prob(H) (two-sided):                  0.00   Kurtosis:                        10.11\n",
              "===================================================================================\n",
              "\n",
              "Warnings:\n",
              "[1] Covariance matrix calculated using the outer product of gradients (complex-step).\n",
              "\"\"\""
            ]
          },
          "metadata": {
            "tags": []
          },
          "execution_count": 7
        }
      ]
    },
    {
      "cell_type": "code",
      "metadata": {
        "id": "E19D409CHIJ-",
        "outputId": "a3467c98-50b8-40d7-eef7-707720e52766",
        "colab": {
          "base_uri": "https://localhost:8080/",
          "height": 438
        }
      },
      "source": [
        "auto_arima(sp['Spending'],maxiter=1000).summary()"
      ],
      "execution_count": 8,
      "outputs": [
        {
          "output_type": "execute_result",
          "data": {
            "text/html": [
              "<table class=\"simpletable\">\n",
              "<caption>SARIMAX Results</caption>\n",
              "<tr>\n",
              "  <th>Dep. Variable:</th>           <td>y</td>        <th>  No. Observations:  </th>    <td>252</td>   \n",
              "</tr>\n",
              "<tr>\n",
              "  <th>Model:</th>           <td>SARIMAX(1, 1, 2)</td> <th>  Log Likelihood     </th> <td>-1238.601</td>\n",
              "</tr>\n",
              "<tr>\n",
              "  <th>Date:</th>            <td>Mon, 16 Nov 2020</td> <th>  AIC                </th> <td>2487.202</td> \n",
              "</tr>\n",
              "<tr>\n",
              "  <th>Time:</th>                <td>22:11:48</td>     <th>  BIC                </th> <td>2504.829</td> \n",
              "</tr>\n",
              "<tr>\n",
              "  <th>Sample:</th>                  <td>0</td>        <th>  HQIC               </th> <td>2494.295</td> \n",
              "</tr>\n",
              "<tr>\n",
              "  <th></th>                      <td> - 252</td>      <th>                     </th>     <td> </td>    \n",
              "</tr>\n",
              "<tr>\n",
              "  <th>Covariance Type:</th>        <td>opg</td>       <th>                     </th>     <td> </td>    \n",
              "</tr>\n",
              "</table>\n",
              "<table class=\"simpletable\">\n",
              "<tr>\n",
              "      <td></td>         <th>coef</th>     <th>std err</th>      <th>z</th>      <th>P>|z|</th>  <th>[0.025</th>    <th>0.975]</th>  \n",
              "</tr>\n",
              "<tr>\n",
              "  <th>intercept</th> <td>    6.7221</td> <td>    3.525</td> <td>    1.907</td> <td> 0.057</td> <td>   -0.187</td> <td>   13.631</td>\n",
              "</tr>\n",
              "<tr>\n",
              "  <th>ar.L1</th>     <td>    0.7774</td> <td>    0.120</td> <td>    6.469</td> <td> 0.000</td> <td>    0.542</td> <td>    1.013</td>\n",
              "</tr>\n",
              "<tr>\n",
              "  <th>ma.L1</th>     <td>   -0.7889</td> <td>    0.117</td> <td>   -6.767</td> <td> 0.000</td> <td>   -1.017</td> <td>   -0.560</td>\n",
              "</tr>\n",
              "<tr>\n",
              "  <th>ma.L2</th>     <td>    0.1342</td> <td>    0.062</td> <td>    2.171</td> <td> 0.030</td> <td>    0.013</td> <td>    0.255</td>\n",
              "</tr>\n",
              "<tr>\n",
              "  <th>sigma2</th>    <td> 1131.1359</td> <td>   61.857</td> <td>   18.286</td> <td> 0.000</td> <td> 1009.898</td> <td> 1252.373</td>\n",
              "</tr>\n",
              "</table>\n",
              "<table class=\"simpletable\">\n",
              "<tr>\n",
              "  <th>Ljung-Box (Q):</th>          <td>34.25</td> <th>  Jarque-Bera (JB):  </th> <td>216.24</td>\n",
              "</tr>\n",
              "<tr>\n",
              "  <th>Prob(Q):</th>                <td>0.73</td>  <th>  Prob(JB):          </th>  <td>0.00</td> \n",
              "</tr>\n",
              "<tr>\n",
              "  <th>Heteroskedasticity (H):</th> <td>0.98</td>  <th>  Skew:              </th>  <td>-0.30</td>\n",
              "</tr>\n",
              "<tr>\n",
              "  <th>Prob(H) (two-sided):</th>    <td>0.92</td>  <th>  Kurtosis:          </th>  <td>7.51</td> \n",
              "</tr>\n",
              "</table><br/><br/>Warnings:<br/>[1] Covariance matrix calculated using the outer product of gradients (complex-step)."
            ],
            "text/plain": [
              "<class 'statsmodels.iolib.summary.Summary'>\n",
              "\"\"\"\n",
              "                               SARIMAX Results                                \n",
              "==============================================================================\n",
              "Dep. Variable:                      y   No. Observations:                  252\n",
              "Model:               SARIMAX(1, 1, 2)   Log Likelihood               -1238.601\n",
              "Date:                Mon, 16 Nov 2020   AIC                           2487.202\n",
              "Time:                        22:11:48   BIC                           2504.829\n",
              "Sample:                             0   HQIC                          2494.295\n",
              "                                - 252                                         \n",
              "Covariance Type:                  opg                                         \n",
              "==============================================================================\n",
              "                 coef    std err          z      P>|z|      [0.025      0.975]\n",
              "------------------------------------------------------------------------------\n",
              "intercept      6.7221      3.525      1.907      0.057      -0.187      13.631\n",
              "ar.L1          0.7774      0.120      6.469      0.000       0.542       1.013\n",
              "ma.L1         -0.7889      0.117     -6.767      0.000      -1.017      -0.560\n",
              "ma.L2          0.1342      0.062      2.171      0.030       0.013       0.255\n",
              "sigma2      1131.1359     61.857     18.286      0.000    1009.898    1252.373\n",
              "===================================================================================\n",
              "Ljung-Box (Q):                       34.25   Jarque-Bera (JB):               216.24\n",
              "Prob(Q):                              0.73   Prob(JB):                         0.00\n",
              "Heteroskedasticity (H):               0.98   Skew:                            -0.30\n",
              "Prob(H) (two-sided):                  0.92   Kurtosis:                         7.51\n",
              "===================================================================================\n",
              "\n",
              "Warnings:\n",
              "[1] Covariance matrix calculated using the outer product of gradients (complex-step).\n",
              "\"\"\""
            ]
          },
          "metadata": {
            "tags": []
          },
          "execution_count": 8
        }
      ]
    },
    {
      "cell_type": "code",
      "metadata": {
        "id": "WdG--jfkHYUV",
        "outputId": "7d9a824b-3c8f-49f8-d215-f566e6a854cd",
        "colab": {
          "base_uri": "https://localhost:8080/",
          "height": 226
        }
      },
      "source": [
        "df_transformed=df.diff().diff()\n",
        "df_transformed=df_transformed.dropna()\n",
        "df_transformed.head()"
      ],
      "execution_count": 23,
      "outputs": [
        {
          "output_type": "execute_result",
          "data": {
            "text/html": [
              "<div>\n",
              "<style scoped>\n",
              "    .dataframe tbody tr th:only-of-type {\n",
              "        vertical-align: middle;\n",
              "    }\n",
              "\n",
              "    .dataframe tbody tr th {\n",
              "        vertical-align: top;\n",
              "    }\n",
              "\n",
              "    .dataframe thead th {\n",
              "        text-align: right;\n",
              "    }\n",
              "</style>\n",
              "<table border=\"1\" class=\"dataframe\">\n",
              "  <thead>\n",
              "    <tr style=\"text-align: right;\">\n",
              "      <th></th>\n",
              "      <th>Money</th>\n",
              "      <th>Spending</th>\n",
              "    </tr>\n",
              "    <tr>\n",
              "      <th>Date</th>\n",
              "      <th></th>\n",
              "      <th></th>\n",
              "    </tr>\n",
              "  </thead>\n",
              "  <tbody>\n",
              "    <tr>\n",
              "      <th>1995-03-01</th>\n",
              "      <td>3.7</td>\n",
              "      <td>35.0</td>\n",
              "    </tr>\n",
              "    <tr>\n",
              "      <th>1995-04-01</th>\n",
              "      <td>6.9</td>\n",
              "      <td>-29.8</td>\n",
              "    </tr>\n",
              "    <tr>\n",
              "      <th>1995-05-01</th>\n",
              "      <td>16.9</td>\n",
              "      <td>38.1</td>\n",
              "    </tr>\n",
              "    <tr>\n",
              "      <th>1995-06-01</th>\n",
              "      <td>-0.3</td>\n",
              "      <td>1.5</td>\n",
              "    </tr>\n",
              "    <tr>\n",
              "      <th>1995-07-01</th>\n",
              "      <td>-6.2</td>\n",
              "      <td>-51.7</td>\n",
              "    </tr>\n",
              "  </tbody>\n",
              "</table>\n",
              "</div>"
            ],
            "text/plain": [
              "            Money  Spending\n",
              "Date                       \n",
              "1995-03-01    3.7      35.0\n",
              "1995-04-01    6.9     -29.8\n",
              "1995-05-01   16.9      38.1\n",
              "1995-06-01   -0.3       1.5\n",
              "1995-07-01   -6.2     -51.7"
            ]
          },
          "metadata": {
            "tags": []
          },
          "execution_count": 23
        }
      ]
    },
    {
      "cell_type": "code",
      "metadata": {
        "id": "R6SSRfwhHgbD",
        "outputId": "d5e7b490-5d8c-47bc-ee78-e7c251c4b308",
        "colab": {
          "base_uri": "https://localhost:8080/"
        }
      },
      "source": [
        "len(df_transformed)"
      ],
      "execution_count": 24,
      "outputs": [
        {
          "output_type": "execute_result",
          "data": {
            "text/plain": [
              "250"
            ]
          },
          "metadata": {
            "tags": []
          },
          "execution_count": 24
        }
      ]
    },
    {
      "cell_type": "code",
      "metadata": {
        "id": "vArmC9mlHoOX"
      },
      "source": [
        "nobs=12\n",
        "train,test=df_transformed[0:-nobs],df_transformed[-nobs:]"
      ],
      "execution_count": 25,
      "outputs": []
    },
    {
      "cell_type": "code",
      "metadata": {
        "id": "HK1XjyShH2V4",
        "outputId": "de8d041f-0871-497f-d34b-ba2cc04d1c4e",
        "colab": {
          "base_uri": "https://localhost:8080/"
        }
      },
      "source": [
        "a=[1,2,3,4,5,6,7,8,9]\n",
        "a[-8:]"
      ],
      "execution_count": 15,
      "outputs": [
        {
          "output_type": "execute_result",
          "data": {
            "text/plain": [
              "[2, 3, 4, 5, 6, 7, 8, 9]"
            ]
          },
          "metadata": {
            "tags": []
          },
          "execution_count": 15
        }
      ]
    },
    {
      "cell_type": "code",
      "metadata": {
        "id": "zJ9YIGmkHiVA",
        "outputId": "dade98aa-2b57-42c4-81de-0f2c07b4176d",
        "colab": {
          "base_uri": "https://localhost:8080/",
          "height": 906
        }
      },
      "source": [
        "model=VARMAX(train,order=(1,2))\n",
        "results=model.fit()\n",
        "results.summary()"
      ],
      "execution_count": 30,
      "outputs": [
        {
          "output_type": "stream",
          "text": [
            "/usr/local/lib/python3.6/dist-packages/statsmodels/tsa/statespace/varmax.py:163: EstimationWarning: Estimation of VARMA(p,q) models is not generically robust, due especially to identification issues.\n",
            "  EstimationWarning)\n",
            "/usr/local/lib/python3.6/dist-packages/statsmodels/tsa/base/tsa_model.py:162: ValueWarning: No frequency information was provided, so inferred frequency MS will be used.\n",
            "  % freq, ValueWarning)\n",
            "/usr/local/lib/python3.6/dist-packages/statsmodels/base/model.py:568: ConvergenceWarning: Maximum Likelihood optimization failed to converge. Check mle_retvals\n",
            "  \"Check mle_retvals\", ConvergenceWarning)\n"
          ],
          "name": "stderr"
        },
        {
          "output_type": "execute_result",
          "data": {
            "text/html": [
              "<table class=\"simpletable\">\n",
              "<caption>Statespace Model Results</caption>\n",
              "<tr>\n",
              "  <th>Dep. Variable:</th>   <td>['Money', 'Spending']</td> <th>  No. Observations:  </th>    <td>238</td>   \n",
              "</tr>\n",
              "<tr>\n",
              "  <th>Model:</th>                <td>VARMA(1,2)</td>       <th>  Log Likelihood     </th> <td>-2291.785</td>\n",
              "</tr>\n",
              "<tr>\n",
              "  <th></th>                      <td>+ intercept</td>      <th>  AIC                </th> <td>4617.570</td> \n",
              "</tr>\n",
              "<tr>\n",
              "  <th>Date:</th>              <td>Mon, 16 Nov 2020</td>    <th>  BIC                </th> <td>4676.598</td> \n",
              "</tr>\n",
              "<tr>\n",
              "  <th>Time:</th>                  <td>23:14:08</td>        <th>  HQIC               </th> <td>4641.359</td> \n",
              "</tr>\n",
              "<tr>\n",
              "  <th>Sample:</th>               <td>03-01-1995</td>       <th>                     </th>     <td> </td>    \n",
              "</tr>\n",
              "<tr>\n",
              "  <th></th>                     <td>- 12-01-2014</td>      <th>                     </th>     <td> </td>    \n",
              "</tr>\n",
              "<tr>\n",
              "  <th>Covariance Type:</th>          <td>opg</td>          <th>                     </th>     <td> </td>    \n",
              "</tr>\n",
              "</table>\n",
              "<table class=\"simpletable\">\n",
              "<tr>\n",
              "  <th>Ljung-Box (Q):</th>          <td>71.60, 30.32</td> <th>  Jarque-Bera (JB):  </th> <td>663.32, 128.32</td>\n",
              "</tr>\n",
              "<tr>\n",
              "  <th>Prob(Q):</th>                 <td>0.00, 0.87</td>  <th>  Prob(JB):          </th>   <td>0.00, 0.00</td>  \n",
              "</tr>\n",
              "<tr>\n",
              "  <th>Heteroskedasticity (H):</th>  <td>6.15, 2.58</td>  <th>  Skew:              </th>   <td>1.43, -0.30</td> \n",
              "</tr>\n",
              "<tr>\n",
              "  <th>Prob(H) (two-sided):</th>     <td>0.00, 0.00</td>  <th>  Kurtosis:          </th>   <td>10.66, 6.55</td> \n",
              "</tr>\n",
              "</table>\n",
              "<table class=\"simpletable\">\n",
              "<caption>Results for equation Money</caption>\n",
              "<tr>\n",
              "         <td></td>           <th>coef</th>     <th>std err</th>      <th>z</th>      <th>P>|z|</th>  <th>[0.025</th>    <th>0.975]</th>  \n",
              "</tr>\n",
              "<tr>\n",
              "  <th>intercept</th>      <td>    0.0376</td> <td>    0.586</td> <td>    0.064</td> <td> 0.949</td> <td>   -1.110</td> <td>    1.185</td>\n",
              "</tr>\n",
              "<tr>\n",
              "  <th>L1.Money</th>       <td>   -0.5308</td> <td>    1.595</td> <td>   -0.333</td> <td> 0.739</td> <td>   -3.656</td> <td>    2.594</td>\n",
              "</tr>\n",
              "<tr>\n",
              "  <th>L1.Spending</th>    <td>    0.2369</td> <td>    1.814</td> <td>    0.131</td> <td> 0.896</td> <td>   -3.318</td> <td>    3.792</td>\n",
              "</tr>\n",
              "<tr>\n",
              "  <th>L1.e(Money)</th>    <td>   -0.2578</td> <td>    1.602</td> <td>   -0.161</td> <td> 0.872</td> <td>   -3.397</td> <td>    2.881</td>\n",
              "</tr>\n",
              "<tr>\n",
              "  <th>L1.e(Spending)</th> <td>   -0.3196</td> <td>    1.822</td> <td>   -0.175</td> <td> 0.861</td> <td>   -3.890</td> <td>    3.251</td>\n",
              "</tr>\n",
              "<tr>\n",
              "  <th>L2.e(Money)</th>    <td>   -0.7056</td> <td>    1.475</td> <td>   -0.478</td> <td> 0.632</td> <td>   -3.596</td> <td>    2.185</td>\n",
              "</tr>\n",
              "<tr>\n",
              "  <th>L2.e(Spending)</th> <td>    0.2459</td> <td>    1.584</td> <td>    0.155</td> <td> 0.877</td> <td>   -2.860</td> <td>    3.351</td>\n",
              "</tr>\n",
              "</table>\n",
              "<table class=\"simpletable\">\n",
              "<caption>Results for equation Spending</caption>\n",
              "<tr>\n",
              "         <td></td>           <th>coef</th>     <th>std err</th>      <th>z</th>      <th>P>|z|</th>  <th>[0.025</th>    <th>0.975]</th>  \n",
              "</tr>\n",
              "<tr>\n",
              "  <th>intercept</th>      <td>    0.5246</td> <td>    0.935</td> <td>    0.561</td> <td> 0.575</td> <td>   -1.307</td> <td>    2.356</td>\n",
              "</tr>\n",
              "<tr>\n",
              "  <th>L1.Money</th>       <td>    0.1479</td> <td>    2.245</td> <td>    0.066</td> <td> 0.947</td> <td>   -4.253</td> <td>    4.549</td>\n",
              "</tr>\n",
              "<tr>\n",
              "  <th>L1.Spending</th>    <td>   -0.5548</td> <td>    2.638</td> <td>   -0.210</td> <td> 0.833</td> <td>   -5.725</td> <td>    4.615</td>\n",
              "</tr>\n",
              "<tr>\n",
              "  <th>L1.e(Money)</th>    <td>   -0.0410</td> <td>    2.233</td> <td>   -0.018</td> <td> 0.985</td> <td>   -4.417</td> <td>    4.335</td>\n",
              "</tr>\n",
              "<tr>\n",
              "  <th>L1.e(Spending)</th> <td>   -0.3890</td> <td>    2.650</td> <td>   -0.147</td> <td> 0.883</td> <td>   -5.582</td> <td>    4.804</td>\n",
              "</tr>\n",
              "<tr>\n",
              "  <th>L2.e(Money)</th>    <td>   -0.0327</td> <td>    2.054</td> <td>   -0.016</td> <td> 0.987</td> <td>   -4.059</td> <td>    3.993</td>\n",
              "</tr>\n",
              "<tr>\n",
              "  <th>L2.e(Spending)</th> <td>   -0.4390</td> <td>    2.306</td> <td>   -0.190</td> <td> 0.849</td> <td>   -4.959</td> <td>    4.081</td>\n",
              "</tr>\n",
              "</table>\n",
              "<table class=\"simpletable\">\n",
              "<caption>Error covariance matrix</caption>\n",
              "<tr>\n",
              "             <td></td>                <th>coef</th>     <th>std err</th>      <th>z</th>      <th>P>|z|</th>  <th>[0.025</th>    <th>0.975]</th>  \n",
              "</tr>\n",
              "<tr>\n",
              "  <th>sqrt.var.Money</th>          <td>   25.5668</td> <td>    1.050</td> <td>   24.357</td> <td> 0.000</td> <td>   23.509</td> <td>   27.624</td>\n",
              "</tr>\n",
              "<tr>\n",
              "  <th>sqrt.cov.Money.Spending</th> <td>   -7.3732</td> <td>    2.108</td> <td>   -3.498</td> <td> 0.000</td> <td>  -11.505</td> <td>   -3.241</td>\n",
              "</tr>\n",
              "<tr>\n",
              "  <th>sqrt.var.Spending</th>       <td>   35.0980</td> <td>    1.378</td> <td>   25.473</td> <td> 0.000</td> <td>   32.397</td> <td>   37.798</td>\n",
              "</tr>\n",
              "</table><br/><br/>Warnings:<br/>[1] Covariance matrix calculated using the outer product of gradients (complex-step)."
            ],
            "text/plain": [
              "<class 'statsmodels.iolib.summary.Summary'>\n",
              "\"\"\"\n",
              "                             Statespace Model Results                            \n",
              "=================================================================================\n",
              "Dep. Variable:     ['Money', 'Spending']   No. Observations:                  238\n",
              "Model:                        VARMA(1,2)   Log Likelihood               -2291.785\n",
              "                             + intercept   AIC                           4617.570\n",
              "Date:                   Mon, 16 Nov 2020   BIC                           4676.598\n",
              "Time:                           23:14:08   HQIC                          4641.359\n",
              "Sample:                       03-01-1995                                         \n",
              "                            - 12-01-2014                                         \n",
              "Covariance Type:                     opg                                         \n",
              "===================================================================================\n",
              "Ljung-Box (Q):                71.60, 30.32   Jarque-Bera (JB):       663.32, 128.32\n",
              "Prob(Q):                        0.00, 0.87   Prob(JB):                   0.00, 0.00\n",
              "Heteroskedasticity (H):         6.15, 2.58   Skew:                      1.43, -0.30\n",
              "Prob(H) (two-sided):            0.00, 0.00   Kurtosis:                  10.66, 6.55\n",
              "                            Results for equation Money                            \n",
              "==================================================================================\n",
              "                     coef    std err          z      P>|z|      [0.025      0.975]\n",
              "----------------------------------------------------------------------------------\n",
              "intercept          0.0376      0.586      0.064      0.949      -1.110       1.185\n",
              "L1.Money          -0.5308      1.595     -0.333      0.739      -3.656       2.594\n",
              "L1.Spending        0.2369      1.814      0.131      0.896      -3.318       3.792\n",
              "L1.e(Money)       -0.2578      1.602     -0.161      0.872      -3.397       2.881\n",
              "L1.e(Spending)    -0.3196      1.822     -0.175      0.861      -3.890       3.251\n",
              "L2.e(Money)       -0.7056      1.475     -0.478      0.632      -3.596       2.185\n",
              "L2.e(Spending)     0.2459      1.584      0.155      0.877      -2.860       3.351\n",
              "                          Results for equation Spending                           \n",
              "==================================================================================\n",
              "                     coef    std err          z      P>|z|      [0.025      0.975]\n",
              "----------------------------------------------------------------------------------\n",
              "intercept          0.5246      0.935      0.561      0.575      -1.307       2.356\n",
              "L1.Money           0.1479      2.245      0.066      0.947      -4.253       4.549\n",
              "L1.Spending       -0.5548      2.638     -0.210      0.833      -5.725       4.615\n",
              "L1.e(Money)       -0.0410      2.233     -0.018      0.985      -4.417       4.335\n",
              "L1.e(Spending)    -0.3890      2.650     -0.147      0.883      -5.582       4.804\n",
              "L2.e(Money)       -0.0327      2.054     -0.016      0.987      -4.059       3.993\n",
              "L2.e(Spending)    -0.4390      2.306     -0.190      0.849      -4.959       4.081\n",
              "                                  Error covariance matrix                                  \n",
              "===========================================================================================\n",
              "                              coef    std err          z      P>|z|      [0.025      0.975]\n",
              "-------------------------------------------------------------------------------------------\n",
              "sqrt.var.Money             25.5668      1.050     24.357      0.000      23.509      27.624\n",
              "sqrt.cov.Money.Spending    -7.3732      2.108     -3.498      0.000     -11.505      -3.241\n",
              "sqrt.var.Spending          35.0980      1.378     25.473      0.000      32.397      37.798\n",
              "===========================================================================================\n",
              "\n",
              "Warnings:\n",
              "[1] Covariance matrix calculated using the outer product of gradients (complex-step).\n",
              "\"\"\""
            ]
          },
          "metadata": {
            "tags": []
          },
          "execution_count": 30
        }
      ]
    },
    {
      "cell_type": "code",
      "metadata": {
        "id": "X7BCsoa5VlBS"
      },
      "source": [
        "# Add the most recent first difference from the training side of the original dataset to the forecast cumulative sum\n",
        "df_forecast['Money1d'] = (df['Money'].iloc[-nobs-1]-df['Money'].iloc[-nobs-2]) + df_forecast['Money'].cumsum()\n",
        "\n",
        "# Now build the forecast values from the first difference set\n",
        "df_forecast['MoneyForecast'] = df['Money'].iloc[-nobs-1] + df_forecast['Money'].cumsum()"
      ],
      "execution_count": null,
      "outputs": []
    },
    {
      "cell_type": "code",
      "metadata": {
        "id": "lLNAJ4JLQ82Z",
        "outputId": "c4ae539e-40f5-4815-ab6e-244bd12e8937",
        "colab": {
          "base_uri": "https://localhost:8080/"
        }
      },
      "source": [
        "predictions=results.forecast(12)"
      ],
      "execution_count": 32,
      "outputs": [
        {
          "output_type": "stream",
          "text": [
            "/usr/local/lib/python3.6/dist-packages/statsmodels/tsa/statespace/varmax.py:163: EstimationWarning: Estimation of VARMA(p,q) models is not generically robust, due especially to identification issues.\n",
            "  EstimationWarning)\n"
          ],
          "name": "stderr"
        }
      ]
    },
    {
      "cell_type": "code",
      "metadata": {
        "id": "y7N_2vUCVrpa",
        "outputId": "b20b4845-3492-474d-864c-d6738ae86af2",
        "colab": {
          "base_uri": "https://localhost:8080/",
          "height": 569
        }
      },
      "source": [
        "predictions.plot()\n",
        "test.plot()"
      ],
      "execution_count": 34,
      "outputs": [
        {
          "output_type": "execute_result",
          "data": {
            "text/plain": [
              "<matplotlib.axes._subplots.AxesSubplot at 0x7fd3ef6e00b8>"
            ]
          },
          "metadata": {
            "tags": []
          },
          "execution_count": 34
        },
        {
          "output_type": "display_data",
          "data": {
            "image/png": "[encoded data removed]",
            "text/plain": [
              "<Figure size 432x288 with 1 Axes>"
            ]
          },
          "metadata": {
            "tags": [],
            "needs_background": "light"
          }
        },
        {
          "output_type": "display_data",
          "data": {
            "image/png": "[encoded data removed]",
            "text/plain": [
              "<Figure size 432x288 with 1 Axes>"
            ]
          },
          "metadata": {
            "tags": [],
            "needs_background": "light"
          }
        }
      ]
    },
    {
      "cell_type": "code",
      "metadata": {
        "id": "GF0NfLiyMFQC",
        "outputId": "850fa815-d067-4312-d507-93492913e2df",
        "colab": {
          "base_uri": "https://localhost:8080/",
          "height": 226
        }
      },
      "source": [
        "train.head()"
      ],
      "execution_count": 17,
      "outputs": [
        {
          "output_type": "execute_result",
          "data": {
            "text/html": [
              "<div>\n",
              "<style scoped>\n",
              "    .dataframe tbody tr th:only-of-type {\n",
              "        vertical-align: middle;\n",
              "    }\n",
              "\n",
              "    .dataframe tbody tr th {\n",
              "        vertical-align: top;\n",
              "    }\n",
              "\n",
              "    .dataframe thead th {\n",
              "        text-align: right;\n",
              "    }\n",
              "</style>\n",
              "<table border=\"1\" class=\"dataframe\">\n",
              "  <thead>\n",
              "    <tr style=\"text-align: right;\">\n",
              "      <th></th>\n",
              "      <th>Money</th>\n",
              "    </tr>\n",
              "    <tr>\n",
              "      <th>Date</th>\n",
              "      <th></th>\n",
              "    </tr>\n",
              "  </thead>\n",
              "  <tbody>\n",
              "    <tr>\n",
              "      <th>1995-03-01</th>\n",
              "      <td>3.7</td>\n",
              "    </tr>\n",
              "    <tr>\n",
              "      <th>1995-04-01</th>\n",
              "      <td>6.9</td>\n",
              "    </tr>\n",
              "    <tr>\n",
              "      <th>1995-05-01</th>\n",
              "      <td>16.9</td>\n",
              "    </tr>\n",
              "    <tr>\n",
              "      <th>1995-06-01</th>\n",
              "      <td>-0.3</td>\n",
              "    </tr>\n",
              "    <tr>\n",
              "      <th>1995-07-01</th>\n",
              "      <td>-6.2</td>\n",
              "    </tr>\n",
              "  </tbody>\n",
              "</table>\n",
              "</div>"
            ],
            "text/plain": [
              "            Money\n",
              "Date             \n",
              "1995-03-01    3.7\n",
              "1995-04-01    6.9\n",
              "1995-05-01   16.9\n",
              "1995-06-01   -0.3\n",
              "1995-07-01   -6.2"
            ]
          },
          "metadata": {
            "tags": []
          },
          "execution_count": 17
        }
      ]
    }
  ]
}