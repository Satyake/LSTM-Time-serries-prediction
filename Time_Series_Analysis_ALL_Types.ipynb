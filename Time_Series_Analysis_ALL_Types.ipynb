{
  "nbformat": 4,
  "nbformat_minor": 0,
  "metadata": {
    "colab": {
      "name": "Time-Series-Analysis-ALL Types",
      "provenance": [],
      "collapsed_sections": [],
      "authorship_tag": "ABX9TyM6t1+/hsRZV3b2ur/3Kr+8",
      "include_colab_link": true
    },
    "kernelspec": {
      "name": "python3",
      "display_name": "Python 3"
    },
    "language_info": {
      "name": "python"
    }
  },
  "cells": [
    {
      "cell_type": "markdown",
      "metadata": {
        "id": "view-in-github",
        "colab_type": "text"
      },
      "source": [
        "<a href=\"https://colab.research.google.com/github/Satyake/Time-Series-Analysis-spagheti-code/blob/master/Time_Series_Analysis_ALL_Types.ipynb\" target=\"_parent\"><img src=\"https://colab.research.google.com/assets/colab-badge.svg\" alt=\"Open In Colab\"/></a>"
      ]
    },
    {
      "cell_type": "code",
      "metadata": {
        "id": "mYRSxWccL1OF"
      },
      "source": [
        "import pandas as pd\n",
        "import numpy as np \n",
        "%matplotlib inline"
      ],
      "execution_count": 2,
      "outputs": []
    },
    {
      "cell_type": "code",
      "metadata": {
        "id": "-MYDhzeuI9gI"
      },
      "source": [
        ""
      ],
      "execution_count": null,
      "outputs": []
    },
    {
      "cell_type": "code",
      "metadata": {
        "id": "MlBC4nQWJDJY"
      },
      "source": [
        ""
      ],
      "execution_count": null,
      "outputs": []
    },
    {
      "cell_type": "code",
      "metadata": {
        "id": "xki_wyMFMyXo"
      },
      "source": [
        "airlines=pd.read_csv('/content/airline_passengers.csv',parse_dates=True,index_col='Month')"
      ],
      "execution_count": null,
      "outputs": []
    },
    {
      "cell_type": "code",
      "metadata": {
        "colab": {
          "base_uri": "https://localhost:8080/",
          "height": 110
        },
        "id": "rZuS7-jVNF8C",
        "outputId": "9c6d1ba1-6100-43f1-fa82-874a9e118740"
      },
      "source": [
        "airlines.head(1)"
      ],
      "execution_count": null,
      "outputs": [
        {
          "output_type": "execute_result",
          "data": {
            "text/html": [
              "<div>\n",
              "<style scoped>\n",
              "    .dataframe tbody tr th:only-of-type {\n",
              "        vertical-align: middle;\n",
              "    }\n",
              "\n",
              "    .dataframe tbody tr th {\n",
              "        vertical-align: top;\n",
              "    }\n",
              "\n",
              "    .dataframe thead th {\n",
              "        text-align: right;\n",
              "    }\n",
              "</style>\n",
              "<table border=\"1\" class=\"dataframe\">\n",
              "  <thead>\n",
              "    <tr style=\"text-align: right;\">\n",
              "      <th></th>\n",
              "      <th>Thousands of Passengers</th>\n",
              "    </tr>\n",
              "    <tr>\n",
              "      <th>Month</th>\n",
              "      <th></th>\n",
              "    </tr>\n",
              "  </thead>\n",
              "  <tbody>\n",
              "    <tr>\n",
              "      <th>1949-01-01</th>\n",
              "      <td>112</td>\n",
              "    </tr>\n",
              "  </tbody>\n",
              "</table>\n",
              "</div>"
            ],
            "text/plain": [
              "            Thousands of Passengers\n",
              "Month                              \n",
              "1949-01-01                      112"
            ]
          },
          "metadata": {
            "tags": []
          },
          "execution_count": 6
        }
      ]
    },
    {
      "cell_type": "code",
      "metadata": {
        "id": "S9NIN0hsM3Zz"
      },
      "source": [
        "airlines.dropna(inplace=True)"
      ],
      "execution_count": null,
      "outputs": []
    },
    {
      "cell_type": "code",
      "metadata": {
        "colab": {
          "base_uri": "https://localhost:8080/",
          "height": 296
        },
        "id": "OV2je8TXM6QW",
        "outputId": "7440ec54-4340-401f-ddbe-5be577812eef"
      },
      "source": [
        "airlines.plot()"
      ],
      "execution_count": null,
      "outputs": [
        {
          "output_type": "execute_result",
          "data": {
            "text/plain": [
              "<matplotlib.axes._subplots.AxesSubplot at 0x7f568c496d50>"
            ]
          },
          "metadata": {
            "tags": []
          },
          "execution_count": 10
        },
        {
          "output_type": "display_data",
          "data": {
            "image/png": "[encoded data removed]",
            "text/plain": [
              "<Figure size 432x288 with 1 Axes>"
            ]
          },
          "metadata": {
            "tags": [],
            "needs_background": "light"
          }
        }
      ]
    },
    {
      "cell_type": "code",
      "metadata": {
        "id": "Mcmcc4KHNNvj"
      },
      "source": [
        "from statsmodels.tsa.seasonal import seasonal_decompose"
      ],
      "execution_count": null,
      "outputs": []
    },
    {
      "cell_type": "code",
      "metadata": {
        "id": "eBU0Mya0NQe9"
      },
      "source": [
        "results=seasonal_decompose(airlines['Thousands of Passengers'],model='additive')"
      ],
      "execution_count": null,
      "outputs": []
    },
    {
      "cell_type": "code",
      "metadata": {
        "colab": {
          "base_uri": "https://localhost:8080/",
          "height": 297
        },
        "id": "9DavnJmANWhl",
        "outputId": "46ca3e42-7ffc-41ce-e091-6906386ed4ae"
      },
      "source": [
        "results.plot();"
      ],
      "execution_count": null,
      "outputs": [
        {
          "output_type": "display_data",
          "data": {
            "image/png": "[encoded data removed]",
            "text/plain": [
              "<Figure size 432x288 with 4 Axes>"
            ]
          },
          "metadata": {
            "tags": [],
            "needs_background": "light"
          }
        }
      ]
    },
    {
      "cell_type": "code",
      "metadata": {
        "colab": {
          "base_uri": "https://localhost:8080/"
        },
        "id": "P7jDdIlPOmlV",
        "outputId": "b818dcf5-4ee5-4102-f90b-5eb79fd49b9b"
      },
      "source": [
        "#EWMA and SMA\n",
        "airlines.index"
      ],
      "execution_count": null,
      "outputs": [
        {
          "output_type": "execute_result",
          "data": {
            "text/plain": [
              "DatetimeIndex(['1949-01-01', '1949-02-01', '1949-03-01', '1949-04-01',\n",
              "               '1949-05-01', '1949-06-01', '1949-07-01', '1949-08-01',\n",
              "               '1949-09-01', '1949-10-01',\n",
              "               ...\n",
              "               '1960-03-01', '1960-04-01', '1960-05-01', '1960-06-01',\n",
              "               '1960-07-01', '1960-08-01', '1960-09-01', '1960-10-01',\n",
              "               '1960-11-01', '1960-12-01'],\n",
              "              dtype='datetime64[ns]', name='Month', length=144, freq=None)"
            ]
          },
          "metadata": {
            "tags": []
          },
          "execution_count": 9
        }
      ]
    },
    {
      "cell_type": "code",
      "metadata": {
        "id": "s9yBFkLaOyiE"
      },
      "source": [
        "airlines['6month-SMA']=airlines['Thousands of Passengers'].rolling(window=6).mean()\n",
        "airlines['12month-SMA']=airlines['Thousands of Passengers'].rolling(window=12).mean()"
      ],
      "execution_count": null,
      "outputs": []
    },
    {
      "cell_type": "code",
      "metadata": {
        "colab": {
          "base_uri": "https://localhost:8080/",
          "height": 296
        },
        "id": "gz2iq8gBO_mR",
        "outputId": "bb7b7fc3-e64e-4a4b-e504-94170ba16254"
      },
      "source": [
        "airlines['6month-SMA'].plot()\n",
        "airlines['12month-SMA'].plot()"
      ],
      "execution_count": null,
      "outputs": [
        {
          "output_type": "execute_result",
          "data": {
            "text/plain": [
              "<matplotlib.axes._subplots.AxesSubplot at 0x7f7f14629d10>"
            ]
          },
          "metadata": {
            "tags": []
          },
          "execution_count": 11
        },
        {
          "output_type": "display_data",
          "data": {
            "image/png": "[encoded data removed]",
            "text/plain": [
              "<Figure size 432x288 with 1 Axes>"
            ]
          },
          "metadata": {
            "tags": [],
            "needs_background": "light"
          }
        }
      ]
    },
    {
      "cell_type": "code",
      "metadata": {
        "id": "sk4LOSOAPPJn"
      },
      "source": [
        "airlines['EWMA']=airlines['Thousands of Passengers'].ewm(span=15,adjust=False).mean()\n",
        "#month values so used span=12\n",
        "\n"
      ],
      "execution_count": null,
      "outputs": []
    },
    {
      "cell_type": "code",
      "metadata": {
        "colab": {
          "base_uri": "https://localhost:8080/",
          "height": 296
        },
        "id": "91J1EPpZPk2o",
        "outputId": "f6ae268f-b6a1-41b7-d5eb-aca3380d2c0b"
      },
      "source": [
        "airlines['Thousands of Passengers'].plot()\n",
        "airlines['EWMA'].plot()"
      ],
      "execution_count": null,
      "outputs": [
        {
          "output_type": "execute_result",
          "data": {
            "text/plain": [
              "<matplotlib.axes._subplots.AxesSubplot at 0x7f7f1461b990>"
            ]
          },
          "metadata": {
            "tags": []
          },
          "execution_count": 13
        },
        {
          "output_type": "display_data",
          "data": {
            "image/png": "[encoded data removed]",
            "text/plain": [
              "<Figure size 432x288 with 1 Axes>"
            ]
          },
          "metadata": {
            "tags": [],
            "needs_background": "light"
          }
        }
      ]
    },
    {
      "cell_type": "code",
      "metadata": {
        "id": "fGN5KpTgRDIa"
      },
      "source": [
        "#Forecasting\n",
        "airlines.index.freq='MS'\n"
      ],
      "execution_count": null,
      "outputs": []
    },
    {
      "cell_type": "code",
      "metadata": {
        "colab": {
          "base_uri": "https://localhost:8080/",
          "height": 233
        },
        "id": "bfC-UTPkUTs6",
        "outputId": "0c4b8677-6333-40b4-dfc4-42fa2946627c"
      },
      "source": [
        "airlines.tail()"
      ],
      "execution_count": null,
      "outputs": [
        {
          "output_type": "execute_result",
          "data": {
            "text/html": [
              "<div>\n",
              "<style scoped>\n",
              "    .dataframe tbody tr th:only-of-type {\n",
              "        vertical-align: middle;\n",
              "    }\n",
              "\n",
              "    .dataframe tbody tr th {\n",
              "        vertical-align: top;\n",
              "    }\n",
              "\n",
              "    .dataframe thead th {\n",
              "        text-align: right;\n",
              "    }\n",
              "</style>\n",
              "<table border=\"1\" class=\"dataframe\">\n",
              "  <thead>\n",
              "    <tr style=\"text-align: right;\">\n",
              "      <th></th>\n",
              "      <th>Thousands of Passengers</th>\n",
              "      <th>6month-SMA</th>\n",
              "      <th>12month-SMA</th>\n",
              "      <th>EWMA</th>\n",
              "    </tr>\n",
              "    <tr>\n",
              "      <th>Month</th>\n",
              "      <th></th>\n",
              "      <th></th>\n",
              "      <th></th>\n",
              "      <th></th>\n",
              "    </tr>\n",
              "  </thead>\n",
              "  <tbody>\n",
              "    <tr>\n",
              "      <th>1960-08-01</th>\n",
              "      <td>606</td>\n",
              "      <td>519.166667</td>\n",
              "      <td>463.333333</td>\n",
              "      <td>482.122646</td>\n",
              "    </tr>\n",
              "    <tr>\n",
              "      <th>1960-09-01</th>\n",
              "      <td>508</td>\n",
              "      <td>534.000000</td>\n",
              "      <td>467.083333</td>\n",
              "      <td>485.357315</td>\n",
              "    </tr>\n",
              "    <tr>\n",
              "      <th>1960-10-01</th>\n",
              "      <td>461</td>\n",
              "      <td>534.000000</td>\n",
              "      <td>471.583333</td>\n",
              "      <td>482.312651</td>\n",
              "    </tr>\n",
              "    <tr>\n",
              "      <th>1960-11-01</th>\n",
              "      <td>390</td>\n",
              "      <td>520.333333</td>\n",
              "      <td>473.916667</td>\n",
              "      <td>470.773569</td>\n",
              "    </tr>\n",
              "    <tr>\n",
              "      <th>1960-12-01</th>\n",
              "      <td>432</td>\n",
              "      <td>503.166667</td>\n",
              "      <td>476.166667</td>\n",
              "      <td>465.926873</td>\n",
              "    </tr>\n",
              "  </tbody>\n",
              "</table>\n",
              "</div>"
            ],
            "text/plain": [
              "            Thousands of Passengers  6month-SMA  12month-SMA        EWMA\n",
              "Month                                                                   \n",
              "1960-08-01                      606  519.166667   463.333333  482.122646\n",
              "1960-09-01                      508  534.000000   467.083333  485.357315\n",
              "1960-10-01                      461  534.000000   471.583333  482.312651\n",
              "1960-11-01                      390  520.333333   473.916667  470.773569\n",
              "1960-12-01                      432  503.166667   476.166667  465.926873"
            ]
          },
          "metadata": {
            "tags": []
          },
          "execution_count": 16
        }
      ]
    },
    {
      "cell_type": "code",
      "metadata": {
        "colab": {
          "base_uri": "https://localhost:8080/"
        },
        "id": "MZmGgmYtVXWl",
        "outputId": "2ccf9e62-9b01-4efc-946e-6611562aa20a"
      },
      "source": [
        "len(airlines)"
      ],
      "execution_count": null,
      "outputs": [
        {
          "output_type": "execute_result",
          "data": {
            "text/plain": [
              "144"
            ]
          },
          "metadata": {
            "tags": []
          },
          "execution_count": 17
        }
      ]
    },
    {
      "cell_type": "code",
      "metadata": {
        "id": "jd5MqQZNVbTL"
      },
      "source": [
        "train_data=airlines.iloc[:100]\n",
        "test_data=airlines.iloc[100:]"
      ],
      "execution_count": null,
      "outputs": []
    },
    {
      "cell_type": "code",
      "metadata": {
        "id": "Tc6Q2-qlVjFu"
      },
      "source": [
        "from statsmodels.tsa.holtwinters import ExponentialSmoothing#Holt Winters"
      ],
      "execution_count": null,
      "outputs": []
    },
    {
      "cell_type": "code",
      "metadata": {
        "id": "YgXjUxUjVsTv"
      },
      "source": [
        "fitted_model=ExponentialSmoothing(train_data['Thousands of Passengers'],trend='mul',seasonal='mul',seasonal_periods=12)"
      ],
      "execution_count": null,
      "outputs": []
    },
    {
      "cell_type": "code",
      "metadata": {
        "id": "ZUsmrAs3V9zy"
      },
      "source": [
        "fitted_model=fitted_model.fit()"
      ],
      "execution_count": null,
      "outputs": []
    },
    {
      "cell_type": "code",
      "metadata": {
        "id": "eZeylu1nV_X5"
      },
      "source": [
        "test_predictions=fitted_model.forecast(39) #36 periods in the future"
      ],
      "execution_count": null,
      "outputs": []
    },
    {
      "cell_type": "code",
      "metadata": {
        "id": "PN1NLryRWbgj"
      },
      "source": [
        "test_predictions"
      ],
      "execution_count": null,
      "outputs": []
    },
    {
      "cell_type": "code",
      "metadata": {
        "id": "wuoNWS_S9rCd"
      },
      "source": [
        "import matplotlib.pyplot as plt\n"
      ],
      "execution_count": null,
      "outputs": []
    },
    {
      "cell_type": "code",
      "metadata": {
        "colab": {
          "base_uri": "https://localhost:8080/",
          "height": 281
        },
        "id": "Gva-oPVGWLQI",
        "outputId": "eea81720-a0ea-4659-894b-747eb3105989"
      },
      "source": [
        "plt.plot(test_data['Thousands of Passengers'],label='Test')\n",
        "plt.plot(test_predictions,label='Predictions')\n",
        "plt.plot(train_data['Thousands of Passengers'],label='Train')"
      ],
      "execution_count": null,
      "outputs": [
        {
          "output_type": "execute_result",
          "data": {
            "text/plain": [
              "[<matplotlib.lines.Line2D at 0x7f7f0ed9da50>]"
            ]
          },
          "metadata": {
            "tags": []
          },
          "execution_count": 40
        },
        {
          "output_type": "display_data",
          "data": {
            "image/png": "[encoded data removed]",
            "text/plain": [
              "<Figure size 432x288 with 1 Axes>"
            ]
          },
          "metadata": {
            "tags": [],
            "needs_background": "light"
          }
        }
      ]
    },
    {
      "cell_type": "code",
      "metadata": {
        "id": "jtNRIamLWgtt"
      },
      "source": [
        "import statsmodels.api as sm\n",
        "from statsmodels.tsa.stattools import acf,pacf\n",
        "from statsmodels.graphics.tsaplots import plot_acf ,plot_pacf"
      ],
      "execution_count": null,
      "outputs": []
    },
    {
      "cell_type": "code",
      "metadata": {
        "id": "ounrdJjLhycc"
      },
      "source": [
        "#non stationary\n",
        "#stationary\n",
        "df2=pd.read_csv('/content/DailyTotalFemaleBirths.csv',index_col='Date')"
      ],
      "execution_count": null,
      "outputs": []
    },
    {
      "cell_type": "code",
      "metadata": {
        "id": "7jTd4uGKiGyF"
      },
      "source": [
        "df2.head()"
      ],
      "execution_count": null,
      "outputs": []
    },
    {
      "cell_type": "code",
      "metadata": {
        "id": "maLx8vcpi4yB"
      },
      "source": [
        ""
      ],
      "execution_count": null,
      "outputs": []
    },
    {
      "cell_type": "code",
      "metadata": {
        "colab": {
          "base_uri": "https://localhost:8080/",
          "height": 281
        },
        "id": "Rg-6ulOkiWZE",
        "outputId": "7ea708d1-ee47-4d15-e09d-305478b75a68"
      },
      "source": [
        "plot_acf(airlines['Thousands of Passengers']);  \n"
      ],
      "execution_count": null,
      "outputs": [
        {
          "output_type": "display_data",
          "data": {
            "image/png": "[encoded data removed]",
            "text/plain": [
              "<Figure size 432x288 with 1 Axes>"
            ]
          },
          "metadata": {
            "tags": [],
            "needs_background": "light"
          }
        }
      ]
    },
    {
      "cell_type": "code",
      "metadata": {
        "id": "UnALYrOlP_uV"
      },
      "source": [
        ""
      ],
      "execution_count": null,
      "outputs": []
    },
    {
      "cell_type": "code",
      "metadata": {
        "colab": {
          "base_uri": "https://localhost:8080/",
          "height": 281
        },
        "id": "sRwnEKG4i1aV",
        "outputId": "e509d352-472e-4d7d-86ee-bb01db8c04b4"
      },
      "source": [
        "plot_acf(df2['Births']);"
      ],
      "execution_count": null,
      "outputs": [
        {
          "output_type": "display_data",
          "data": {
            "image/png": "[encoded data removed]",
            "text/plain": [
              "<Figure size 432x288 with 1 Axes>"
            ]
          },
          "metadata": {
            "tags": [],
            "needs_background": "light"
          }
        }
      ]
    },
    {
      "cell_type": "code",
      "metadata": {
        "id": "3vWIa_w4QAPW"
      },
      "source": [
        "#AR Model\n",
        "from statsmodels.tsa.ar_model import AR, ARResults"
      ],
      "execution_count": null,
      "outputs": []
    },
    {
      "cell_type": "code",
      "metadata": {
        "id": "w43KFd1qQInn"
      },
      "source": [
        "uspop=pd.read_csv('/content/uspopulation.csv',index_col='DATE',parse_dates=True)"
      ],
      "execution_count": null,
      "outputs": []
    },
    {
      "cell_type": "code",
      "metadata": {
        "colab": {
          "base_uri": "https://localhost:8080/",
          "height": 296
        },
        "id": "7GweJxsYQRO2",
        "outputId": "5b8eeedd-b8c5-48b9-dff6-a22f8cd0b1aa"
      },
      "source": [
        "uspop.plot()"
      ],
      "execution_count": null,
      "outputs": [
        {
          "output_type": "execute_result",
          "data": {
            "text/plain": [
              "<matplotlib.axes._subplots.AxesSubplot at 0x7f7f00801c50>"
            ]
          },
          "metadata": {
            "tags": []
          },
          "execution_count": 61
        },
        {
          "output_type": "display_data",
          "data": {
            "image/png": "[encoded data removed]",
            "text/plain": [
              "<Figure size 432x288 with 1 Axes>"
            ]
          },
          "metadata": {
            "tags": [],
            "needs_background": "light"
          }
        }
      ]
    },
    {
      "cell_type": "code",
      "metadata": {
        "id": "D-7dvIisQh-y"
      },
      "source": [
        "train=uspop.iloc[:84]\n",
        "test=uspop.iloc[84:]"
      ],
      "execution_count": null,
      "outputs": []
    },
    {
      "cell_type": "code",
      "metadata": {
        "colab": {
          "base_uri": "https://localhost:8080/"
        },
        "id": "UGtVyWKHQuM8",
        "outputId": "3a2fc158-c831-479d-81e1-67fed5855857"
      },
      "source": [
        "model=AR(train['PopEst'])\n"
      ],
      "execution_count": null,
      "outputs": [
        {
          "output_type": "stream",
          "text": [
            "/usr/local/lib/python3.7/dist-packages/statsmodels/tsa/base/tsa_model.py:165: ValueWarning: No frequency information was provided, so inferred frequency MS will be used.\n",
            "  % freq, ValueWarning)\n"
          ],
          "name": "stderr"
        }
      ]
    },
    {
      "cell_type": "code",
      "metadata": {
        "id": "OP_EbomoQ35a"
      },
      "source": [
        "AR1fit=model.fit(ic='t-stat')"
      ],
      "execution_count": null,
      "outputs": []
    },
    {
      "cell_type": "code",
      "metadata": {
        "colab": {
          "base_uri": "https://localhost:8080/"
        },
        "id": "9kSE634LRISN",
        "outputId": "40a38b2e-e798-4696-8338-5f6626591c13"
      },
      "source": [
        "AR1fit.k_ar  #order"
      ],
      "execution_count": null,
      "outputs": [
        {
          "output_type": "execute_result",
          "data": {
            "text/plain": [
              "2"
            ]
          },
          "metadata": {
            "tags": []
          },
          "execution_count": 81
        }
      ]
    },
    {
      "cell_type": "code",
      "metadata": {
        "colab": {
          "base_uri": "https://localhost:8080/"
        },
        "id": "V6Znh1IIRWtD",
        "outputId": "e89fdf71-56d8-4a68-c1d7-47e5431dec8d"
      },
      "source": [
        "AR1fit.params"
      ],
      "execution_count": null,
      "outputs": [
        {
          "output_type": "execute_result",
          "data": {
            "text/plain": [
              "const        82.309677\n",
              "L1.PopEst     2.437997\n",
              "L2.PopEst    -2.302100\n",
              "L3.PopEst     1.565427\n",
              "L4.PopEst    -1.431211\n",
              "L5.PopEst     1.125022\n",
              "L6.PopEst    -0.919494\n",
              "L7.PopEst     0.963694\n",
              "L8.PopEst    -0.439511\n",
              "dtype: float64"
            ]
          },
          "metadata": {
            "tags": []
          },
          "execution_count": 87
        }
      ]
    },
    {
      "cell_type": "code",
      "metadata": {
        "colab": {
          "base_uri": "https://localhost:8080/"
        },
        "id": "JvvUIIseT76F",
        "outputId": "fcba9237-3a0e-4fce-9c0a-a67308c673c2"
      },
      "source": [
        "len(uspop)+12"
      ],
      "execution_count": null,
      "outputs": [
        {
          "output_type": "execute_result",
          "data": {
            "text/plain": [
              "108"
            ]
          },
          "metadata": {
            "tags": []
          },
          "execution_count": 93
        }
      ]
    },
    {
      "cell_type": "code",
      "metadata": {
        "id": "DRKqy78sRbnJ"
      },
      "source": [
        "start=len(train)\n",
        "end=len(train)+len(test)-1\n",
        "preds=AR1fit.predict(start=start,end=end)\n"
      ],
      "execution_count": null,
      "outputs": []
    },
    {
      "cell_type": "code",
      "metadata": {
        "colab": {
          "base_uri": "https://localhost:8080/",
          "height": 297
        },
        "id": "91RQ3ViWRuyk",
        "outputId": "c0dd1a33-480f-4261-bd3e-922a71d13596"
      },
      "source": [
        "plt.plot(preds)\n",
        "#plt.plot(train)\n",
        "plt.plot(test)\n",
        "plt.title('AR(2)')"
      ],
      "execution_count": null,
      "outputs": [
        {
          "output_type": "execute_result",
          "data": {
            "text/plain": [
              "Text(0.5, 1.0, 'AR(2)')"
            ]
          },
          "metadata": {
            "tags": []
          },
          "execution_count": 95
        },
        {
          "output_type": "display_data",
          "data": {
            "image/png": "[encoded data removed]",
            "text/plain": [
              "<Figure size 432x288 with 1 Axes>"
            ]
          },
          "metadata": {
            "tags": [],
            "needs_background": "light"
          }
        }
      ]
    },
    {
      "cell_type": "code",
      "metadata": {
        "colab": {
          "base_uri": "https://localhost:8080/"
        },
        "id": "ANjSaykSSHVJ",
        "outputId": "989805cf-0caf-44bb-ec07-1df874753b35"
      },
      "source": [
        "model=AR(uspop['PopEst'])\n",
        "fit=model.fit(ic='t-stat')"
      ],
      "execution_count": null,
      "outputs": [
        {
          "output_type": "stream",
          "text": [
            "/usr/local/lib/python3.7/dist-packages/statsmodels/tsa/base/tsa_model.py:165: ValueWarning: No frequency information was provided, so inferred frequency MS will be used.\n",
            "  % freq, ValueWarning)\n"
          ],
          "name": "stderr"
        }
      ]
    },
    {
      "cell_type": "code",
      "metadata": {
        "id": "F_c-FIbyUUgW"
      },
      "source": [
        "future=fit.predict(start=len(uspop),end=len(uspop)+12)"
      ],
      "execution_count": null,
      "outputs": []
    },
    {
      "cell_type": "code",
      "metadata": {
        "colab": {
          "base_uri": "https://localhost:8080/",
          "height": 297
        },
        "id": "-829AruEUc_N",
        "outputId": "06d2447d-0b74-47ef-b39b-815a8de8c55c"
      },
      "source": [
        "plt.plot(future)\n",
        "plt.title('AR(8) 12 steps into the future.')"
      ],
      "execution_count": null,
      "outputs": [
        {
          "output_type": "execute_result",
          "data": {
            "text/plain": [
              "Text(0.5, 1.0, 'AR(8) 12 steps into the future.')"
            ]
          },
          "metadata": {
            "tags": []
          },
          "execution_count": 101
        },
        {
          "output_type": "display_data",
          "data": {
            "image/png": "[encoded data removed]",
            "text/plain": [
              "<Figure size 432x288 with 1 Axes>"
            ]
          },
          "metadata": {
            "tags": [],
            "needs_background": "light"
          }
        }
      ]
    },
    {
      "cell_type": "code",
      "metadata": {
        "id": "OOnOm9cOUm15"
      },
      "source": [
        "from statsmodels.tsa.stattools import adfuller\n",
        "#adfuller(airlines['Thousands of Passengers'],)\n",
        "#Time Serries is Non-Stationary. P>0.05 (Reject Null Hypothesis, Series is non-stationary)\n",
        "#p<0.05 (fail to reject null hypothesis, Series is statonary)"
      ],
      "execution_count": null,
      "outputs": []
    },
    {
      "cell_type": "code",
      "metadata": {
        "colab": {
          "base_uri": "https://localhost:8080/"
        },
        "id": "pmcr0e3wjEmy",
        "outputId": "b29451c4-dc0e-413e-d60b-0ec623ff07ba"
      },
      "source": [
        "adfuller(airlines['Thousands of Passengers'])"
      ],
      "execution_count": null,
      "outputs": [
        {
          "output_type": "execute_result",
          "data": {
            "text/plain": [
              "(0.8153688792060418,\n",
              " 0.9918802434376409,\n",
              " 13,\n",
              " 130,\n",
              " {'1%': -3.4816817173418295,\n",
              "  '10%': -2.578770059171598,\n",
              "  '5%': -2.8840418343195267},\n",
              " 996.692930839019)"
            ]
          },
          "metadata": {
            "tags": []
          },
          "execution_count": 152
        }
      ]
    },
    {
      "cell_type": "code",
      "metadata": {
        "id": "XEbxNlUsitQD"
      },
      "source": [
        "\n",
        "#Causailty-Grangers Causlality Test\n",
        "\n",
        "df4=pd.read_csv('/content/samples.csv')"
      ],
      "execution_count": null,
      "outputs": []
    },
    {
      "cell_type": "code",
      "metadata": {
        "colab": {
          "base_uri": "https://localhost:8080/",
          "height": 284
        },
        "id": "hZ-F1EIZ1NyP",
        "outputId": "cd4ac9dc-5bfb-4252-a5d9-8041092e2c8f"
      },
      "source": [
        "df4['a'].plot()\n",
        "df4['b'].plot()"
      ],
      "execution_count": null,
      "outputs": [
        {
          "output_type": "execute_result",
          "data": {
            "text/plain": [
              "<matplotlib.axes._subplots.AxesSubplot at 0x7f7f00494250>"
            ]
          },
          "metadata": {
            "tags": []
          },
          "execution_count": 110
        },
        {
          "output_type": "display_data",
          "data": {
            "image/png": "[encoded data removed]",
            "text/plain": [
              "<Figure size 432x288 with 1 Axes>"
            ]
          },
          "metadata": {
            "tags": [],
            "needs_background": "light"
          }
        }
      ]
    },
    {
      "cell_type": "code",
      "metadata": {
        "id": "NLDh-TAl1Y6d"
      },
      "source": [
        "from statsmodels.tsa.stattools import grangercausalitytests\n"
      ],
      "execution_count": null,
      "outputs": []
    },
    {
      "cell_type": "code",
      "metadata": {
        "colab": {
          "base_uri": "https://localhost:8080/"
        },
        "id": "RQcg5N3V160R",
        "outputId": "3f4b87e8-4c7a-434e-e0e9-f2e5816f649a"
      },
      "source": [
        "grangercausalitytests(df4[['a','d']],maxlag=2)"
      ],
      "execution_count": null,
      "outputs": [
        {
          "output_type": "stream",
          "text": [
            "\n",
            "Granger Causality\n",
            "number of lags (no zero) 1\n",
            "ssr based F test:         F=1.7051  , p=0.1942  , df_denom=116, df_num=1\n",
            "ssr based chi2 test:   chi2=1.7492  , p=0.1860  , df=1\n",
            "likelihood ratio test: chi2=1.7365  , p=0.1876  , df=1\n",
            "parameter F test:         F=1.7051  , p=0.1942  , df_denom=116, df_num=1\n",
            "\n",
            "Granger Causality\n",
            "number of lags (no zero) 2\n",
            "ssr based F test:         F=286.0339, p=0.0000  , df_denom=113, df_num=2\n",
            "ssr based chi2 test:   chi2=597.3806, p=0.0000  , df=2\n",
            "likelihood ratio test: chi2=212.6514, p=0.0000  , df=2\n",
            "parameter F test:         F=286.0339, p=0.0000  , df_denom=113, df_num=2\n"
          ],
          "name": "stdout"
        },
        {
          "output_type": "execute_result",
          "data": {
            "text/plain": [
              "{1: ({'lrtest': (1.7364915553187075, 0.18758398456227507, 1),\n",
              "   'params_ftest': (1.7051251051681287, 0.1942027811635669, 116.0, 1.0),\n",
              "   'ssr_chi2test': (1.7492231682328023, 0.18597442074424264, 1),\n",
              "   'ssr_ftest': (1.7051251051681098, 0.1942027811635688, 116.0, 1)},\n",
              "  [<statsmodels.regression.linear_model.RegressionResultsWrapper at 0x7f7effc26050>,\n",
              "   <statsmodels.regression.linear_model.RegressionResultsWrapper at 0x7f7effc75390>,\n",
              "   array([[0., 1., 0.]])]),\n",
              " 2: ({'lrtest': (212.65135382912013, 6.658022084670888e-47, 2),\n",
              "   'params_ftest': (286.0339426255561, 6.025362015685629e-45, 113.0, 2.0),\n",
              "   'ssr_chi2test': (597.38062353657, 1.9074176679050054e-130, 2),\n",
              "   'ssr_ftest': (286.0339426255611, 6.025362015680703e-45, 113.0, 2)},\n",
              "  [<statsmodels.regression.linear_model.RegressionResultsWrapper at 0x7f7effc83710>,\n",
              "   <statsmodels.regression.linear_model.RegressionResultsWrapper at 0x7f7effc83590>,\n",
              "   array([[0., 0., 1., 0., 0.],\n",
              "          [0., 0., 0., 1., 0.]])])}"
            ]
          },
          "metadata": {
            "tags": []
          },
          "execution_count": 123
        }
      ]
    },
    {
      "cell_type": "code",
      "metadata": {
        "colab": {
          "base_uri": "https://localhost:8080/",
          "height": 506
        },
        "id": "IOI__VfP2NtJ",
        "outputId": "0ce79b0c-b962-42a3-c6d4-7d51b645119a"
      },
      "source": [
        "!pip install pmdarima"
      ],
      "execution_count": null,
      "outputs": [
        {
          "output_type": "stream",
          "text": [
            "Collecting pmdarima\n",
            "\u001b[?25l  Downloading https://files.pythonhosted.org/packages/f4/c2/2a94bce6bba1deac3c0b16dbb14f28de0b9035e3211919cae8448455aa65/pmdarima-1.8.2-cp37-cp37m-manylinux1_x86_64.whl (1.5MB)\n",
            "\u001b[K     |████████████████████████████████| 1.5MB 4.1MB/s \n",
            "\u001b[?25hRequirement already satisfied: pandas>=0.19 in /usr/local/lib/python3.7/dist-packages (from pmdarima) (1.1.5)\n",
            "Requirement already satisfied: joblib>=0.11 in /usr/local/lib/python3.7/dist-packages (from pmdarima) (1.0.1)\n",
            "Requirement already satisfied: numpy~=1.19.0 in /usr/local/lib/python3.7/dist-packages (from pmdarima) (1.19.5)\n",
            "Requirement already satisfied: Cython!=0.29.18,>=0.29 in /usr/local/lib/python3.7/dist-packages (from pmdarima) (0.29.23)\n",
            "Requirement already satisfied: setuptools!=50.0.0,>=38.6.0 in /usr/local/lib/python3.7/dist-packages (from pmdarima) (57.0.0)\n",
            "Requirement already satisfied: scikit-learn>=0.22 in /usr/local/lib/python3.7/dist-packages (from pmdarima) (0.22.2.post1)\n",
            "Requirement already satisfied: scipy>=1.3.2 in /usr/local/lib/python3.7/dist-packages (from pmdarima) (1.4.1)\n",
            "Collecting statsmodels!=0.12.0,>=0.11\n",
            "\u001b[?25l  Downloading https://files.pythonhosted.org/packages/da/69/8eef30a6237c54f3c0b524140e2975f4b1eea3489b45eb3339574fc8acee/statsmodels-0.12.2-cp37-cp37m-manylinux1_x86_64.whl (9.5MB)\n",
            "\u001b[K     |████████████████████████████████| 9.5MB 34.3MB/s \n",
            "\u001b[?25hRequirement already satisfied: urllib3 in /usr/local/lib/python3.7/dist-packages (from pmdarima) (1.24.3)\n",
            "Requirement already satisfied: python-dateutil>=2.7.3 in /usr/local/lib/python3.7/dist-packages (from pandas>=0.19->pmdarima) (2.8.1)\n",
            "Requirement already satisfied: pytz>=2017.2 in /usr/local/lib/python3.7/dist-packages (from pandas>=0.19->pmdarima) (2018.9)\n",
            "Requirement already satisfied: patsy>=0.5 in /usr/local/lib/python3.7/dist-packages (from statsmodels!=0.12.0,>=0.11->pmdarima) (0.5.1)\n",
            "Requirement already satisfied: six>=1.5 in /usr/local/lib/python3.7/dist-packages (from python-dateutil>=2.7.3->pandas>=0.19->pmdarima) (1.15.0)\n",
            "Installing collected packages: statsmodels, pmdarima\n",
            "  Found existing installation: statsmodels 0.10.2\n",
            "    Uninstalling statsmodels-0.10.2:\n",
            "      Successfully uninstalled statsmodels-0.10.2\n",
            "Successfully installed pmdarima-1.8.2 statsmodels-0.12.2\n"
          ],
          "name": "stdout"
        },
        {
          "output_type": "display_data",
          "data": {
            "application/vnd.colab-display-data+json": {
              "pip_warning": {
                "packages": [
                  "statsmodels"
                ]
              }
            }
          },
          "metadata": {
            "tags": []
          }
        }
      ]
    },
    {
      "cell_type": "code",
      "metadata": {
        "id": "uVuRMewilQml"
      },
      "source": [
        "from pmdarima import auto_arima"
      ],
      "execution_count": null,
      "outputs": []
    },
    {
      "cell_type": "code",
      "metadata": {
        "id": "9rnOnZIjlYD5"
      },
      "source": [
        "stepwise_arima=auto_arima(airlines['Thousands of Passengers'],start_p=0,start_q=0,max_d=4,seasonal=True,max_p=4,max_q=4,trace=True,m=12)"
      ],
      "execution_count": null,
      "outputs": []
    },
    {
      "cell_type": "code",
      "metadata": {
        "colab": {
          "base_uri": "https://localhost:8080/",
          "height": 428
        },
        "id": "yCcmyyXanWBI",
        "outputId": "ea449275-4bf6-45df-a884-7158991e1cc1"
      },
      "source": [
        "stepwise_arima.summary()"
      ],
      "execution_count": null,
      "outputs": [
        {
          "output_type": "execute_result",
          "data": {
            "text/html": [
              "<table class=\"simpletable\">\n",
              "<caption>SARIMAX Results</caption>\n",
              "<tr>\n",
              "  <th>Dep. Variable:</th>                  <td>y</td>                <th>  No. Observations:  </th>    <td>144</td>  \n",
              "</tr>\n",
              "<tr>\n",
              "  <th>Model:</th>           <td>SARIMAX(0, 1, 1)x(2, 1, [], 12)</td> <th>  Log Likelihood     </th> <td>-505.589</td>\n",
              "</tr>\n",
              "<tr>\n",
              "  <th>Date:</th>                   <td>Mon, 28 Jun 2021</td>         <th>  AIC                </th> <td>1019.178</td>\n",
              "</tr>\n",
              "<tr>\n",
              "  <th>Time:</th>                       <td>05:24:36</td>             <th>  BIC                </th> <td>1030.679</td>\n",
              "</tr>\n",
              "<tr>\n",
              "  <th>Sample:</th>                         <td>0</td>                <th>  HQIC               </th> <td>1023.851</td>\n",
              "</tr>\n",
              "<tr>\n",
              "  <th></th>                             <td> - 144</td>              <th>                     </th>     <td> </td>   \n",
              "</tr>\n",
              "<tr>\n",
              "  <th>Covariance Type:</th>               <td>opg</td>               <th>                     </th>     <td> </td>   \n",
              "</tr>\n",
              "</table>\n",
              "<table class=\"simpletable\">\n",
              "<tr>\n",
              "      <td></td>        <th>coef</th>     <th>std err</th>      <th>z</th>      <th>P>|z|</th>  <th>[0.025</th>    <th>0.975]</th>  \n",
              "</tr>\n",
              "<tr>\n",
              "  <th>ma.L1</th>    <td>   -0.3634</td> <td>    0.074</td> <td>   -4.945</td> <td> 0.000</td> <td>   -0.508</td> <td>   -0.219</td>\n",
              "</tr>\n",
              "<tr>\n",
              "  <th>ar.S.L12</th> <td>   -0.1239</td> <td>    0.090</td> <td>   -1.372</td> <td> 0.170</td> <td>   -0.301</td> <td>    0.053</td>\n",
              "</tr>\n",
              "<tr>\n",
              "  <th>ar.S.L24</th> <td>    0.1911</td> <td>    0.107</td> <td>    1.783</td> <td> 0.075</td> <td>   -0.019</td> <td>    0.401</td>\n",
              "</tr>\n",
              "<tr>\n",
              "  <th>sigma2</th>   <td>  130.4480</td> <td>   15.527</td> <td>    8.402</td> <td> 0.000</td> <td>  100.016</td> <td>  160.880</td>\n",
              "</tr>\n",
              "</table>\n",
              "<table class=\"simpletable\">\n",
              "<tr>\n",
              "  <th>Ljung-Box (L1) (Q):</th>     <td>0.01</td> <th>  Jarque-Bera (JB):  </th> <td>4.59</td>\n",
              "</tr>\n",
              "<tr>\n",
              "  <th>Prob(Q):</th>                <td>0.92</td> <th>  Prob(JB):          </th> <td>0.10</td>\n",
              "</tr>\n",
              "<tr>\n",
              "  <th>Heteroskedasticity (H):</th> <td>2.70</td> <th>  Skew:              </th> <td>0.15</td>\n",
              "</tr>\n",
              "<tr>\n",
              "  <th>Prob(H) (two-sided):</th>    <td>0.00</td> <th>  Kurtosis:          </th> <td>3.87</td>\n",
              "</tr>\n",
              "</table><br/><br/>Warnings:<br/>[1] Covariance matrix calculated using the outer product of gradients (complex-step)."
            ],
            "text/plain": [
              "<class 'statsmodels.iolib.summary.Summary'>\n",
              "\"\"\"\n",
              "                                      SARIMAX Results                                      \n",
              "===========================================================================================\n",
              "Dep. Variable:                                   y   No. Observations:                  144\n",
              "Model:             SARIMAX(0, 1, 1)x(2, 1, [], 12)   Log Likelihood                -505.589\n",
              "Date:                             Mon, 28 Jun 2021   AIC                           1019.178\n",
              "Time:                                     05:24:36   BIC                           1030.679\n",
              "Sample:                                          0   HQIC                          1023.851\n",
              "                                             - 144                                         \n",
              "Covariance Type:                               opg                                         \n",
              "==============================================================================\n",
              "                 coef    std err          z      P>|z|      [0.025      0.975]\n",
              "------------------------------------------------------------------------------\n",
              "ma.L1         -0.3634      0.074     -4.945      0.000      -0.508      -0.219\n",
              "ar.S.L12      -0.1239      0.090     -1.372      0.170      -0.301       0.053\n",
              "ar.S.L24       0.1911      0.107      1.783      0.075      -0.019       0.401\n",
              "sigma2       130.4480     15.527      8.402      0.000     100.016     160.880\n",
              "===================================================================================\n",
              "Ljung-Box (L1) (Q):                   0.01   Jarque-Bera (JB):                 4.59\n",
              "Prob(Q):                              0.92   Prob(JB):                         0.10\n",
              "Heteroskedasticity (H):               2.70   Skew:                             0.15\n",
              "Prob(H) (two-sided):                  0.00   Kurtosis:                         3.87\n",
              "===================================================================================\n",
              "\n",
              "Warnings:\n",
              "[1] Covariance matrix calculated using the outer product of gradients (complex-step).\n",
              "\"\"\""
            ]
          },
          "metadata": {
            "tags": []
          },
          "execution_count": 231
        }
      ]
    },
    {
      "cell_type": "code",
      "metadata": {
        "id": "DE7c3q_vl48P"
      },
      "source": [
        "model=SARIMAX(train_data['Thousands of Passengers'],order=(0,1,1),seasonal_order=(2,1,0,12))"
      ],
      "execution_count": null,
      "outputs": []
    },
    {
      "cell_type": "code",
      "metadata": {
        "id": "RFhaGEoV9KPH"
      },
      "source": [
        "fitted=model.fit()"
      ],
      "execution_count": null,
      "outputs": []
    },
    {
      "cell_type": "code",
      "metadata": {
        "colab": {
          "base_uri": "https://localhost:8080/",
          "height": 281
        },
        "id": "D_RVWgloEmpP",
        "outputId": "2ee53f23-6c3a-4f70-bfb3-2f72aaa10641"
      },
      "source": [
        "plt.plot(test_data)"
      ],
      "execution_count": null,
      "outputs": [
        {
          "output_type": "execute_result",
          "data": {
            "text/plain": [
              "[<matplotlib.lines.Line2D at 0x7f40b9e8a490>]"
            ]
          },
          "metadata": {
            "tags": []
          },
          "execution_count": 224
        },
        {
          "output_type": "display_data",
          "data": {
            "image/png": "[encoded data removed]",
            "text/plain": [
              "<Figure size 432x288 with 1 Axes>"
            ]
          },
          "metadata": {
            "tags": [],
            "needs_background": "light"
          }
        }
      ]
    },
    {
      "cell_type": "code",
      "metadata": {
        "id": "t8fjsYWoPy5H"
      },
      "source": [
        "predicted=fitted.predict(start=len(train_data),end=len(train_data)+len(test_data)-1)"
      ],
      "execution_count": null,
      "outputs": []
    },
    {
      "cell_type": "code",
      "metadata": {
        "colab": {
          "base_uri": "https://localhost:8080/",
          "height": 281
        },
        "id": "wm25fnya9RuL",
        "outputId": "2a8e2911-bf97-4799-fb73-ee69b68614e7"
      },
      "source": [
        "plt.plot(train_data,label='Train')\n",
        "plt.plot(test_data,label='Test')\n",
        "plt.plot(predicted,label='Predicted')\n"
      ],
      "execution_count": null,
      "outputs": [
        {
          "output_type": "execute_result",
          "data": {
            "text/plain": [
              "[<matplotlib.lines.Line2D at 0x7f40b9cada50>]"
            ]
          },
          "metadata": {
            "tags": []
          },
          "execution_count": 235
        },
        {
          "output_type": "display_data",
          "data": {
            "image/png": "[encoded data removed]",
            "text/plain": [
              "<Figure size 432x288 with 1 Axes>"
            ]
          },
          "metadata": {
            "tags": [],
            "needs_background": "light"
          }
        }
      ]
    },
    {
      "cell_type": "code",
      "metadata": {
        "id": "R7TF_PaTQCVi"
      },
      "source": [
        ""
      ],
      "execution_count": null,
      "outputs": []
    },
    {
      "cell_type": "code",
      "metadata": {
        "id": "ZRrWjKFzHhdq"
      },
      "source": [
        "from statsmodels.tsa.arima_model import ARMA,ARIMA,ARMAResults,ARIMAResults\n",
        "from statsmodels.tsa.statespace.sarimax import SARIMAX"
      ],
      "execution_count": null,
      "outputs": []
    },
    {
      "cell_type": "code",
      "metadata": {
        "id": "zVOK807IHo9Z"
      },
      "source": [
        "from statsmodels.graphics.tsaplots import plot_acf"
      ],
      "execution_count": null,
      "outputs": []
    },
    {
      "cell_type": "code",
      "metadata": {
        "id": "WSlgYiutHurE"
      },
      "source": [
        "df=pd.read_csv('/content/DailyTotalFemaleBirths.csv',index_col='Date',parse_dates=True)\n",
        "df.index.freq='D'\n",
        "trade_inventories=pd.read_csv('/content/TradeInventories.csv',index_col='Date',parse_dates=True)\n",
        "trade_inventories.freq='MS'"
      ],
      "execution_count": null,
      "outputs": []
    },
    {
      "cell_type": "code",
      "metadata": {
        "colab": {
          "base_uri": "https://localhost:8080/",
          "height": 233
        },
        "id": "BjWRTyFHH-Q6",
        "outputId": "763fdd8d-8b5a-480a-dae2-3d450895350b"
      },
      "source": [
        "df.head()\n",
        "trade_inventories.head()"
      ],
      "execution_count": null,
      "outputs": [
        {
          "output_type": "execute_result",
          "data": {
            "text/html": [
              "<div>\n",
              "<style scoped>\n",
              "    .dataframe tbody tr th:only-of-type {\n",
              "        vertical-align: middle;\n",
              "    }\n",
              "\n",
              "    .dataframe tbody tr th {\n",
              "        vertical-align: top;\n",
              "    }\n",
              "\n",
              "    .dataframe thead th {\n",
              "        text-align: right;\n",
              "    }\n",
              "</style>\n",
              "<table border=\"1\" class=\"dataframe\">\n",
              "  <thead>\n",
              "    <tr style=\"text-align: right;\">\n",
              "      <th></th>\n",
              "      <th>Inventories</th>\n",
              "    </tr>\n",
              "    <tr>\n",
              "      <th>Date</th>\n",
              "      <th></th>\n",
              "    </tr>\n",
              "  </thead>\n",
              "  <tbody>\n",
              "    <tr>\n",
              "      <th>1997-01-01</th>\n",
              "      <td>1301161</td>\n",
              "    </tr>\n",
              "    <tr>\n",
              "      <th>1997-02-01</th>\n",
              "      <td>1307080</td>\n",
              "    </tr>\n",
              "    <tr>\n",
              "      <th>1997-03-01</th>\n",
              "      <td>1303978</td>\n",
              "    </tr>\n",
              "    <tr>\n",
              "      <th>1997-04-01</th>\n",
              "      <td>1319740</td>\n",
              "    </tr>\n",
              "    <tr>\n",
              "      <th>1997-05-01</th>\n",
              "      <td>1327294</td>\n",
              "    </tr>\n",
              "  </tbody>\n",
              "</table>\n",
              "</div>"
            ],
            "text/plain": [
              "            Inventories\n",
              "Date                   \n",
              "1997-01-01      1301161\n",
              "1997-02-01      1307080\n",
              "1997-03-01      1303978\n",
              "1997-04-01      1319740\n",
              "1997-05-01      1327294"
            ]
          },
          "metadata": {
            "tags": []
          },
          "execution_count": 8
        }
      ]
    },
    {
      "cell_type": "code",
      "metadata": {
        "colab": {
          "base_uri": "https://localhost:8080/",
          "height": 291
        },
        "id": "IJSBFQobICXt",
        "outputId": "283bbaa8-2bbf-44e0-a9f3-6ffebf4c5ba7"
      },
      "source": [
        "df['Births'].plot()\n",
        "df.dropna(inplace=True)"
      ],
      "execution_count": null,
      "outputs": [
        {
          "output_type": "display_data",
          "data": {
            "image/png": "[encoded data removed]",
            "text/plain": [
              "<Figure size 432x288 with 1 Axes>"
            ]
          },
          "metadata": {
            "tags": [],
            "needs_background": "light"
          }
        }
      ]
    },
    {
      "cell_type": "code",
      "metadata": {
        "colab": {
          "base_uri": "https://localhost:8080/"
        },
        "id": "yO_8EC1pIc0N",
        "outputId": "8b8742d5-c70f-4faa-c4cd-80e0abdc7ca9"
      },
      "source": [
        "adfuller(trade_inventories['Inventories']) # non-Stationary Data\n",
        "#adfuller(trade_inventories['Inventories'])"
      ],
      "execution_count": null,
      "outputs": [
        {
          "output_type": "execute_result",
          "data": {
            "text/plain": [
              "(-0.08768390982064546,\n",
              " 0.9506515302298977,\n",
              " 5,\n",
              " 258,\n",
              " {'1%': -3.455952927706342,\n",
              "  '10%': -2.572774990685656,\n",
              "  '5%': -2.8728086526320302},\n",
              " 4909.597979003463)"
            ]
          },
          "metadata": {
            "tags": []
          },
          "execution_count": 14
        }
      ]
    },
    {
      "cell_type": "code",
      "metadata": {
        "colab": {
          "base_uri": "https://localhost:8080/",
          "height": 290
        },
        "id": "-Pt2ljfEBe7O",
        "outputId": "a5e9b205-63cf-4201-9b89-e1ee87b9b67c"
      },
      "source": [
        "trade_inventories.plot()\n",
        "trade_inventories=trade_inventories.astype('float64')"
      ],
      "execution_count": null,
      "outputs": [
        {
          "output_type": "display_data",
          "data": {
            "image/png": "[encoded data removed]",
            "text/plain": [
              "<Figure size 432x288 with 1 Axes>"
            ]
          },
          "metadata": {
            "tags": [],
            "needs_background": "light"
          }
        }
      ]
    },
    {
      "cell_type": "code",
      "metadata": {
        "id": "dViKh54IRtN3"
      },
      "source": [
        ""
      ],
      "execution_count": null,
      "outputs": []
    },
    {
      "cell_type": "code",
      "metadata": {
        "colab": {
          "base_uri": "https://localhost:8080/",
          "height": 233
        },
        "id": "fLNo5NLxM1CO",
        "outputId": "ad6e9767-c1e3-41cb-8264-0c0cff6f7108"
      },
      "source": [
        "trade_inventories.head()"
      ],
      "execution_count": null,
      "outputs": [
        {
          "output_type": "execute_result",
          "data": {
            "text/html": [
              "<div>\n",
              "<style scoped>\n",
              "    .dataframe tbody tr th:only-of-type {\n",
              "        vertical-align: middle;\n",
              "    }\n",
              "\n",
              "    .dataframe tbody tr th {\n",
              "        vertical-align: top;\n",
              "    }\n",
              "\n",
              "    .dataframe thead th {\n",
              "        text-align: right;\n",
              "    }\n",
              "</style>\n",
              "<table border=\"1\" class=\"dataframe\">\n",
              "  <thead>\n",
              "    <tr style=\"text-align: right;\">\n",
              "      <th></th>\n",
              "      <th>Inventories</th>\n",
              "    </tr>\n",
              "    <tr>\n",
              "      <th>Date</th>\n",
              "      <th></th>\n",
              "    </tr>\n",
              "  </thead>\n",
              "  <tbody>\n",
              "    <tr>\n",
              "      <th>1997-01-01</th>\n",
              "      <td>1301161.0</td>\n",
              "    </tr>\n",
              "    <tr>\n",
              "      <th>1997-02-01</th>\n",
              "      <td>1307080.0</td>\n",
              "    </tr>\n",
              "    <tr>\n",
              "      <th>1997-03-01</th>\n",
              "      <td>1303978.0</td>\n",
              "    </tr>\n",
              "    <tr>\n",
              "      <th>1997-04-01</th>\n",
              "      <td>1319740.0</td>\n",
              "    </tr>\n",
              "    <tr>\n",
              "      <th>1997-05-01</th>\n",
              "      <td>1327294.0</td>\n",
              "    </tr>\n",
              "  </tbody>\n",
              "</table>\n",
              "</div>"
            ],
            "text/plain": [
              "            Inventories\n",
              "Date                   \n",
              "1997-01-01    1301161.0\n",
              "1997-02-01    1307080.0\n",
              "1997-03-01    1303978.0\n",
              "1997-04-01    1319740.0\n",
              "1997-05-01    1327294.0"
            ]
          },
          "metadata": {
            "tags": []
          },
          "execution_count": 16
        }
      ]
    },
    {
      "cell_type": "code",
      "metadata": {
        "id": "ZW8pnbWvQeez"
      },
      "source": [
        "train=trade_inventories.iloc[:252]\n",
        "test=trade_inventories.iloc[252:]\n",
        "train=train.astype('float64')\n",
        "test=test.astype('float64')"
      ],
      "execution_count": null,
      "outputs": []
    },
    {
      "cell_type": "code",
      "metadata": {
        "colab": {
          "base_uri": "https://localhost:8080/",
          "height": 233
        },
        "id": "rokdU_bqL9Wd",
        "outputId": "df4fc06a-0c5b-4bd2-f5dc-4835b3e81733"
      },
      "source": [
        "test.head()"
      ],
      "execution_count": null,
      "outputs": [
        {
          "output_type": "execute_result",
          "data": {
            "text/html": [
              "<div>\n",
              "<style scoped>\n",
              "    .dataframe tbody tr th:only-of-type {\n",
              "        vertical-align: middle;\n",
              "    }\n",
              "\n",
              "    .dataframe tbody tr th {\n",
              "        vertical-align: top;\n",
              "    }\n",
              "\n",
              "    .dataframe thead th {\n",
              "        text-align: right;\n",
              "    }\n",
              "</style>\n",
              "<table border=\"1\" class=\"dataframe\">\n",
              "  <thead>\n",
              "    <tr style=\"text-align: right;\">\n",
              "      <th></th>\n",
              "      <th>Inventories</th>\n",
              "    </tr>\n",
              "    <tr>\n",
              "      <th>Date</th>\n",
              "      <th></th>\n",
              "    </tr>\n",
              "  </thead>\n",
              "  <tbody>\n",
              "    <tr>\n",
              "      <th>2018-01-01</th>\n",
              "      <td>2110158.0</td>\n",
              "    </tr>\n",
              "    <tr>\n",
              "      <th>2018-02-01</th>\n",
              "      <td>2118199.0</td>\n",
              "    </tr>\n",
              "    <tr>\n",
              "      <th>2018-03-01</th>\n",
              "      <td>2112427.0</td>\n",
              "    </tr>\n",
              "    <tr>\n",
              "      <th>2018-04-01</th>\n",
              "      <td>2112276.0</td>\n",
              "    </tr>\n",
              "    <tr>\n",
              "      <th>2018-05-01</th>\n",
              "      <td>2111835.0</td>\n",
              "    </tr>\n",
              "  </tbody>\n",
              "</table>\n",
              "</div>"
            ],
            "text/plain": [
              "            Inventories\n",
              "Date                   \n",
              "2018-01-01    2110158.0\n",
              "2018-02-01    2118199.0\n",
              "2018-03-01    2112427.0\n",
              "2018-04-01    2112276.0\n",
              "2018-05-01    2111835.0"
            ]
          },
          "metadata": {
            "tags": []
          },
          "execution_count": 18
        }
      ]
    },
    {
      "cell_type": "code",
      "metadata": {
        "id": "dtmGcTZVRcYv"
      },
      "source": [
        "results=seasonal_decompose(df['Births'],model='additive')"
      ],
      "execution_count": null,
      "outputs": []
    },
    {
      "cell_type": "code",
      "metadata": {
        "colab": {
          "base_uri": "https://localhost:8080/",
          "height": 388
        },
        "id": "zCbK7d0LInYT",
        "outputId": "084b7d96-3067-4748-ccaf-0c48f82bd112"
      },
      "source": [
        "auto_arima(trade_inventories['Inventories'],seasonal=False).summary()\n"
      ],
      "execution_count": null,
      "outputs": [
        {
          "output_type": "execute_result",
          "data": {
            "text/html": [
              "<table class=\"simpletable\">\n",
              "<caption>SARIMAX Results</caption>\n",
              "<tr>\n",
              "  <th>Dep. Variable:</th>           <td>y</td>        <th>  No. Observations:  </th>    <td>264</td>   \n",
              "</tr>\n",
              "<tr>\n",
              "  <th>Model:</th>           <td>SARIMAX(0, 1, 0)</td> <th>  Log Likelihood     </th> <td>-2672.018</td>\n",
              "</tr>\n",
              "<tr>\n",
              "  <th>Date:</th>            <td>Thu, 01 Jul 2021</td> <th>  AIC                </th> <td>5348.037</td> \n",
              "</tr>\n",
              "<tr>\n",
              "  <th>Time:</th>                <td>04:14:17</td>     <th>  BIC                </th> <td>5355.181</td> \n",
              "</tr>\n",
              "<tr>\n",
              "  <th>Sample:</th>                  <td>0</td>        <th>  HQIC               </th> <td>5350.908</td> \n",
              "</tr>\n",
              "<tr>\n",
              "  <th></th>                      <td> - 264</td>      <th>                     </th>     <td> </td>    \n",
              "</tr>\n",
              "<tr>\n",
              "  <th>Covariance Type:</th>        <td>opg</td>       <th>                     </th>     <td> </td>    \n",
              "</tr>\n",
              "</table>\n",
              "<table class=\"simpletable\">\n",
              "<tr>\n",
              "      <td></td>         <th>coef</th>     <th>std err</th>      <th>z</th>      <th>P>|z|</th>  <th>[0.025</th>    <th>0.975]</th>  \n",
              "</tr>\n",
              "<tr>\n",
              "  <th>intercept</th> <td> 3258.3802</td> <td>  470.991</td> <td>    6.918</td> <td> 0.000</td> <td> 2335.255</td> <td> 4181.506</td>\n",
              "</tr>\n",
              "<tr>\n",
              "  <th>sigma2</th>    <td>  3.91e+07</td> <td> 2.95e+06</td> <td>   13.250</td> <td> 0.000</td> <td> 3.33e+07</td> <td> 4.49e+07</td>\n",
              "</tr>\n",
              "</table>\n",
              "<table class=\"simpletable\">\n",
              "<tr>\n",
              "  <th>Ljung-Box (L1) (Q):</th>     <td>82.61</td> <th>  Jarque-Bera (JB):  </th> <td>100.74</td>\n",
              "</tr>\n",
              "<tr>\n",
              "  <th>Prob(Q):</th>                <td>0.00</td>  <th>  Prob(JB):          </th>  <td>0.00</td> \n",
              "</tr>\n",
              "<tr>\n",
              "  <th>Heteroskedasticity (H):</th> <td>0.86</td>  <th>  Skew:              </th>  <td>-1.15</td>\n",
              "</tr>\n",
              "<tr>\n",
              "  <th>Prob(H) (two-sided):</th>    <td>0.48</td>  <th>  Kurtosis:          </th>  <td>4.98</td> \n",
              "</tr>\n",
              "</table><br/><br/>Warnings:<br/>[1] Covariance matrix calculated using the outer product of gradients (complex-step)."
            ],
            "text/plain": [
              "<class 'statsmodels.iolib.summary.Summary'>\n",
              "\"\"\"\n",
              "                               SARIMAX Results                                \n",
              "==============================================================================\n",
              "Dep. Variable:                      y   No. Observations:                  264\n",
              "Model:               SARIMAX(0, 1, 0)   Log Likelihood               -2672.018\n",
              "Date:                Thu, 01 Jul 2021   AIC                           5348.037\n",
              "Time:                        04:14:17   BIC                           5355.181\n",
              "Sample:                             0   HQIC                          5350.908\n",
              "                                - 264                                         \n",
              "Covariance Type:                  opg                                         \n",
              "==============================================================================\n",
              "                 coef    std err          z      P>|z|      [0.025      0.975]\n",
              "------------------------------------------------------------------------------\n",
              "intercept   3258.3802    470.991      6.918      0.000    2335.255    4181.506\n",
              "sigma2       3.91e+07   2.95e+06     13.250      0.000    3.33e+07    4.49e+07\n",
              "===================================================================================\n",
              "Ljung-Box (L1) (Q):                  82.61   Jarque-Bera (JB):               100.74\n",
              "Prob(Q):                              0.00   Prob(JB):                         0.00\n",
              "Heteroskedasticity (H):               0.86   Skew:                            -1.15\n",
              "Prob(H) (two-sided):                  0.48   Kurtosis:                         4.98\n",
              "===================================================================================\n",
              "\n",
              "Warnings:\n",
              "[1] Covariance matrix calculated using the outer product of gradients (complex-step).\n",
              "\"\"\""
            ]
          },
          "metadata": {
            "tags": []
          },
          "execution_count": 23
        }
      ]
    },
    {
      "cell_type": "code",
      "metadata": {
        "id": "crXRzw_vIzuP",
        "colab": {
          "base_uri": "https://localhost:8080/"
        },
        "outputId": "e5095841-2f08-4e80-f837-d59d456ea72d"
      },
      "source": [
        "model=ARIMA(trade_inventories['Inventories'],order=(0,1,0))\n",
        "fitted=model.fit()\n",
        "import warnings\n",
        "#start=len(train)\n",
        "#end=len(train)+len(test)-1\n"
      ],
      "execution_count": null,
      "outputs": [
        {
          "output_type": "stream",
          "text": [
            "/usr/local/lib/python3.7/dist-packages/statsmodels/tsa/arima_model.py:472: FutureWarning: \n",
            "statsmodels.tsa.arima_model.ARMA and statsmodels.tsa.arima_model.ARIMA have\n",
            "been deprecated in favor of statsmodels.tsa.arima.model.ARIMA (note the .\n",
            "between arima and model) and\n",
            "statsmodels.tsa.SARIMAX. These will be removed after the 0.12 release.\n",
            "\n",
            "statsmodels.tsa.arima.model.ARIMA makes use of the statespace framework and\n",
            "is both well tested and maintained.\n",
            "\n",
            "To silence this warning and continue using ARMA and ARIMA until they are\n",
            "removed, use:\n",
            "\n",
            "import warnings\n",
            "warnings.filterwarnings('ignore', 'statsmodels.tsa.arima_model.ARMA',\n",
            "                        FutureWarning)\n",
            "warnings.filterwarnings('ignore', 'statsmodels.tsa.arima_model.ARIMA',\n",
            "                        FutureWarning)\n",
            "\n",
            "  warnings.warn(ARIMA_DEPRECATION_WARN, FutureWarning)\n",
            "/usr/local/lib/python3.7/dist-packages/statsmodels/tsa/base/tsa_model.py:527: ValueWarning: No frequency information was provided, so inferred frequency MS will be used.\n",
            "  % freq, ValueWarning)\n",
            "/usr/local/lib/python3.7/dist-packages/statsmodels/tsa/base/tsa_model.py:527: ValueWarning: No frequency information was provided, so inferred frequency MS will be used.\n",
            "  % freq, ValueWarning)\n"
          ],
          "name": "stderr"
        }
      ]
    },
    {
      "cell_type": "code",
      "metadata": {
        "colab": {
          "base_uri": "https://localhost:8080/"
        },
        "id": "2hUIS83xI6OG",
        "outputId": "9840b3a6-5da6-44df-8593-1c3c531c472b"
      },
      "source": [
        "start\n",
        "end"
      ],
      "execution_count": null,
      "outputs": [
        {
          "output_type": "execute_result",
          "data": {
            "text/plain": [
              "263"
            ]
          },
          "metadata": {
            "tags": []
          },
          "execution_count": 27
        }
      ]
    },
    {
      "cell_type": "code",
      "metadata": {
        "id": "opfwVG9ePHm-",
        "colab": {
          "base_uri": "https://localhost:8080/",
          "height": 448
        },
        "outputId": "431aca5b-5356-4a34-df5a-6bbf0753a646"
      },
      "source": [
        "test"
      ],
      "execution_count": null,
      "outputs": [
        {
          "output_type": "execute_result",
          "data": {
            "text/html": [
              "<div>\n",
              "<style scoped>\n",
              "    .dataframe tbody tr th:only-of-type {\n",
              "        vertical-align: middle;\n",
              "    }\n",
              "\n",
              "    .dataframe tbody tr th {\n",
              "        vertical-align: top;\n",
              "    }\n",
              "\n",
              "    .dataframe thead th {\n",
              "        text-align: right;\n",
              "    }\n",
              "</style>\n",
              "<table border=\"1\" class=\"dataframe\">\n",
              "  <thead>\n",
              "    <tr style=\"text-align: right;\">\n",
              "      <th></th>\n",
              "      <th>Inventories</th>\n",
              "    </tr>\n",
              "    <tr>\n",
              "      <th>Date</th>\n",
              "      <th></th>\n",
              "    </tr>\n",
              "  </thead>\n",
              "  <tbody>\n",
              "    <tr>\n",
              "      <th>2018-01-01</th>\n",
              "      <td>2110158.0</td>\n",
              "    </tr>\n",
              "    <tr>\n",
              "      <th>2018-02-01</th>\n",
              "      <td>2118199.0</td>\n",
              "    </tr>\n",
              "    <tr>\n",
              "      <th>2018-03-01</th>\n",
              "      <td>2112427.0</td>\n",
              "    </tr>\n",
              "    <tr>\n",
              "      <th>2018-04-01</th>\n",
              "      <td>2112276.0</td>\n",
              "    </tr>\n",
              "    <tr>\n",
              "      <th>2018-05-01</th>\n",
              "      <td>2111835.0</td>\n",
              "    </tr>\n",
              "    <tr>\n",
              "      <th>2018-06-01</th>\n",
              "      <td>2109298.0</td>\n",
              "    </tr>\n",
              "    <tr>\n",
              "      <th>2018-07-01</th>\n",
              "      <td>2119618.0</td>\n",
              "    </tr>\n",
              "    <tr>\n",
              "      <th>2018-08-01</th>\n",
              "      <td>2127170.0</td>\n",
              "    </tr>\n",
              "    <tr>\n",
              "      <th>2018-09-01</th>\n",
              "      <td>2134172.0</td>\n",
              "    </tr>\n",
              "    <tr>\n",
              "      <th>2018-10-01</th>\n",
              "      <td>2144639.0</td>\n",
              "    </tr>\n",
              "    <tr>\n",
              "      <th>2018-11-01</th>\n",
              "      <td>2143001.0</td>\n",
              "    </tr>\n",
              "    <tr>\n",
              "      <th>2018-12-01</th>\n",
              "      <td>2158115.0</td>\n",
              "    </tr>\n",
              "  </tbody>\n",
              "</table>\n",
              "</div>"
            ],
            "text/plain": [
              "            Inventories\n",
              "Date                   \n",
              "2018-01-01    2110158.0\n",
              "2018-02-01    2118199.0\n",
              "2018-03-01    2112427.0\n",
              "2018-04-01    2112276.0\n",
              "2018-05-01    2111835.0\n",
              "2018-06-01    2109298.0\n",
              "2018-07-01    2119618.0\n",
              "2018-08-01    2127170.0\n",
              "2018-09-01    2134172.0\n",
              "2018-10-01    2144639.0\n",
              "2018-11-01    2143001.0\n",
              "2018-12-01    2158115.0"
            ]
          },
          "metadata": {
            "tags": []
          },
          "execution_count": 28
        }
      ]
    },
    {
      "cell_type": "code",
      "metadata": {
        "colab": {
          "base_uri": "https://localhost:8080/",
          "height": 293
        },
        "id": "PENB9INlz32i",
        "outputId": "8edd94c1-ab95-448c-f0e5-5902ef9dacd4"
      },
      "source": [
        "plt.plot(predicted)\n",
        "plt.plot(test)"
      ],
      "execution_count": null,
      "outputs": [
        {
          "output_type": "execute_result",
          "data": {
            "text/plain": [
              "[<matplotlib.lines.Line2D at 0x7f11aff32410>]"
            ]
          },
          "metadata": {
            "tags": []
          },
          "execution_count": 33
        },
        {
          "output_type": "display_data",
          "data": {
            "image/png": "[encoded data removed]",
            "text/plain": [
              "<Figure size 432x288 with 1 Axes>"
            ]
          },
          "metadata": {
            "tags": [],
            "needs_background": "light"
          }
        }
      ]
    },
    {
      "cell_type": "code",
      "metadata": {
        "id": "Y_aFZiG8zeO6"
      },
      "source": [
        "predicted=fitted.predict(start=start,end=end,typ='levels')"
      ],
      "execution_count": null,
      "outputs": []
    },
    {
      "cell_type": "code",
      "metadata": {
        "colab": {
          "base_uri": "https://localhost:8080/"
        },
        "id": "hiexD_ojG0vX",
        "outputId": "6cf5b3aa-263e-4323-9ad2-9cddc26dc998"
      },
      "source": [
        "predicted"
      ],
      "execution_count": null,
      "outputs": [
        {
          "output_type": "execute_result",
          "data": {
            "text/plain": [
              "2018-01-01    2.106949e+06\n",
              "2018-02-01    2.110146e+06\n",
              "2018-03-01    2.113344e+06\n",
              "2018-04-01    2.116541e+06\n",
              "2018-05-01    2.119739e+06\n",
              "2018-06-01    2.122936e+06\n",
              "2018-07-01    2.126134e+06\n",
              "2018-08-01    2.129332e+06\n",
              "2018-09-01    2.132529e+06\n",
              "2018-10-01    2.135727e+06\n",
              "2018-11-01    2.138924e+06\n",
              "2018-12-01    2.142122e+06\n",
              "Freq: MS, dtype: float64"
            ]
          },
          "metadata": {
            "tags": []
          },
          "execution_count": 36
        }
      ]
    },
    {
      "cell_type": "code",
      "metadata": {
        "id": "BUNtva0L0MRc"
      },
      "source": [
        "test.plot()"
      ],
      "execution_count": null,
      "outputs": []
    },
    {
      "cell_type": "code",
      "metadata": {
        "id": "HrvTiVpTzaeo"
      },
      "source": [
        "warnings.filterwarnings('ignore', 'statsmodels.tsa.arima_model.ARMA',\n",
        "                        FutureWarning)\n",
        "warnings.filterwarnings('ignore', 'statsmodels.tsa.arima_model.ARIMA',\n",
        "                        FutureWarning)"
      ],
      "execution_count": null,
      "outputs": []
    },
    {
      "cell_type": "code",
      "metadata": {
        "id": "Zv3BcF7HJFkE"
      },
      "source": [
        "model.fit().summary()"
      ],
      "execution_count": null,
      "outputs": []
    },
    {
      "cell_type": "code",
      "metadata": {
        "id": "tJf9hjG_JjCo"
      },
      "source": [
        "forecast=fitted.predict(start=len(trade_inventories),end=len(trade_inventories)+12,typ='levels')"
      ],
      "execution_count": null,
      "outputs": []
    },
    {
      "cell_type": "code",
      "metadata": {
        "colab": {
          "base_uri": "https://localhost:8080/",
          "height": 293
        },
        "id": "Z3uPr-6PY4XU",
        "outputId": "5e66d7ab-477f-40db-911e-0dd3e88aa112"
      },
      "source": [
        "plt.plot(forecast)"
      ],
      "execution_count": null,
      "outputs": [
        {
          "output_type": "execute_result",
          "data": {
            "text/plain": [
              "[<matplotlib.lines.Line2D at 0x7f11ab3e2650>]"
            ]
          },
          "metadata": {
            "tags": []
          },
          "execution_count": 43
        },
        {
          "output_type": "display_data",
          "data": {
            "image/png": "[encoded data removed]",
            "text/plain": [
              "<Figure size 432x288 with 1 Axes>"
            ]
          },
          "metadata": {
            "tags": [],
            "needs_background": "light"
          }
        }
      ]
    },
    {
      "cell_type": "code",
      "metadata": {
        "id": "7W0mEzqjJgul"
      },
      "source": [
        "#SARIMAS\n"
      ],
      "execution_count": null,
      "outputs": []
    },
    {
      "cell_type": "code",
      "metadata": {
        "id": "7T0_xpbBmqja"
      },
      "source": [
        "dfco2=pd.read_csv('/content/co2_mm_mlo.csv',parse_dates=True)"
      ],
      "execution_count": null,
      "outputs": []
    },
    {
      "cell_type": "code",
      "metadata": {
        "id": "uweZUHLSmvTJ"
      },
      "source": [
        "dfco2['date']=pd.to_datetime({'year':dfco2['year'],'month':dfco2['month'],'day':1})"
      ],
      "execution_count": null,
      "outputs": []
    },
    {
      "cell_type": "code",
      "metadata": {
        "id": "FQ-xpuE6LopF"
      },
      "source": [
        "dfco2=dfco2.set_index('date')\n"
      ],
      "execution_count": null,
      "outputs": []
    },
    {
      "cell_type": "code",
      "metadata": {
        "id": "r39yCmDALvLw"
      },
      "source": [
        "dfco2.index.freq='MS'"
      ],
      "execution_count": null,
      "outputs": []
    },
    {
      "cell_type": "code",
      "metadata": {
        "id": "HKy06IUcnR6U"
      },
      "source": [
        "#dfco2.dropna(inplace=True)"
      ],
      "execution_count": null,
      "outputs": []
    },
    {
      "cell_type": "code",
      "metadata": {
        "colab": {
          "base_uri": "https://localhost:8080/",
          "height": 446
        },
        "id": "aCrRZe6CKhLp",
        "outputId": "9ba67045-a168-400c-d3c5-4aca07c086d7"
      },
      "source": [
        "dfco2"
      ],
      "execution_count": null,
      "outputs": [
        {
          "output_type": "execute_result",
          "data": {
            "text/html": [
              "<div>\n",
              "<style scoped>\n",
              "    .dataframe tbody tr th:only-of-type {\n",
              "        vertical-align: middle;\n",
              "    }\n",
              "\n",
              "    .dataframe tbody tr th {\n",
              "        vertical-align: top;\n",
              "    }\n",
              "\n",
              "    .dataframe thead th {\n",
              "        text-align: right;\n",
              "    }\n",
              "</style>\n",
              "<table border=\"1\" class=\"dataframe\">\n",
              "  <thead>\n",
              "    <tr style=\"text-align: right;\">\n",
              "      <th></th>\n",
              "      <th>year</th>\n",
              "      <th>month</th>\n",
              "      <th>decimal_date</th>\n",
              "      <th>average</th>\n",
              "      <th>interpolated</th>\n",
              "    </tr>\n",
              "    <tr>\n",
              "      <th>date</th>\n",
              "      <th></th>\n",
              "      <th></th>\n",
              "      <th></th>\n",
              "      <th></th>\n",
              "      <th></th>\n",
              "    </tr>\n",
              "  </thead>\n",
              "  <tbody>\n",
              "    <tr>\n",
              "      <th>1958-03-01</th>\n",
              "      <td>1958</td>\n",
              "      <td>3</td>\n",
              "      <td>1958.208</td>\n",
              "      <td>315.71</td>\n",
              "      <td>315.71</td>\n",
              "    </tr>\n",
              "    <tr>\n",
              "      <th>1958-04-01</th>\n",
              "      <td>1958</td>\n",
              "      <td>4</td>\n",
              "      <td>1958.292</td>\n",
              "      <td>317.45</td>\n",
              "      <td>317.45</td>\n",
              "    </tr>\n",
              "    <tr>\n",
              "      <th>1958-05-01</th>\n",
              "      <td>1958</td>\n",
              "      <td>5</td>\n",
              "      <td>1958.375</td>\n",
              "      <td>317.50</td>\n",
              "      <td>317.50</td>\n",
              "    </tr>\n",
              "    <tr>\n",
              "      <th>1958-06-01</th>\n",
              "      <td>1958</td>\n",
              "      <td>6</td>\n",
              "      <td>1958.458</td>\n",
              "      <td>NaN</td>\n",
              "      <td>317.10</td>\n",
              "    </tr>\n",
              "    <tr>\n",
              "      <th>1958-07-01</th>\n",
              "      <td>1958</td>\n",
              "      <td>7</td>\n",
              "      <td>1958.542</td>\n",
              "      <td>315.86</td>\n",
              "      <td>315.86</td>\n",
              "    </tr>\n",
              "    <tr>\n",
              "      <th>...</th>\n",
              "      <td>...</td>\n",
              "      <td>...</td>\n",
              "      <td>...</td>\n",
              "      <td>...</td>\n",
              "      <td>...</td>\n",
              "    </tr>\n",
              "    <tr>\n",
              "      <th>2018-07-01</th>\n",
              "      <td>2018</td>\n",
              "      <td>7</td>\n",
              "      <td>2018.542</td>\n",
              "      <td>408.71</td>\n",
              "      <td>408.71</td>\n",
              "    </tr>\n",
              "    <tr>\n",
              "      <th>2018-08-01</th>\n",
              "      <td>2018</td>\n",
              "      <td>8</td>\n",
              "      <td>2018.625</td>\n",
              "      <td>406.99</td>\n",
              "      <td>406.99</td>\n",
              "    </tr>\n",
              "    <tr>\n",
              "      <th>2018-09-01</th>\n",
              "      <td>2018</td>\n",
              "      <td>9</td>\n",
              "      <td>2018.708</td>\n",
              "      <td>405.51</td>\n",
              "      <td>405.51</td>\n",
              "    </tr>\n",
              "    <tr>\n",
              "      <th>2018-10-01</th>\n",
              "      <td>2018</td>\n",
              "      <td>10</td>\n",
              "      <td>2018.792</td>\n",
              "      <td>406.00</td>\n",
              "      <td>406.00</td>\n",
              "    </tr>\n",
              "    <tr>\n",
              "      <th>2018-11-01</th>\n",
              "      <td>2018</td>\n",
              "      <td>11</td>\n",
              "      <td>2018.875</td>\n",
              "      <td>408.02</td>\n",
              "      <td>408.02</td>\n",
              "    </tr>\n",
              "  </tbody>\n",
              "</table>\n",
              "<p>729 rows × 5 columns</p>\n",
              "</div>"
            ],
            "text/plain": [
              "            year  month  decimal_date  average  interpolated\n",
              "date                                                        \n",
              "1958-03-01  1958      3      1958.208   315.71        315.71\n",
              "1958-04-01  1958      4      1958.292   317.45        317.45\n",
              "1958-05-01  1958      5      1958.375   317.50        317.50\n",
              "1958-06-01  1958      6      1958.458      NaN        317.10\n",
              "1958-07-01  1958      7      1958.542   315.86        315.86\n",
              "...          ...    ...           ...      ...           ...\n",
              "2018-07-01  2018      7      2018.542   408.71        408.71\n",
              "2018-08-01  2018      8      2018.625   406.99        406.99\n",
              "2018-09-01  2018      9      2018.708   405.51        405.51\n",
              "2018-10-01  2018     10      2018.792   406.00        406.00\n",
              "2018-11-01  2018     11      2018.875   408.02        408.02\n",
              "\n",
              "[729 rows x 5 columns]"
            ]
          },
          "metadata": {
            "tags": []
          },
          "execution_count": 79
        }
      ]
    },
    {
      "cell_type": "code",
      "metadata": {
        "id": "ABmIlNFpK2nL"
      },
      "source": [
        ""
      ],
      "execution_count": null,
      "outputs": []
    },
    {
      "cell_type": "code",
      "metadata": {
        "id": "Fv5J4BbkLGr9"
      },
      "source": [
        ""
      ],
      "execution_count": null,
      "outputs": []
    },
    {
      "cell_type": "code",
      "metadata": {
        "colab": {
          "base_uri": "https://localhost:8080/",
          "height": 296
        },
        "id": "FdwCNxQQKSlU",
        "outputId": "f9ddf1f9-9676-458c-c164-264e85cff25f"
      },
      "source": [
        "dfco2['interpolated'].plot()"
      ],
      "execution_count": null,
      "outputs": [
        {
          "output_type": "execute_result",
          "data": {
            "text/plain": [
              "<matplotlib.axes._subplots.AxesSubplot at 0x7fcfce673d50>"
            ]
          },
          "metadata": {
            "tags": []
          },
          "execution_count": 80
        },
        {
          "output_type": "display_data",
          "data": {
            "image/png": "[encoded data removed]",
            "text/plain": [
              "<Figure size 432x288 with 1 Axes>"
            ]
          },
          "metadata": {
            "tags": [],
            "needs_background": "light"
          }
        }
      ]
    },
    {
      "cell_type": "code",
      "metadata": {
        "id": "vXhSMnPFKHat"
      },
      "source": [
        "results=seasonal_decompose(dfco2['interpolated'],model='additive')"
      ],
      "execution_count": null,
      "outputs": []
    },
    {
      "cell_type": "code",
      "metadata": {
        "colab": {
          "base_uri": "https://localhost:8080/",
          "height": 297
        },
        "id": "a5awsDNUL2AC",
        "outputId": "f029823c-9c89-4906-a8d7-23ed4b922d1e"
      },
      "source": [
        "results.plot();"
      ],
      "execution_count": null,
      "outputs": [
        {
          "output_type": "display_data",
          "data": {
            "image/png": "[encoded data removed]",
            "text/plain": [
              "<Figure size 432x288 with 4 Axes>"
            ]
          },
          "metadata": {
            "tags": [],
            "needs_background": "light"
          }
        }
      ]
    },
    {
      "cell_type": "code",
      "metadata": {
        "colab": {
          "base_uri": "https://localhost:8080/"
        },
        "id": "aGTvmMh5Mjtu",
        "outputId": "a6c09bc1-711b-4294-8cb9-e0f9fffc549a"
      },
      "source": [
        "adfuller(dfco2['interpolated']) #non-starionary"
      ],
      "execution_count": null,
      "outputs": [
        {
          "output_type": "execute_result",
          "data": {
            "text/plain": [
              "(4.994847244403938,\n",
              " 1.0,\n",
              " 20,\n",
              " 708,\n",
              " {'1%': -3.439620010600208,\n",
              "  '10%': -2.5689484851894413,\n",
              "  '5%': -2.8656309041017756},\n",
              " 497.55447281760144)"
            ]
          },
          "metadata": {
            "tags": []
          },
          "execution_count": 94
        }
      ]
    },
    {
      "cell_type": "code",
      "metadata": {
        "colab": {
          "base_uri": "https://localhost:8080/"
        },
        "id": "M-J294Jgsomd",
        "outputId": "5a9f7b21-7c14-4d16-9483-ebfb857f6eb2"
      },
      "source": [
        "len(dfco2)"
      ],
      "execution_count": null,
      "outputs": [
        {
          "output_type": "execute_result",
          "data": {
            "text/plain": [
              "729"
            ]
          },
          "metadata": {
            "tags": []
          },
          "execution_count": 97
        }
      ]
    },
    {
      "cell_type": "code",
      "metadata": {
        "id": "hrk4zuPZsltT"
      },
      "source": [
        "train=dfco2.iloc[:700]\n",
        "test=dfco2.iloc[700:]"
      ],
      "execution_count": null,
      "outputs": []
    },
    {
      "cell_type": "code",
      "metadata": {
        "id": "L-HGGcrrsvMh"
      },
      "source": [
        ""
      ],
      "execution_count": null,
      "outputs": []
    },
    {
      "cell_type": "code",
      "metadata": {
        "colab": {
          "base_uri": "https://localhost:8080/"
        },
        "id": "3E8qZLwN_AZt",
        "outputId": "abc3d788-0377-4472-8ca0-a68407d3b412"
      },
      "source": [
        "auto_arima(dfco2['interpolated'],seasonal=True,m=12,trace=True).summary()"
      ],
      "execution_count": null,
      "outputs": [
        {
          "output_type": "stream",
          "text": [
            "Performing stepwise search to minimize aic\n",
            " ARIMA(2,1,2)(1,0,1)[12] intercept   : AIC=463.185, Time=4.04 sec\n",
            " ARIMA(0,1,0)(0,0,0)[12] intercept   : AIC=2369.532, Time=0.03 sec\n",
            " ARIMA(1,1,0)(1,0,0)[12] intercept   : AIC=inf, Time=1.10 sec\n",
            " ARIMA(0,1,1)(0,0,1)[12] intercept   : AIC=1614.808, Time=0.84 sec\n",
            " ARIMA(0,1,0)(0,0,0)[12]             : AIC=2375.248, Time=0.03 sec\n",
            " ARIMA(2,1,2)(0,0,1)[12] intercept   : AIC=1101.952, Time=3.86 sec\n",
            " ARIMA(2,1,2)(1,0,0)[12] intercept   : AIC=770.617, Time=5.72 sec\n",
            " ARIMA(2,1,2)(2,0,1)[12] intercept   : AIC=503.763, Time=10.94 sec\n",
            " ARIMA(2,1,2)(1,0,2)[12] intercept   : AIC=538.470, Time=9.87 sec\n",
            " ARIMA(2,1,2)(0,0,0)[12] intercept   : AIC=1440.918, Time=0.79 sec\n",
            " ARIMA(2,1,2)(0,0,2)[12] intercept   : AIC=inf, Time=9.79 sec\n",
            " ARIMA(2,1,2)(2,0,0)[12] intercept   : AIC=611.738, Time=10.10 sec\n",
            " ARIMA(2,1,2)(2,0,2)[12] intercept   : AIC=inf, Time=13.25 sec\n",
            " ARIMA(1,1,2)(1,0,1)[12] intercept   : AIC=454.611, Time=4.08 sec\n",
            " ARIMA(1,1,2)(0,0,1)[12] intercept   : AIC=1491.576, Time=1.06 sec\n",
            " ARIMA(1,1,2)(1,0,0)[12] intercept   : AIC=771.572, Time=3.27 sec\n",
            " ARIMA(1,1,2)(2,0,1)[12] intercept   : AIC=466.643, Time=8.86 sec\n",
            " ARIMA(1,1,2)(1,0,2)[12] intercept   : AIC=466.793, Time=10.40 sec\n",
            " ARIMA(1,1,2)(0,0,0)[12] intercept   : AIC=1715.503, Time=0.30 sec\n",
            " ARIMA(1,1,2)(0,0,2)[12] intercept   : AIC=1348.445, Time=2.70 sec\n",
            " ARIMA(1,1,2)(2,0,0)[12] intercept   : AIC=617.618, Time=7.26 sec\n",
            " ARIMA(1,1,2)(2,0,2)[12] intercept   : AIC=inf, Time=11.92 sec\n",
            " ARIMA(0,1,2)(1,0,1)[12] intercept   : AIC=428.483, Time=3.35 sec\n",
            " ARIMA(0,1,2)(0,0,1)[12] intercept   : AIC=1506.152, Time=0.70 sec\n",
            " ARIMA(0,1,2)(1,0,0)[12] intercept   : AIC=791.261, Time=1.12 sec\n",
            " ARIMA(0,1,2)(2,0,1)[12] intercept   : AIC=443.422, Time=8.76 sec\n",
            " ARIMA(0,1,2)(1,0,2)[12] intercept   : AIC=477.547, Time=9.12 sec\n",
            " ARIMA(0,1,2)(0,0,0)[12] intercept   : AIC=1762.294, Time=0.21 sec\n",
            " ARIMA(0,1,2)(0,0,2)[12] intercept   : AIC=1349.347, Time=2.63 sec\n",
            " ARIMA(0,1,2)(2,0,0)[12] intercept   : AIC=617.552, Time=4.29 sec\n",
            " ARIMA(0,1,2)(2,0,2)[12] intercept   : AIC=inf, Time=11.88 sec\n",
            " ARIMA(0,1,1)(1,0,1)[12] intercept   : AIC=428.830, Time=3.38 sec\n",
            " ARIMA(0,1,3)(1,0,1)[12] intercept   : AIC=432.139, Time=4.78 sec\n",
            " ARIMA(1,1,1)(1,0,1)[12] intercept   : AIC=460.517, Time=3.70 sec\n",
            " ARIMA(1,1,3)(1,0,1)[12] intercept   : AIC=466.970, Time=4.49 sec\n",
            " ARIMA(0,1,2)(1,0,1)[12]             : AIC=426.281, Time=1.86 sec\n",
            " ARIMA(0,1,2)(0,0,1)[12]             : AIC=1507.230, Time=0.32 sec\n",
            " ARIMA(0,1,2)(1,0,0)[12]             : AIC=789.744, Time=0.49 sec\n",
            " ARIMA(0,1,2)(2,0,1)[12]             : AIC=428.275, Time=5.49 sec\n",
            " ARIMA(0,1,2)(1,0,2)[12]             : AIC=428.282, Time=6.01 sec\n",
            " ARIMA(0,1,2)(0,0,0)[12]             : AIC=1763.938, Time=0.09 sec\n",
            " ARIMA(0,1,2)(0,0,2)[12]             : AIC=1350.023, Time=1.26 sec\n",
            " ARIMA(0,1,2)(2,0,0)[12]             : AIC=615.890, Time=1.31 sec\n",
            " ARIMA(0,1,2)(2,0,2)[12]             : AIC=inf, Time=6.71 sec\n",
            " ARIMA(0,1,1)(1,0,1)[12]             : AIC=426.904, Time=2.55 sec\n",
            " ARIMA(1,1,2)(1,0,1)[12]             : AIC=439.270, Time=6.02 sec\n",
            " ARIMA(0,1,3)(1,0,1)[12]             : AIC=423.387, Time=2.72 sec\n",
            " ARIMA(0,1,3)(0,0,1)[12]             : AIC=1473.391, Time=0.64 sec\n",
            " ARIMA(0,1,3)(1,0,0)[12]             : AIC=784.597, Time=0.56 sec\n",
            " ARIMA(0,1,3)(2,0,1)[12]             : AIC=425.362, Time=8.02 sec\n",
            " ARIMA(0,1,3)(1,0,2)[12]             : AIC=425.360, Time=9.27 sec\n",
            " ARIMA(0,1,3)(0,0,0)[12]             : AIC=1665.331, Time=0.16 sec\n",
            " ARIMA(0,1,3)(0,0,2)[12]             : AIC=1344.996, Time=1.74 sec\n",
            " ARIMA(0,1,3)(2,0,0)[12]             : AIC=613.245, Time=1.57 sec\n",
            " ARIMA(0,1,3)(2,0,2)[12]             : AIC=inf, Time=10.39 sec\n",
            " ARIMA(1,1,3)(1,0,1)[12]             : AIC=439.044, Time=6.63 sec\n",
            " ARIMA(0,1,4)(1,0,1)[12]             : AIC=424.955, Time=4.02 sec\n",
            " ARIMA(1,1,4)(1,0,1)[12]             : AIC=426.554, Time=5.06 sec\n",
            "\n",
            "Best model:  ARIMA(0,1,3)(1,0,1)[12]          \n",
            "Total fit time: 261.682 seconds\n"
          ],
          "name": "stdout"
        },
        {
          "output_type": "execute_result",
          "data": {
            "text/html": [
              "<table class=\"simpletable\">\n",
              "<caption>SARIMAX Results</caption>\n",
              "<tr>\n",
              "  <th>Dep. Variable:</th>                   <td>y</td>                <th>  No. Observations:  </th>    <td>729</td>  \n",
              "</tr>\n",
              "<tr>\n",
              "  <th>Model:</th>           <td>SARIMAX(0, 1, 3)x(1, 0, [1], 12)</td> <th>  Log Likelihood     </th> <td>-205.693</td>\n",
              "</tr>\n",
              "<tr>\n",
              "  <th>Date:</th>                    <td>Thu, 01 Jul 2021</td>         <th>  AIC                </th>  <td>423.387</td>\n",
              "</tr>\n",
              "<tr>\n",
              "  <th>Time:</th>                        <td>22:37:53</td>             <th>  BIC                </th>  <td>450.929</td>\n",
              "</tr>\n",
              "<tr>\n",
              "  <th>Sample:</th>                          <td>0</td>                <th>  HQIC               </th>  <td>434.014</td>\n",
              "</tr>\n",
              "<tr>\n",
              "  <th></th>                              <td> - 729</td>              <th>                     </th>     <td> </td>   \n",
              "</tr>\n",
              "<tr>\n",
              "  <th>Covariance Type:</th>                <td>opg</td>               <th>                     </th>     <td> </td>   \n",
              "</tr>\n",
              "</table>\n",
              "<table class=\"simpletable\">\n",
              "<tr>\n",
              "      <td></td>        <th>coef</th>     <th>std err</th>      <th>z</th>      <th>P>|z|</th>  <th>[0.025</th>    <th>0.975]</th>  \n",
              "</tr>\n",
              "<tr>\n",
              "  <th>ma.L1</th>    <td>   -0.3549</td> <td>    0.034</td> <td>  -10.294</td> <td> 0.000</td> <td>   -0.422</td> <td>   -0.287</td>\n",
              "</tr>\n",
              "<tr>\n",
              "  <th>ma.L2</th>    <td>   -0.0230</td> <td>    0.032</td> <td>   -0.712</td> <td> 0.476</td> <td>   -0.086</td> <td>    0.040</td>\n",
              "</tr>\n",
              "<tr>\n",
              "  <th>ma.L3</th>    <td>   -0.0836</td> <td>    0.032</td> <td>   -2.607</td> <td> 0.009</td> <td>   -0.146</td> <td>   -0.021</td>\n",
              "</tr>\n",
              "<tr>\n",
              "  <th>ar.S.L12</th> <td>    0.9996</td> <td>    0.000</td> <td> 2988.504</td> <td> 0.000</td> <td>    0.999</td> <td>    1.000</td>\n",
              "</tr>\n",
              "<tr>\n",
              "  <th>ma.S.L12</th> <td>   -0.8666</td> <td>    0.021</td> <td>  -40.715</td> <td> 0.000</td> <td>   -0.908</td> <td>   -0.825</td>\n",
              "</tr>\n",
              "<tr>\n",
              "  <th>sigma2</th>   <td>    0.0956</td> <td>    0.005</td> <td>   20.342</td> <td> 0.000</td> <td>    0.086</td> <td>    0.105</td>\n",
              "</tr>\n",
              "</table>\n",
              "<table class=\"simpletable\">\n",
              "<tr>\n",
              "  <th>Ljung-Box (L1) (Q):</th>     <td>0.09</td> <th>  Jarque-Bera (JB):  </th> <td>4.03</td>\n",
              "</tr>\n",
              "<tr>\n",
              "  <th>Prob(Q):</th>                <td>0.77</td> <th>  Prob(JB):          </th> <td>0.13</td>\n",
              "</tr>\n",
              "<tr>\n",
              "  <th>Heteroskedasticity (H):</th> <td>1.13</td> <th>  Skew:              </th> <td>0.00</td>\n",
              "</tr>\n",
              "<tr>\n",
              "  <th>Prob(H) (two-sided):</th>    <td>0.33</td> <th>  Kurtosis:          </th> <td>3.36</td>\n",
              "</tr>\n",
              "</table><br/><br/>Warnings:<br/>[1] Covariance matrix calculated using the outer product of gradients (complex-step)."
            ],
            "text/plain": [
              "<class 'statsmodels.iolib.summary.Summary'>\n",
              "\"\"\"\n",
              "                                      SARIMAX Results                                       \n",
              "============================================================================================\n",
              "Dep. Variable:                                    y   No. Observations:                  729\n",
              "Model:             SARIMAX(0, 1, 3)x(1, 0, [1], 12)   Log Likelihood                -205.693\n",
              "Date:                              Thu, 01 Jul 2021   AIC                            423.387\n",
              "Time:                                      22:37:53   BIC                            450.929\n",
              "Sample:                                           0   HQIC                           434.014\n",
              "                                              - 729                                         \n",
              "Covariance Type:                                opg                                         \n",
              "==============================================================================\n",
              "                 coef    std err          z      P>|z|      [0.025      0.975]\n",
              "------------------------------------------------------------------------------\n",
              "ma.L1         -0.3549      0.034    -10.294      0.000      -0.422      -0.287\n",
              "ma.L2         -0.0230      0.032     -0.712      0.476      -0.086       0.040\n",
              "ma.L3         -0.0836      0.032     -2.607      0.009      -0.146      -0.021\n",
              "ar.S.L12       0.9996      0.000   2988.504      0.000       0.999       1.000\n",
              "ma.S.L12      -0.8666      0.021    -40.715      0.000      -0.908      -0.825\n",
              "sigma2         0.0956      0.005     20.342      0.000       0.086       0.105\n",
              "===================================================================================\n",
              "Ljung-Box (L1) (Q):                   0.09   Jarque-Bera (JB):                 4.03\n",
              "Prob(Q):                              0.77   Prob(JB):                         0.13\n",
              "Heteroskedasticity (H):               1.13   Skew:                             0.00\n",
              "Prob(H) (two-sided):                  0.33   Kurtosis:                         3.36\n",
              "===================================================================================\n",
              "\n",
              "Warnings:\n",
              "[1] Covariance matrix calculated using the outer product of gradients (complex-step).\n",
              "\"\"\""
            ]
          },
          "metadata": {
            "tags": []
          },
          "execution_count": 93
        }
      ]
    },
    {
      "cell_type": "code",
      "metadata": {
        "id": "S0dpI3D0sR4z"
      },
      "source": [
        "model=SARIMAX(train['interpolated'],order=(0,1,3),seasonal_order=(1,0,1,12))\n",
        "fitted=model.fit()"
      ],
      "execution_count": null,
      "outputs": []
    },
    {
      "cell_type": "code",
      "metadata": {
        "id": "GAgCPGv4shgS"
      },
      "source": [
        "predictions=fitted.predict(start=len(train),end=len(train)+len(test)-1)"
      ],
      "execution_count": null,
      "outputs": []
    },
    {
      "cell_type": "code",
      "metadata": {
        "colab": {
          "base_uri": "https://localhost:8080/"
        },
        "id": "5lFPFvNItYmX",
        "outputId": "f95bb4eb-d2fb-44b6-933f-01e49de08cbe"
      },
      "source": [
        "len(predictions)"
      ],
      "execution_count": null,
      "outputs": [
        {
          "output_type": "execute_result",
          "data": {
            "text/plain": [
              "29"
            ]
          },
          "metadata": {
            "tags": []
          },
          "execution_count": 113
        }
      ]
    },
    {
      "cell_type": "code",
      "metadata": {
        "colab": {
          "base_uri": "https://localhost:8080/",
          "height": 281
        },
        "id": "DXQiVGZts5xh",
        "outputId": "a7f752ce-6731-4301-bb53-711c54bc36fe"
      },
      "source": [
        "plt.plot(predictions)\n",
        "#plt.plot(train['interpolated'][600:])\n",
        "plt.plot(test['interpolated'])"
      ],
      "execution_count": null,
      "outputs": [
        {
          "output_type": "execute_result",
          "data": {
            "text/plain": [
              "[<matplotlib.lines.Line2D at 0x7fcfc2ea7790>]"
            ]
          },
          "metadata": {
            "tags": []
          },
          "execution_count": 114
        },
        {
          "output_type": "display_data",
          "data": {
            "image/png": "[encoded data removed]",
            "text/plain": [
              "<Figure size 432x288 with 1 Axes>"
            ]
          },
          "metadata": {
            "tags": [],
            "needs_background": "light"
          }
        }
      ]
    },
    {
      "cell_type": "code",
      "metadata": {
        "id": "-TI7W-zBwxfc"
      },
      "source": [
        "import pandas as pd\n",
        "import numpy as np \n",
        "import matplotlib.pyplot as plt\n"
      ],
      "execution_count": null,
      "outputs": []
    },
    {
      "cell_type": "code",
      "metadata": {
        "id": "Dsj8RSXxw1kD"
      },
      "source": [
        "df=pd.read_csv('/content/RestaurantVisitors.csv',parse_dates=True,index_col='date')"
      ],
      "execution_count": null,
      "outputs": []
    },
    {
      "cell_type": "code",
      "metadata": {
        "colab": {
          "base_uri": "https://localhost:8080/",
          "height": 233
        },
        "id": "qUNtxtknw-g2",
        "outputId": "0f1b838b-1ccc-4e48-d0bf-e49aae83db62"
      },
      "source": [
        "df.head()"
      ],
      "execution_count": null,
      "outputs": [
        {
          "output_type": "execute_result",
          "data": {
            "text/html": [
              "<div>\n",
              "<style scoped>\n",
              "    .dataframe tbody tr th:only-of-type {\n",
              "        vertical-align: middle;\n",
              "    }\n",
              "\n",
              "    .dataframe tbody tr th {\n",
              "        vertical-align: top;\n",
              "    }\n",
              "\n",
              "    .dataframe thead th {\n",
              "        text-align: right;\n",
              "    }\n",
              "</style>\n",
              "<table border=\"1\" class=\"dataframe\">\n",
              "  <thead>\n",
              "    <tr style=\"text-align: right;\">\n",
              "      <th></th>\n",
              "      <th>weekday</th>\n",
              "      <th>holiday</th>\n",
              "      <th>holiday_name</th>\n",
              "      <th>rest1</th>\n",
              "      <th>rest2</th>\n",
              "      <th>rest3</th>\n",
              "      <th>rest4</th>\n",
              "      <th>total</th>\n",
              "    </tr>\n",
              "    <tr>\n",
              "      <th>date</th>\n",
              "      <th></th>\n",
              "      <th></th>\n",
              "      <th></th>\n",
              "      <th></th>\n",
              "      <th></th>\n",
              "      <th></th>\n",
              "      <th></th>\n",
              "      <th></th>\n",
              "    </tr>\n",
              "  </thead>\n",
              "  <tbody>\n",
              "    <tr>\n",
              "      <th>2016-01-01</th>\n",
              "      <td>Friday</td>\n",
              "      <td>1</td>\n",
              "      <td>New Year's Day</td>\n",
              "      <td>65.0</td>\n",
              "      <td>25.0</td>\n",
              "      <td>67.0</td>\n",
              "      <td>139.0</td>\n",
              "      <td>296.0</td>\n",
              "    </tr>\n",
              "    <tr>\n",
              "      <th>2016-01-02</th>\n",
              "      <td>Saturday</td>\n",
              "      <td>0</td>\n",
              "      <td>na</td>\n",
              "      <td>24.0</td>\n",
              "      <td>39.0</td>\n",
              "      <td>43.0</td>\n",
              "      <td>85.0</td>\n",
              "      <td>191.0</td>\n",
              "    </tr>\n",
              "    <tr>\n",
              "      <th>2016-01-03</th>\n",
              "      <td>Sunday</td>\n",
              "      <td>0</td>\n",
              "      <td>na</td>\n",
              "      <td>24.0</td>\n",
              "      <td>31.0</td>\n",
              "      <td>66.0</td>\n",
              "      <td>81.0</td>\n",
              "      <td>202.0</td>\n",
              "    </tr>\n",
              "    <tr>\n",
              "      <th>2016-01-04</th>\n",
              "      <td>Monday</td>\n",
              "      <td>0</td>\n",
              "      <td>na</td>\n",
              "      <td>23.0</td>\n",
              "      <td>18.0</td>\n",
              "      <td>32.0</td>\n",
              "      <td>32.0</td>\n",
              "      <td>105.0</td>\n",
              "    </tr>\n",
              "    <tr>\n",
              "      <th>2016-01-05</th>\n",
              "      <td>Tuesday</td>\n",
              "      <td>0</td>\n",
              "      <td>na</td>\n",
              "      <td>2.0</td>\n",
              "      <td>15.0</td>\n",
              "      <td>38.0</td>\n",
              "      <td>43.0</td>\n",
              "      <td>98.0</td>\n",
              "    </tr>\n",
              "  </tbody>\n",
              "</table>\n",
              "</div>"
            ],
            "text/plain": [
              "             weekday  holiday    holiday_name  ...  rest3  rest4  total\n",
              "date                                           ...                     \n",
              "2016-01-01    Friday        1  New Year's Day  ...   67.0  139.0  296.0\n",
              "2016-01-02  Saturday        0              na  ...   43.0   85.0  191.0\n",
              "2016-01-03    Sunday        0              na  ...   66.0   81.0  202.0\n",
              "2016-01-04    Monday        0              na  ...   32.0   32.0  105.0\n",
              "2016-01-05   Tuesday        0              na  ...   38.0   43.0   98.0\n",
              "\n",
              "[5 rows x 8 columns]"
            ]
          },
          "metadata": {
            "tags": []
          },
          "execution_count": 3
        }
      ]
    },
    {
      "cell_type": "code",
      "metadata": {
        "id": "TBkh1B4-w_8z"
      },
      "source": [
        "df.index.freq='D'"
      ],
      "execution_count": null,
      "outputs": []
    },
    {
      "cell_type": "code",
      "metadata": {
        "id": "rijZGiIJxCZa"
      },
      "source": [
        "#SARIMA + Exogenous Variable"
      ],
      "execution_count": null,
      "outputs": []
    },
    {
      "cell_type": "code",
      "metadata": {
        "id": "fR5TBBcTxCfg"
      },
      "source": [
        "df.dropna(inplace=True)"
      ],
      "execution_count": null,
      "outputs": []
    },
    {
      "cell_type": "code",
      "metadata": {
        "colab": {
          "base_uri": "https://localhost:8080/",
          "height": 233
        },
        "id": "meQSsdWQxRYv",
        "outputId": "1438dc68-aba1-4db1-ed27-8c01ddc96016"
      },
      "source": [
        "df.tail()"
      ],
      "execution_count": null,
      "outputs": [
        {
          "output_type": "execute_result",
          "data": {
            "text/html": [
              "<div>\n",
              "<style scoped>\n",
              "    .dataframe tbody tr th:only-of-type {\n",
              "        vertical-align: middle;\n",
              "    }\n",
              "\n",
              "    .dataframe tbody tr th {\n",
              "        vertical-align: top;\n",
              "    }\n",
              "\n",
              "    .dataframe thead th {\n",
              "        text-align: right;\n",
              "    }\n",
              "</style>\n",
              "<table border=\"1\" class=\"dataframe\">\n",
              "  <thead>\n",
              "    <tr style=\"text-align: right;\">\n",
              "      <th></th>\n",
              "      <th>weekday</th>\n",
              "      <th>holiday</th>\n",
              "      <th>holiday_name</th>\n",
              "      <th>rest1</th>\n",
              "      <th>rest2</th>\n",
              "      <th>rest3</th>\n",
              "      <th>rest4</th>\n",
              "      <th>total</th>\n",
              "    </tr>\n",
              "    <tr>\n",
              "      <th>date</th>\n",
              "      <th></th>\n",
              "      <th></th>\n",
              "      <th></th>\n",
              "      <th></th>\n",
              "      <th></th>\n",
              "      <th></th>\n",
              "      <th></th>\n",
              "      <th></th>\n",
              "    </tr>\n",
              "  </thead>\n",
              "  <tbody>\n",
              "    <tr>\n",
              "      <th>2017-04-18</th>\n",
              "      <td>Tuesday</td>\n",
              "      <td>0</td>\n",
              "      <td>na</td>\n",
              "      <td>30.0</td>\n",
              "      <td>30.0</td>\n",
              "      <td>13.0</td>\n",
              "      <td>18.0</td>\n",
              "      <td>91.0</td>\n",
              "    </tr>\n",
              "    <tr>\n",
              "      <th>2017-04-19</th>\n",
              "      <td>Wednesday</td>\n",
              "      <td>0</td>\n",
              "      <td>na</td>\n",
              "      <td>20.0</td>\n",
              "      <td>11.0</td>\n",
              "      <td>30.0</td>\n",
              "      <td>18.0</td>\n",
              "      <td>79.0</td>\n",
              "    </tr>\n",
              "    <tr>\n",
              "      <th>2017-04-20</th>\n",
              "      <td>Thursday</td>\n",
              "      <td>0</td>\n",
              "      <td>na</td>\n",
              "      <td>22.0</td>\n",
              "      <td>3.0</td>\n",
              "      <td>19.0</td>\n",
              "      <td>46.0</td>\n",
              "      <td>90.0</td>\n",
              "    </tr>\n",
              "    <tr>\n",
              "      <th>2017-04-21</th>\n",
              "      <td>Friday</td>\n",
              "      <td>0</td>\n",
              "      <td>na</td>\n",
              "      <td>38.0</td>\n",
              "      <td>53.0</td>\n",
              "      <td>36.0</td>\n",
              "      <td>38.0</td>\n",
              "      <td>165.0</td>\n",
              "    </tr>\n",
              "    <tr>\n",
              "      <th>2017-04-22</th>\n",
              "      <td>Saturday</td>\n",
              "      <td>0</td>\n",
              "      <td>na</td>\n",
              "      <td>97.0</td>\n",
              "      <td>20.0</td>\n",
              "      <td>50.0</td>\n",
              "      <td>59.0</td>\n",
              "      <td>226.0</td>\n",
              "    </tr>\n",
              "  </tbody>\n",
              "</table>\n",
              "</div>"
            ],
            "text/plain": [
              "              weekday  holiday holiday_name  rest1  rest2  rest3  rest4  total\n",
              "date                                                                          \n",
              "2017-04-18    Tuesday        0           na   30.0   30.0   13.0   18.0   91.0\n",
              "2017-04-19  Wednesday        0           na   20.0   11.0   30.0   18.0   79.0\n",
              "2017-04-20   Thursday        0           na   22.0    3.0   19.0   46.0   90.0\n",
              "2017-04-21     Friday        0           na   38.0   53.0   36.0   38.0  165.0\n",
              "2017-04-22   Saturday        0           na   97.0   20.0   50.0   59.0  226.0"
            ]
          },
          "metadata": {
            "tags": []
          },
          "execution_count": 6
        }
      ]
    },
    {
      "cell_type": "code",
      "metadata": {
        "colab": {
          "base_uri": "https://localhost:8080/",
          "height": 308
        },
        "id": "e4wrBEHZxk72",
        "outputId": "90450fac-ce14-48b1-939d-9f6cecf9bda5"
      },
      "source": [
        "df['total'].plot()"
      ],
      "execution_count": null,
      "outputs": [
        {
          "output_type": "execute_result",
          "data": {
            "text/plain": [
              "<matplotlib.axes._subplots.AxesSubplot at 0x7f3a1cff3810>"
            ]
          },
          "metadata": {
            "tags": []
          },
          "execution_count": 7
        },
        {
          "output_type": "display_data",
          "data": {
            "image/png": "[encoded data removed]",
            "text/plain": [
              "<Figure size 432x288 with 1 Axes>"
            ]
          },
          "metadata": {
            "tags": [],
            "needs_background": "light"
          }
        }
      ]
    },
    {
      "cell_type": "code",
      "metadata": {
        "id": "BZQmjH8ux0-V"
      },
      "source": [
        "from statsmodels.tsa.seasonal import seasonal_decompose"
      ],
      "execution_count": null,
      "outputs": []
    },
    {
      "cell_type": "code",
      "metadata": {
        "colab": {
          "base_uri": "https://localhost:8080/",
          "height": 309
        },
        "id": "1KtgxQf4x4mh",
        "outputId": "5b64c115-7439-4638-9b13-516f19427182"
      },
      "source": [
        "result=seasonal_decompose(df['total'])\n",
        "#result.plot();\n",
        "result.seasonal.plot()"
      ],
      "execution_count": null,
      "outputs": [
        {
          "output_type": "execute_result",
          "data": {
            "text/plain": [
              "<matplotlib.axes._subplots.AxesSubplot at 0x7f3a0c845fd0>"
            ]
          },
          "metadata": {
            "tags": []
          },
          "execution_count": 9
        },
        {
          "output_type": "display_data",
          "data": {
            "image/png": "[encoded data removed]",
            "text/plain": [
              "<Figure size 432x288 with 1 Axes>"
            ]
          },
          "metadata": {
            "tags": [],
            "needs_background": "light"
          }
        }
      ]
    },
    {
      "cell_type": "code",
      "metadata": {
        "id": "R9OkV_UeyG0I"
      },
      "source": [
        "train=df.iloc[:436]\n",
        "test=df.iloc[436:]"
      ],
      "execution_count": null,
      "outputs": []
    },
    {
      "cell_type": "code",
      "metadata": {
        "id": "NH5e_nW1yXl7"
      },
      "source": [
        "!pip install pmdarima"
      ],
      "execution_count": null,
      "outputs": []
    },
    {
      "cell_type": "code",
      "metadata": {
        "id": "8tRwHeRNySoZ"
      },
      "source": [
        "from pmdarima import auto_arima"
      ],
      "execution_count": null,
      "outputs": []
    },
    {
      "cell_type": "code",
      "metadata": {
        "colab": {
          "base_uri": "https://localhost:8080/",
          "height": 896
        },
        "id": "KOeY1MZ5yhkN",
        "outputId": "738a316f-8889-4d57-cdf3-6c5f9dc8c84b"
      },
      "source": [
        "auto_arima(df['total'],seasonal=True,trace=True,m=7).summary()"
      ],
      "execution_count": null,
      "outputs": [
        {
          "output_type": "stream",
          "text": [
            "Performing stepwise search to minimize aic\n",
            " ARIMA(2,0,2)(1,0,1)[7] intercept   : AIC=inf, Time=3.03 sec\n",
            " ARIMA(0,0,0)(0,0,0)[7] intercept   : AIC=5269.484, Time=0.03 sec\n",
            " ARIMA(1,0,0)(1,0,0)[7] intercept   : AIC=4916.749, Time=0.89 sec\n",
            " ARIMA(0,0,1)(0,0,1)[7] intercept   : AIC=5049.644, Time=0.61 sec\n",
            " ARIMA(0,0,0)(0,0,0)[7]             : AIC=6126.084, Time=0.02 sec\n",
            " ARIMA(1,0,0)(0,0,0)[7] intercept   : AIC=5200.790, Time=0.13 sec\n",
            " ARIMA(1,0,0)(2,0,0)[7] intercept   : AIC=4845.442, Time=2.31 sec\n",
            " ARIMA(1,0,0)(2,0,1)[7] intercept   : AIC=4921.866, Time=3.51 sec\n",
            " ARIMA(1,0,0)(1,0,1)[7] intercept   : AIC=4788.853, Time=1.49 sec\n",
            " ARIMA(1,0,0)(0,0,1)[7] intercept   : AIC=5058.642, Time=0.70 sec\n",
            " ARIMA(1,0,0)(1,0,2)[7] intercept   : AIC=4951.692, Time=3.35 sec\n",
            " ARIMA(1,0,0)(0,0,2)[7] intercept   : AIC=4982.776, Time=1.64 sec\n",
            " ARIMA(1,0,0)(2,0,2)[7] intercept   : AIC=inf, Time=4.68 sec\n",
            " ARIMA(0,0,0)(1,0,1)[7] intercept   : AIC=4775.690, Time=1.35 sec\n",
            " ARIMA(0,0,0)(0,0,1)[7] intercept   : AIC=5093.130, Time=0.27 sec\n",
            " ARIMA(0,0,0)(1,0,0)[7] intercept   : AIC=4926.360, Time=0.60 sec\n",
            " ARIMA(0,0,0)(2,0,1)[7] intercept   : AIC=4976.154, Time=3.76 sec\n",
            " ARIMA(0,0,0)(1,0,2)[7] intercept   : AIC=4961.749, Time=2.55 sec\n",
            " ARIMA(0,0,0)(0,0,2)[7] intercept   : AIC=5010.582, Time=0.96 sec\n",
            " ARIMA(0,0,0)(2,0,0)[7] intercept   : AIC=4859.670, Time=2.96 sec\n",
            " ARIMA(0,0,0)(2,0,2)[7] intercept   : AIC=inf, Time=3.85 sec\n",
            " ARIMA(0,0,1)(1,0,1)[7] intercept   : AIC=inf, Time=1.73 sec\n",
            " ARIMA(1,0,1)(1,0,1)[7] intercept   : AIC=inf, Time=2.05 sec\n",
            " ARIMA(0,0,0)(1,0,1)[7]             : AIC=inf, Time=0.39 sec\n",
            "\n",
            "Best model:  ARIMA(0,0,0)(1,0,1)[7] intercept\n",
            "Total fit time: 42.927 seconds\n"
          ],
          "name": "stdout"
        },
        {
          "output_type": "execute_result",
          "data": {
            "text/html": [
              "<table class=\"simpletable\">\n",
              "<caption>SARIMAX Results</caption>\n",
              "<tr>\n",
              "  <th>Dep. Variable:</th>             <td>y</td>           <th>  No. Observations:  </th>    <td>478</td>   \n",
              "</tr>\n",
              "<tr>\n",
              "  <th>Model:</th>           <td>SARIMAX(1, 0, [1], 7)</td> <th>  Log Likelihood     </th> <td>-2383.845</td>\n",
              "</tr>\n",
              "<tr>\n",
              "  <th>Date:</th>              <td>Fri, 02 Jul 2021</td>    <th>  AIC                </th> <td>4775.690</td> \n",
              "</tr>\n",
              "<tr>\n",
              "  <th>Time:</th>                  <td>20:03:08</td>        <th>  BIC                </th> <td>4792.369</td> \n",
              "</tr>\n",
              "<tr>\n",
              "  <th>Sample:</th>                    <td>0</td>           <th>  HQIC               </th> <td>4782.247</td> \n",
              "</tr>\n",
              "<tr>\n",
              "  <th></th>                        <td> - 478</td>         <th>                     </th>     <td> </td>    \n",
              "</tr>\n",
              "<tr>\n",
              "  <th>Covariance Type:</th>          <td>opg</td>          <th>                     </th>     <td> </td>    \n",
              "</tr>\n",
              "</table>\n",
              "<table class=\"simpletable\">\n",
              "<tr>\n",
              "      <td></td>         <th>coef</th>     <th>std err</th>      <th>z</th>      <th>P>|z|</th>  <th>[0.025</th>    <th>0.975]</th>  \n",
              "</tr>\n",
              "<tr>\n",
              "  <th>intercept</th> <td>    4.7613</td> <td>    1.654</td> <td>    2.878</td> <td> 0.004</td> <td>    1.519</td> <td>    8.003</td>\n",
              "</tr>\n",
              "<tr>\n",
              "  <th>ar.S.L7</th>   <td>    0.9624</td> <td>    0.013</td> <td>   75.584</td> <td> 0.000</td> <td>    0.937</td> <td>    0.987</td>\n",
              "</tr>\n",
              "<tr>\n",
              "  <th>ma.S.L7</th>   <td>   -0.7581</td> <td>    0.048</td> <td>  -15.672</td> <td> 0.000</td> <td>   -0.853</td> <td>   -0.663</td>\n",
              "</tr>\n",
              "<tr>\n",
              "  <th>sigma2</th>    <td> 1205.5235</td> <td>   70.693</td> <td>   17.053</td> <td> 0.000</td> <td> 1066.968</td> <td> 1344.079</td>\n",
              "</tr>\n",
              "</table>\n",
              "<table class=\"simpletable\">\n",
              "<tr>\n",
              "  <th>Ljung-Box (L1) (Q):</th>     <td>16.20</td> <th>  Jarque-Bera (JB):  </th> <td>64.91</td>\n",
              "</tr>\n",
              "<tr>\n",
              "  <th>Prob(Q):</th>                <td>0.00</td>  <th>  Prob(JB):          </th> <td>0.00</td> \n",
              "</tr>\n",
              "<tr>\n",
              "  <th>Heteroskedasticity (H):</th> <td>0.85</td>  <th>  Skew:              </th> <td>0.75</td> \n",
              "</tr>\n",
              "<tr>\n",
              "  <th>Prob(H) (two-sided):</th>    <td>0.32</td>  <th>  Kurtosis:          </th> <td>3.99</td> \n",
              "</tr>\n",
              "</table><br/><br/>Warnings:<br/>[1] Covariance matrix calculated using the outer product of gradients (complex-step)."
            ],
            "text/plain": [
              "<class 'statsmodels.iolib.summary.Summary'>\n",
              "\"\"\"\n",
              "                                 SARIMAX Results                                 \n",
              "=================================================================================\n",
              "Dep. Variable:                         y   No. Observations:                  478\n",
              "Model:             SARIMAX(1, 0, [1], 7)   Log Likelihood               -2383.845\n",
              "Date:                   Fri, 02 Jul 2021   AIC                           4775.690\n",
              "Time:                           20:03:08   BIC                           4792.369\n",
              "Sample:                                0   HQIC                          4782.247\n",
              "                                   - 478                                         \n",
              "Covariance Type:                     opg                                         \n",
              "==============================================================================\n",
              "                 coef    std err          z      P>|z|      [0.025      0.975]\n",
              "------------------------------------------------------------------------------\n",
              "intercept      4.7613      1.654      2.878      0.004       1.519       8.003\n",
              "ar.S.L7        0.9624      0.013     75.584      0.000       0.937       0.987\n",
              "ma.S.L7       -0.7581      0.048    -15.672      0.000      -0.853      -0.663\n",
              "sigma2      1205.5235     70.693     17.053      0.000    1066.968    1344.079\n",
              "===================================================================================\n",
              "Ljung-Box (L1) (Q):                  16.20   Jarque-Bera (JB):                64.91\n",
              "Prob(Q):                              0.00   Prob(JB):                         0.00\n",
              "Heteroskedasticity (H):               0.85   Skew:                             0.75\n",
              "Prob(H) (two-sided):                  0.32   Kurtosis:                         3.99\n",
              "===================================================================================\n",
              "\n",
              "Warnings:\n",
              "[1] Covariance matrix calculated using the outer product of gradients (complex-step).\n",
              "\"\"\""
            ]
          },
          "metadata": {
            "tags": []
          },
          "execution_count": 29
        }
      ]
    },
    {
      "cell_type": "code",
      "metadata": {
        "id": "Z5zlK4dCypdf"
      },
      "source": [
        "from statsmodels.tsa.statespace.sarimax import SARIMAX"
      ],
      "execution_count": null,
      "outputs": []
    },
    {
      "cell_type": "code",
      "metadata": {
        "id": "v7YU852Jynbm"
      },
      "source": [
        "model=SARIMAX(df['total'],order=(0,0,0),seasonal_order=(1,0,1,7))\n",
        "fitted=model.fit()\n",
        "pred=fitted.predict(start=len(train),end=len(train)+len(test)-1)"
      ],
      "execution_count": null,
      "outputs": []
    },
    {
      "cell_type": "code",
      "metadata": {
        "colab": {
          "base_uri": "https://localhost:8080/",
          "height": 331
        },
        "id": "5M5J0irtz8jO",
        "outputId": "08e93f74-2173-470d-a6c7-3d5ca73cb704"
      },
      "source": [
        "pred.plot()\n",
        "test['total'].plot()"
      ],
      "execution_count": null,
      "outputs": [
        {
          "output_type": "execute_result",
          "data": {
            "text/plain": [
              "<matplotlib.axes._subplots.AxesSubplot at 0x7f39e4c8ae50>"
            ]
          },
          "metadata": {
            "tags": []
          },
          "execution_count": 32
        },
        {
          "output_type": "display_data",
          "data": {
            "image/png": "[encoded data removed]",
            "text/plain": [
              "<Figure size 432x288 with 1 Axes>"
            ]
          },
          "metadata": {
            "tags": [],
            "needs_background": "light"
          }
        }
      ]
    },
    {
      "cell_type": "code",
      "metadata": {
        "colab": {
          "base_uri": "https://localhost:8080/",
          "height": 468
        },
        "id": "rRLXTcpe1FCC",
        "outputId": "7ce5f6ae-db61-49b5-9ddc-62516a50b32d"
      },
      "source": [
        "auto_arima(df['total'],exogenous=df[['holiday']],seasonal=True,m=7).summary()"
      ],
      "execution_count": null,
      "outputs": [
        {
          "output_type": "execute_result",
          "data": {
            "text/html": [
              "<table class=\"simpletable\">\n",
              "<caption>SARIMAX Results</caption>\n",
              "<tr>\n",
              "  <th>Dep. Variable:</th>                  <td>y</td>                <th>  No. Observations:  </th>    <td>478</td>   \n",
              "</tr>\n",
              "<tr>\n",
              "  <th>Model:</th>           <td>SARIMAX(1, 0, 0)x(1, 0, [1], 7)</td> <th>  Log Likelihood     </th> <td>-2354.826</td>\n",
              "</tr>\n",
              "<tr>\n",
              "  <th>Date:</th>                   <td>Fri, 02 Jul 2021</td>         <th>  AIC                </th> <td>4721.652</td> \n",
              "</tr>\n",
              "<tr>\n",
              "  <th>Time:</th>                       <td>20:08:05</td>             <th>  BIC                </th> <td>4746.669</td> \n",
              "</tr>\n",
              "<tr>\n",
              "  <th>Sample:</th>                    <td>01-01-2016</td>            <th>  HQIC               </th> <td>4731.487</td> \n",
              "</tr>\n",
              "<tr>\n",
              "  <th></th>                          <td>- 04-22-2017</td>           <th>                     </th>     <td> </td>    \n",
              "</tr>\n",
              "<tr>\n",
              "  <th>Covariance Type:</th>               <td>opg</td>               <th>                     </th>     <td> </td>    \n",
              "</tr>\n",
              "</table>\n",
              "<table class=\"simpletable\">\n",
              "<tr>\n",
              "      <td></td>         <th>coef</th>     <th>std err</th>      <th>z</th>      <th>P>|z|</th>  <th>[0.025</th>    <th>0.975]</th>  \n",
              "</tr>\n",
              "<tr>\n",
              "  <th>intercept</th> <td>   16.0693</td> <td>    2.614</td> <td>    6.147</td> <td> 0.000</td> <td>   10.946</td> <td>   21.193</td>\n",
              "</tr>\n",
              "<tr>\n",
              "  <th>holiday</th>   <td>   44.5308</td> <td>    3.912</td> <td>   11.384</td> <td> 0.000</td> <td>   36.864</td> <td>   52.197</td>\n",
              "</tr>\n",
              "<tr>\n",
              "  <th>ar.L1</th>     <td>    0.1066</td> <td>    0.042</td> <td>    2.535</td> <td> 0.011</td> <td>    0.024</td> <td>    0.189</td>\n",
              "</tr>\n",
              "<tr>\n",
              "  <th>ar.S.L7</th>   <td>    0.8680</td> <td>    0.020</td> <td>   43.246</td> <td> 0.000</td> <td>    0.829</td> <td>    0.907</td>\n",
              "</tr>\n",
              "<tr>\n",
              "  <th>ma.S.L7</th>   <td>   -0.3771</td> <td>    0.051</td> <td>   -7.407</td> <td> 0.000</td> <td>   -0.477</td> <td>   -0.277</td>\n",
              "</tr>\n",
              "<tr>\n",
              "  <th>sigma2</th>    <td>  960.5702</td> <td>   60.396</td> <td>   15.904</td> <td> 0.000</td> <td>  842.196</td> <td> 1078.945</td>\n",
              "</tr>\n",
              "</table>\n",
              "<table class=\"simpletable\">\n",
              "<tr>\n",
              "  <th>Ljung-Box (L1) (Q):</th>     <td>3.24</td> <th>  Jarque-Bera (JB):  </th> <td>6.35</td>\n",
              "</tr>\n",
              "<tr>\n",
              "  <th>Prob(Q):</th>                <td>0.07</td> <th>  Prob(JB):          </th> <td>0.04</td>\n",
              "</tr>\n",
              "<tr>\n",
              "  <th>Heteroskedasticity (H):</th> <td>0.90</td> <th>  Skew:              </th> <td>0.27</td>\n",
              "</tr>\n",
              "<tr>\n",
              "  <th>Prob(H) (two-sided):</th>    <td>0.53</td> <th>  Kurtosis:          </th> <td>3.18</td>\n",
              "</tr>\n",
              "</table><br/><br/>Warnings:<br/>[1] Covariance matrix calculated using the outer product of gradients (complex-step)."
            ],
            "text/plain": [
              "<class 'statsmodels.iolib.summary.Summary'>\n",
              "\"\"\"\n",
              "                                      SARIMAX Results                                      \n",
              "===========================================================================================\n",
              "Dep. Variable:                                   y   No. Observations:                  478\n",
              "Model:             SARIMAX(1, 0, 0)x(1, 0, [1], 7)   Log Likelihood               -2354.826\n",
              "Date:                             Fri, 02 Jul 2021   AIC                           4721.652\n",
              "Time:                                     20:08:05   BIC                           4746.669\n",
              "Sample:                                 01-01-2016   HQIC                          4731.487\n",
              "                                      - 04-22-2017                                         \n",
              "Covariance Type:                               opg                                         \n",
              "==============================================================================\n",
              "                 coef    std err          z      P>|z|      [0.025      0.975]\n",
              "------------------------------------------------------------------------------\n",
              "intercept     16.0693      2.614      6.147      0.000      10.946      21.193\n",
              "holiday       44.5308      3.912     11.384      0.000      36.864      52.197\n",
              "ar.L1          0.1066      0.042      2.535      0.011       0.024       0.189\n",
              "ar.S.L7        0.8680      0.020     43.246      0.000       0.829       0.907\n",
              "ma.S.L7       -0.3771      0.051     -7.407      0.000      -0.477      -0.277\n",
              "sigma2       960.5702     60.396     15.904      0.000     842.196    1078.945\n",
              "===================================================================================\n",
              "Ljung-Box (L1) (Q):                   3.24   Jarque-Bera (JB):                 6.35\n",
              "Prob(Q):                              0.07   Prob(JB):                         0.04\n",
              "Heteroskedasticity (H):               0.90   Skew:                             0.27\n",
              "Prob(H) (two-sided):                  0.53   Kurtosis:                         3.18\n",
              "===================================================================================\n",
              "\n",
              "Warnings:\n",
              "[1] Covariance matrix calculated using the outer product of gradients (complex-step).\n",
              "\"\"\""
            ]
          },
          "metadata": {
            "tags": []
          },
          "execution_count": 34
        }
      ]
    },
    {
      "cell_type": "code",
      "metadata": {
        "colab": {
          "base_uri": "https://localhost:8080/"
        },
        "id": "8FNDmTDm1V_q",
        "outputId": "25e7122c-796e-4c57-8818-02be03a57414"
      },
      "source": [
        "model=SARIMAX(df['total'],exog=df[['holiday']],order=(1,0,0),seasonal_order=(1,0,1,7))\n",
        "fitted=model.fit()"
      ],
      "execution_count": null,
      "outputs": [
        {
          "output_type": "stream",
          "text": [
            "/usr/local/lib/python3.7/dist-packages/statsmodels/base/model.py:568: ConvergenceWarning: Maximum Likelihood optimization failed to converge. Check mle_retvals\n",
            "  ConvergenceWarning)\n"
          ],
          "name": "stderr"
        }
      ]
    },
    {
      "cell_type": "code",
      "metadata": {
        "id": "e5aZ1-Do2pPV"
      },
      "source": [
        "fitted.summary()"
      ],
      "execution_count": null,
      "outputs": []
    },
    {
      "cell_type": "code",
      "metadata": {
        "id": "DCN-mJc72LUv"
      },
      "source": [
        "test['holiday']"
      ],
      "execution_count": null,
      "outputs": []
    },
    {
      "cell_type": "code",
      "metadata": {
        "id": "4P9LX1CH2as8"
      },
      "source": [
        "start=len(train)\n",
        "end=len(train)+len(test)-1"
      ],
      "execution_count": null,
      "outputs": []
    },
    {
      "cell_type": "code",
      "metadata": {
        "id": "-9CQ_hUE1pU1"
      },
      "source": [
        "preds=fitted.predict(start,end,exog=test[['holiday']])"
      ],
      "execution_count": null,
      "outputs": []
    },
    {
      "cell_type": "code",
      "metadata": {
        "id": "B9YQNz62_sfB"
      },
      "source": [
        ""
      ],
      "execution_count": null,
      "outputs": []
    },
    {
      "cell_type": "code",
      "metadata": {
        "colab": {
          "base_uri": "https://localhost:8080/",
          "height": 331
        },
        "id": "dKBjcT2s2u1h",
        "outputId": "9530950b-1aa3-46ae-d411-d9a784f09589"
      },
      "source": [
        "preds.plot()\n",
        "test['total'].plot()"
      ],
      "execution_count": null,
      "outputs": [
        {
          "output_type": "execute_result",
          "data": {
            "text/plain": [
              "<matplotlib.axes._subplots.AxesSubplot at 0x7f39e4ddde50>"
            ]
          },
          "metadata": {
            "tags": []
          },
          "execution_count": 47
        },
        {
          "output_type": "display_data",
          "data": {
            "image/png": "[encoded data removed]",
            "text/plain": [
              "<Figure size 432x288 with 1 Axes>"
            ]
          },
          "metadata": {
            "tags": [],
            "needs_background": "light"
          }
        }
      ]
    },
    {
      "cell_type": "code",
      "metadata": {
        "id": "8h9oT6Gt_tyi"
      },
      "source": [
        "MS=pd.read_csv('/content/M2SLMoneyStock.csv',index_col=0, parse_dates=True)\n",
        "PS=pd.read_csv('/content/PCEPersonalSpending.csv',index_col=0, parse_dates=True)\n"
      ],
      "execution_count": 8,
      "outputs": []
    },
    {
      "cell_type": "code",
      "metadata": {
        "id": "UVY1X8TBA-Iv"
      },
      "source": [
        "MS.index.freq='MS'\n",
        "PS.index.freq='MS'"
      ],
      "execution_count": 11,
      "outputs": []
    },
    {
      "cell_type": "code",
      "metadata": {
        "colab": {
          "base_uri": "https://localhost:8080/",
          "height": 296
        },
        "id": "0FGcP1uhBHYs",
        "outputId": "d805f888-3ea9-4719-f833-7829ce4037f0"
      },
      "source": [
        "MS.plot()"
      ],
      "execution_count": 12,
      "outputs": [
        {
          "output_type": "execute_result",
          "data": {
            "text/plain": [
              "<matplotlib.axes._subplots.AxesSubplot at 0x7ff69c192d10>"
            ]
          },
          "metadata": {
            "tags": []
          },
          "execution_count": 12
        },
        {
          "output_type": "display_data",
          "data": {
            "image/png": "[encoded data removed]",
            "text/plain": [
              "<Figure size 432x288 with 1 Axes>"
            ]
          },
          "metadata": {
            "tags": [],
            "needs_background": "light"
          }
        }
      ]
    },
    {
      "cell_type": "code",
      "metadata": {
        "colab": {
          "base_uri": "https://localhost:8080/",
          "height": 296
        },
        "id": "aKy-4utFBKMK",
        "outputId": "fc0525ec-fbd5-4254-d293-9839b75a6f59"
      },
      "source": [
        "PS.plot()"
      ],
      "execution_count": 13,
      "outputs": [
        {
          "output_type": "execute_result",
          "data": {
            "text/plain": [
              "<matplotlib.axes._subplots.AxesSubplot at 0x7ff69c204610>"
            ]
          },
          "metadata": {
            "tags": []
          },
          "execution_count": 13
        },
        {
          "output_type": "display_data",
          "data": {
            "image/png": "[encoded data removed]",
            "text/plain": [
              "<Figure size 432x288 with 1 Axes>"
            ]
          },
          "metadata": {
            "tags": [],
            "needs_background": "light"
          }
        }
      ]
    },
    {
      "cell_type": "code",
      "metadata": {
        "colab": {
          "base_uri": "https://localhost:8080/",
          "height": 233
        },
        "id": "kiBiVkrfALb9",
        "outputId": "725ebb84-3b3d-49e2-b9e0-6519583c72f9"
      },
      "source": [
        "MS.head()\n",
        "#PS.head()"
      ],
      "execution_count": 5,
      "outputs": [
        {
          "output_type": "execute_result",
          "data": {
            "text/html": [
              "<div>\n",
              "<style scoped>\n",
              "    .dataframe tbody tr th:only-of-type {\n",
              "        vertical-align: middle;\n",
              "    }\n",
              "\n",
              "    .dataframe tbody tr th {\n",
              "        vertical-align: top;\n",
              "    }\n",
              "\n",
              "    .dataframe thead th {\n",
              "        text-align: right;\n",
              "    }\n",
              "</style>\n",
              "<table border=\"1\" class=\"dataframe\">\n",
              "  <thead>\n",
              "    <tr style=\"text-align: right;\">\n",
              "      <th></th>\n",
              "      <th>Money</th>\n",
              "    </tr>\n",
              "    <tr>\n",
              "      <th>Date</th>\n",
              "      <th></th>\n",
              "    </tr>\n",
              "  </thead>\n",
              "  <tbody>\n",
              "    <tr>\n",
              "      <th>1995-01-01</th>\n",
              "      <td>3492.4</td>\n",
              "    </tr>\n",
              "    <tr>\n",
              "      <th>1995-02-01</th>\n",
              "      <td>3489.9</td>\n",
              "    </tr>\n",
              "    <tr>\n",
              "      <th>1995-03-01</th>\n",
              "      <td>3491.1</td>\n",
              "    </tr>\n",
              "    <tr>\n",
              "      <th>1995-04-01</th>\n",
              "      <td>3499.2</td>\n",
              "    </tr>\n",
              "    <tr>\n",
              "      <th>1995-05-01</th>\n",
              "      <td>3524.2</td>\n",
              "    </tr>\n",
              "  </tbody>\n",
              "</table>\n",
              "</div>"
            ],
            "text/plain": [
              "             Money\n",
              "Date              \n",
              "1995-01-01  3492.4\n",
              "1995-02-01  3489.9\n",
              "1995-03-01  3491.1\n",
              "1995-04-01  3499.2\n",
              "1995-05-01  3524.2"
            ]
          },
          "metadata": {
            "tags": []
          },
          "execution_count": 5
        }
      ]
    },
    {
      "cell_type": "code",
      "metadata": {
        "id": "1t_W8BB-FX8c"
      },
      "source": [
        "MS.dropna(inplace=True)\n",
        "PS.dropna(inplace=True)"
      ],
      "execution_count": 15,
      "outputs": []
    },
    {
      "cell_type": "code",
      "metadata": {
        "id": "gHj7fYajApwr"
      },
      "source": [
        "from statsmodels.tsa.api import VAR\n",
        "from statsmodels.tsa.stattools import adfuller"
      ],
      "execution_count": 6,
      "outputs": []
    },
    {
      "cell_type": "code",
      "metadata": {
        "colab": {
          "base_uri": "https://localhost:8080/"
        },
        "id": "UAX3wAqgA0Re",
        "outputId": "6aae4f2b-b20d-4716-81f5-767f5c9d6d87"
      },
      "source": [
        "adfuller(MS['Money']) #non stationary"
      ],
      "execution_count": 17,
      "outputs": [
        {
          "output_type": "execute_result",
          "data": {
            "text/plain": [
              "(4.2390224256706475,\n",
              " 1.0,\n",
              " 4,\n",
              " 247,\n",
              " {'1%': -3.457105309726321,\n",
              "  '10%': -2.5730443824681606,\n",
              "  '5%': -2.873313676101283},\n",
              " 2219.917877142354)"
            ]
          },
          "metadata": {
            "tags": []
          },
          "execution_count": 17
        }
      ]
    },
    {
      "cell_type": "code",
      "metadata": {
        "colab": {
          "base_uri": "https://localhost:8080/"
        },
        "id": "t35AMA9iFucD",
        "outputId": "5bcc6d28-eb35-4044-a419-7fe911bd77ee"
      },
      "source": [
        "adfuller(PS['Spending']) #non stationary"
      ],
      "execution_count": 18,
      "outputs": [
        {
          "output_type": "execute_result",
          "data": {
            "text/plain": [
              "(0.14979608598625302,\n",
              " 0.9693009944428311,\n",
              " 3,\n",
              " 248,\n",
              " {'1%': -3.4569962781990573,\n",
              "  '10%': -2.573018897632674,\n",
              "  '5%': -2.8732659015936024},\n",
              " 2339.735574840993)"
            ]
          },
          "metadata": {
            "tags": []
          },
          "execution_count": 18
        }
      ]
    },
    {
      "cell_type": "code",
      "metadata": {
        "id": "vMLDZCmIGErC"
      },
      "source": [
        ""
      ],
      "execution_count": null,
      "outputs": []
    },
    {
      "cell_type": "code",
      "metadata": {
        "id": "gtVQ0A3CF0bL"
      },
      "source": [
        "MS_diffed=MS.diff()\n",
        "PS_diffed=PS.diff()"
      ],
      "execution_count": 19,
      "outputs": []
    },
    {
      "cell_type": "code",
      "metadata": {
        "id": "agxTtilHGHxI"
      },
      "source": [
        "MS_diffed.dropna(inplace=True)\n",
        "PS_diffed.dropna(inplace=True)"
      ],
      "execution_count": 25,
      "outputs": []
    },
    {
      "cell_type": "code",
      "metadata": {
        "id": "BlNNJEH-GTeL"
      },
      "source": [
        ""
      ],
      "execution_count": null,
      "outputs": []
    },
    {
      "cell_type": "code",
      "metadata": {
        "colab": {
          "base_uri": "https://localhost:8080/"
        },
        "id": "hs_YJolYF8GG",
        "outputId": "acf2528b-718f-4b50-b784-62c628cf073c"
      },
      "source": [
        "adfuller(MS_diffed['Money'])"
      ],
      "execution_count": 24,
      "outputs": [
        {
          "output_type": "execute_result",
          "data": {
            "text/plain": [
              "(-2.0574040497379418,\n",
              " 0.2619837978511234,\n",
              " 15,\n",
              " 235,\n",
              " {'1%': -3.4584868856997004,\n",
              "  '10%': -2.573367247623359,\n",
              "  '5%': -2.873918902362675},\n",
              " 2222.948346069441)"
            ]
          },
          "metadata": {
            "tags": []
          },
          "execution_count": 24
        }
      ]
    },
    {
      "cell_type": "code",
      "metadata": {
        "id": "C5dUsJDBGUQK"
      },
      "source": [
        "MS_diffed_2=MS_diffed.diff()"
      ],
      "execution_count": 27,
      "outputs": []
    },
    {
      "cell_type": "code",
      "metadata": {
        "id": "MY0cFghvGXGr"
      },
      "source": [
        "MS_diffed_2.dropna(inplace=True)"
      ],
      "execution_count": 29,
      "outputs": []
    },
    {
      "cell_type": "code",
      "metadata": {
        "colab": {
          "base_uri": "https://localhost:8080/"
        },
        "id": "Q80poQFqGPji",
        "outputId": "e66a2262-f7e1-4999-e636-bcd8063dff99"
      },
      "source": [
        "#adfuller(PS_diffed['Spending'])\n",
        "adfuller(MS_diffed_2['Money'])  #both are now stationary"
      ],
      "execution_count": 32,
      "outputs": [
        {
          "output_type": "execute_result",
          "data": {
            "text/plain": [
              "(-7.077470794343017,\n",
              " 4.760674931296131e-10,\n",
              " 14,\n",
              " 235,\n",
              " {'1%': -3.4584868856997004,\n",
              "  '10%': -2.573367247623359,\n",
              "  '5%': -2.873918902362675},\n",
              " 2217.0972028268266)"
            ]
          },
          "metadata": {
            "tags": []
          },
          "execution_count": 32
        }
      ]
    },
    {
      "cell_type": "code",
      "metadata": {
        "id": "fLCM6EHNG111"
      },
      "source": [
        "df=pd.concat([MS_diffed_2,PS_diffed],axis=1)"
      ],
      "execution_count": 36,
      "outputs": []
    },
    {
      "cell_type": "code",
      "metadata": {
        "id": "Ils_2M05G8_u"
      },
      "source": [
        "df.dropna(inplace=True)"
      ],
      "execution_count": 39,
      "outputs": []
    },
    {
      "cell_type": "code",
      "metadata": {
        "colab": {
          "base_uri": "https://localhost:8080/",
          "height": 446
        },
        "id": "L3UGWnc4HEq0",
        "outputId": "6952ef1c-4562-4348-9038-665277cc0ece"
      },
      "source": [
        "df"
      ],
      "execution_count": 40,
      "outputs": [
        {
          "output_type": "execute_result",
          "data": {
            "text/html": [
              "<div>\n",
              "<style scoped>\n",
              "    .dataframe tbody tr th:only-of-type {\n",
              "        vertical-align: middle;\n",
              "    }\n",
              "\n",
              "    .dataframe tbody tr th {\n",
              "        vertical-align: top;\n",
              "    }\n",
              "\n",
              "    .dataframe thead th {\n",
              "        text-align: right;\n",
              "    }\n",
              "</style>\n",
              "<table border=\"1\" class=\"dataframe\">\n",
              "  <thead>\n",
              "    <tr style=\"text-align: right;\">\n",
              "      <th></th>\n",
              "      <th>Money</th>\n",
              "      <th>Spending</th>\n",
              "    </tr>\n",
              "    <tr>\n",
              "      <th>Date</th>\n",
              "      <th></th>\n",
              "      <th></th>\n",
              "    </tr>\n",
              "  </thead>\n",
              "  <tbody>\n",
              "    <tr>\n",
              "      <th>1995-03-01</th>\n",
              "      <td>3.7</td>\n",
              "      <td>34.6</td>\n",
              "    </tr>\n",
              "    <tr>\n",
              "      <th>1995-04-01</th>\n",
              "      <td>6.9</td>\n",
              "      <td>4.8</td>\n",
              "    </tr>\n",
              "    <tr>\n",
              "      <th>1995-05-01</th>\n",
              "      <td>16.9</td>\n",
              "      <td>42.9</td>\n",
              "    </tr>\n",
              "    <tr>\n",
              "      <th>1995-06-01</th>\n",
              "      <td>-0.3</td>\n",
              "      <td>44.4</td>\n",
              "    </tr>\n",
              "    <tr>\n",
              "      <th>1995-07-01</th>\n",
              "      <td>-6.2</td>\n",
              "      <td>-7.3</td>\n",
              "    </tr>\n",
              "    <tr>\n",
              "      <th>...</th>\n",
              "      <td>...</td>\n",
              "      <td>...</td>\n",
              "    </tr>\n",
              "    <tr>\n",
              "      <th>2015-08-01</th>\n",
              "      <td>-0.7</td>\n",
              "      <td>38.6</td>\n",
              "    </tr>\n",
              "    <tr>\n",
              "      <th>2015-09-01</th>\n",
              "      <td>5.5</td>\n",
              "      <td>-1.2</td>\n",
              "    </tr>\n",
              "    <tr>\n",
              "      <th>2015-10-01</th>\n",
              "      <td>-23.1</td>\n",
              "      <td>23.3</td>\n",
              "    </tr>\n",
              "    <tr>\n",
              "      <th>2015-11-01</th>\n",
              "      <td>55.8</td>\n",
              "      <td>34.0</td>\n",
              "    </tr>\n",
              "    <tr>\n",
              "      <th>2015-12-01</th>\n",
              "      <td>-31.2</td>\n",
              "      <td>19.0</td>\n",
              "    </tr>\n",
              "  </tbody>\n",
              "</table>\n",
              "<p>250 rows × 2 columns</p>\n",
              "</div>"
            ],
            "text/plain": [
              "            Money  Spending\n",
              "Date                       \n",
              "1995-03-01    3.7      34.6\n",
              "1995-04-01    6.9       4.8\n",
              "1995-05-01   16.9      42.9\n",
              "1995-06-01   -0.3      44.4\n",
              "1995-07-01   -6.2      -7.3\n",
              "...           ...       ...\n",
              "2015-08-01   -0.7      38.6\n",
              "2015-09-01    5.5      -1.2\n",
              "2015-10-01  -23.1      23.3\n",
              "2015-11-01   55.8      34.0\n",
              "2015-12-01  -31.2      19.0\n",
              "\n",
              "[250 rows x 2 columns]"
            ]
          },
          "metadata": {
            "tags": []
          },
          "execution_count": 40
        }
      ]
    },
    {
      "cell_type": "code",
      "metadata": {
        "id": "Fuu99TZ9Gi6i"
      },
      "source": [
        "nobs=12 #num of observations\n",
        "train=df[:-nobs]\n",
        "test=df[-nobs:]\n"
      ],
      "execution_count": 41,
      "outputs": []
    },
    {
      "cell_type": "code",
      "metadata": {
        "id": "fGPV6qbEHUt5"
      },
      "source": [
        "train"
      ],
      "execution_count": null,
      "outputs": []
    },
    {
      "cell_type": "code",
      "metadata": {
        "id": "-H7Qju9THgaX"
      },
      "source": [
        "#GRIDSEARCH FOR ORDER P AR of VAR model"
      ],
      "execution_count": null,
      "outputs": []
    },
    {
      "cell_type": "code",
      "metadata": {
        "id": "_QU19aaKHlJL"
      },
      "source": [
        "model=VAR(train)\n"
      ],
      "execution_count": 47,
      "outputs": []
    },
    {
      "cell_type": "code",
      "metadata": {
        "colab": {
          "base_uri": "https://localhost:8080/"
        },
        "id": "nUbPYrvuHzjh",
        "outputId": "e56efd59-ba20-42f4-fa95-e2f60d0ef975"
      },
      "source": [
        "for p in range(0,8):\n",
        "  result=model.fit(p)\n",
        "  print('order {}'.format(p) )\n",
        "  print('AIC {}'.format(result.aic))\n",
        "  print('\\n')"
      ],
      "execution_count": 48,
      "outputs": [
        {
          "output_type": "stream",
          "text": [
            "order 0\n",
            "AIC 14.046876849439696\n",
            "\n",
            "\n",
            "order 1\n",
            "AIC 13.893730044437806\n",
            "\n",
            "\n",
            "order 2\n",
            "AIC 13.788978767127503\n",
            "\n",
            "\n",
            "order 3\n",
            "AIC 13.800828407726483\n",
            "\n",
            "\n",
            "order 4\n",
            "AIC 13.705254945442736\n",
            "\n",
            "\n",
            "order 5\n",
            "AIC 13.702894884622165\n",
            "\n",
            "\n",
            "order 6\n",
            "AIC 13.716410512160271\n",
            "\n",
            "\n",
            "order 7\n",
            "AIC 13.722469221920354\n",
            "\n",
            "\n"
          ],
          "name": "stdout"
        }
      ]
    },
    {
      "cell_type": "code",
      "metadata": {
        "colab": {
          "base_uri": "https://localhost:8080/"
        },
        "id": "-S1U2XVYIUYq",
        "outputId": "78e2f728-1f3f-413c-c9a2-2e25ef51995e"
      },
      "source": [
        "results=model.fit(5)\n",
        "results.summary()"
      ],
      "execution_count": 49,
      "outputs": [
        {
          "output_type": "execute_result",
          "data": {
            "text/plain": [
              "  Summary of Regression Results   \n",
              "==================================\n",
              "Model:                         VAR\n",
              "Method:                        OLS\n",
              "Date:           Sat, 03, Jul, 2021\n",
              "Time:                     02:10:52\n",
              "--------------------------------------------------------------------\n",
              "No. of Equations:         2.00000    BIC:                    14.0287\n",
              "Nobs:                     233.000    HQIC:                   13.8343\n",
              "Log likelihood:          -2235.61    FPE:                    893620.\n",
              "AIC:                      13.7029    Det(Omega_mle):         814863.\n",
              "--------------------------------------------------------------------\n",
              "Results for equation Money\n",
              "==============================================================================\n",
              "                 coefficient       std. error           t-stat            prob\n",
              "------------------------------------------------------------------------------\n",
              "const              -1.884757         3.499904           -0.539           0.590\n",
              "L1.Money           -0.643407         0.068285           -9.422           0.000\n",
              "L1.Spending        -0.087249         0.054567           -1.599           0.110\n",
              "L2.Money           -0.474297         0.075784           -6.259           0.000\n",
              "L2.Spending        -0.054360         0.053759           -1.011           0.312\n",
              "L3.Money           -0.211375         0.079796           -2.649           0.008\n",
              "L3.Spending         0.046893         0.053758            0.872           0.383\n",
              "L4.Money           -0.275523         0.074641           -3.691           0.000\n",
              "L4.Spending         0.174997         0.053884            3.248           0.001\n",
              "L5.Money           -0.150267         0.066905           -2.246           0.025\n",
              "L5.Spending        -0.002255         0.055359           -0.041           0.968\n",
              "==============================================================================\n",
              "\n",
              "Results for equation Spending\n",
              "==============================================================================\n",
              "                 coefficient       std. error           t-stat            prob\n",
              "------------------------------------------------------------------------------\n",
              "const              21.154909         4.395485            4.813           0.000\n",
              "L1.Money            0.181967         0.085758            2.122           0.034\n",
              "L1.Spending         0.006734         0.068530            0.098           0.922\n",
              "L2.Money            0.094763         0.095176            0.996           0.319\n",
              "L2.Spending         0.159329         0.067515            2.360           0.018\n",
              "L3.Money           -0.009984         0.100215           -0.100           0.921\n",
              "L3.Spending         0.144107         0.067514            2.134           0.033\n",
              "L4.Money           -0.173935         0.093740           -1.855           0.064\n",
              "L4.Spending         0.050403         0.067672            0.745           0.456\n",
              "L5.Money           -0.111008         0.084025           -1.321           0.186\n",
              "L5.Spending        -0.054571         0.069525           -0.785           0.432\n",
              "==============================================================================\n",
              "\n",
              "Correlation matrix of residuals\n",
              "               Money  Spending\n",
              "Money       1.000000 -0.246978\n",
              "Spending   -0.246978  1.000000\n",
              "\n"
            ]
          },
          "metadata": {
            "tags": []
          },
          "execution_count": 49
        }
      ]
    },
    {
      "cell_type": "code",
      "metadata": {
        "id": "fAqtjTfpIixv"
      },
      "source": [
        ""
      ],
      "execution_count": null,
      "outputs": []
    }
  ]
}