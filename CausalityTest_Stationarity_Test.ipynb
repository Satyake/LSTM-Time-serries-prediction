{
  "nbformat": 4,
  "nbformat_minor": 0,
  "metadata": {
    "colab": {
      "name": "CausalityTest-Stationarity Test",
      "provenance": [],
      "authorship_tag": "ABX9TyMLAUriM+ki8haZqmk3R/cO",
      "include_colab_link": true
    },
    "kernelspec": {
      "name": "python3",
      "display_name": "Python 3"
    }
  },
  "cells": [
    {
      "cell_type": "markdown",
      "metadata": {
        "id": "view-in-github",
        "colab_type": "text"
      },
      "source": [
        "<a href=\"https://colab.research.google.com/github/Satyake/Time-Series-Analysis-spagheti-code/blob/master/CausalityTest_Stationarity_Test.ipynb\" target=\"_parent\"><img src=\"https://colab.research.google.com/assets/colab-badge.svg\" alt=\"Open In Colab\"/></a>"
      ]
    },
    {
      "cell_type": "code",
      "metadata": {
        "id": "bobKfTJVqm_P"
      },
      "source": [
        "import pandas as pd\n",
        "import numpy as np "
      ],
      "execution_count": null,
      "outputs": []
    },
    {
      "cell_type": "code",
      "metadata": {
        "id": "x8iJ0rLLqyVx"
      },
      "source": [
        "df1=pd.read_csv('/content/airline_passengers.csv',index_col='Month',parse_dates=True)"
      ],
      "execution_count": null,
      "outputs": []
    },
    {
      "cell_type": "code",
      "metadata": {
        "id": "ICfD0kI2q79h",
        "outputId": "01a52067-c4af-474f-a768-d220bbc0e34b",
        "colab": {
          "base_uri": "https://localhost:8080/",
          "height": 228
        }
      },
      "source": [
        "df1.head()"
      ],
      "execution_count": null,
      "outputs": [
        {
          "output_type": "execute_result",
          "data": {
            "text/html": [
              "<div>\n",
              "<style scoped>\n",
              "    .dataframe tbody tr th:only-of-type {\n",
              "        vertical-align: middle;\n",
              "    }\n",
              "\n",
              "    .dataframe tbody tr th {\n",
              "        vertical-align: top;\n",
              "    }\n",
              "\n",
              "    .dataframe thead th {\n",
              "        text-align: right;\n",
              "    }\n",
              "</style>\n",
              "<table border=\"1\" class=\"dataframe\">\n",
              "  <thead>\n",
              "    <tr style=\"text-align: right;\">\n",
              "      <th></th>\n",
              "      <th>Thousands of Passengers</th>\n",
              "    </tr>\n",
              "    <tr>\n",
              "      <th>Month</th>\n",
              "      <th></th>\n",
              "    </tr>\n",
              "  </thead>\n",
              "  <tbody>\n",
              "    <tr>\n",
              "      <th>1949-01-01</th>\n",
              "      <td>112</td>\n",
              "    </tr>\n",
              "    <tr>\n",
              "      <th>1949-02-01</th>\n",
              "      <td>118</td>\n",
              "    </tr>\n",
              "    <tr>\n",
              "      <th>1949-03-01</th>\n",
              "      <td>132</td>\n",
              "    </tr>\n",
              "    <tr>\n",
              "      <th>1949-04-01</th>\n",
              "      <td>129</td>\n",
              "    </tr>\n",
              "    <tr>\n",
              "      <th>1949-05-01</th>\n",
              "      <td>121</td>\n",
              "    </tr>\n",
              "  </tbody>\n",
              "</table>\n",
              "</div>"
            ],
            "text/plain": [
              "            Thousands of Passengers\n",
              "Month                              \n",
              "1949-01-01                      112\n",
              "1949-02-01                      118\n",
              "1949-03-01                      132\n",
              "1949-04-01                      129\n",
              "1949-05-01                      121"
            ]
          },
          "metadata": {
            "tags": []
          },
          "execution_count": 5
        }
      ]
    },
    {
      "cell_type": "code",
      "metadata": {
        "id": "lNDCcUDnrA-q"
      },
      "source": [
        "from statsmodels.tsa.stattools import adfuller"
      ],
      "execution_count": null,
      "outputs": []
    },
    {
      "cell_type": "code",
      "metadata": {
        "id": "6hzPTYJ-rIVi",
        "outputId": "c7faed14-aff5-4374-bda2-041de2ec1f08",
        "colab": {
          "base_uri": "https://localhost:8080/"
        }
      },
      "source": [
        "adfuller(df1['Thousands of Passengers'])"
      ],
      "execution_count": null,
      "outputs": [
        {
          "output_type": "execute_result",
          "data": {
            "text/plain": [
              "(0.815368879206047,\n",
              " 0.991880243437641,\n",
              " 13,\n",
              " 130,\n",
              " {'1%': -3.4816817173418295,\n",
              "  '10%': -2.578770059171598,\n",
              "  '5%': -2.8840418343195267},\n",
              " 996.6929308390189)"
            ]
          },
          "metadata": {
            "tags": []
          },
          "execution_count": 7
        }
      ]
    },
    {
      "cell_type": "code",
      "metadata": {
        "id": "jcd9xiVVrNJQ",
        "outputId": "88087406-852c-4306-f9e5-8751d2577cbb",
        "colab": {
          "base_uri": "https://localhost:8080/"
        }
      },
      "source": [
        "help(adfuller)"
      ],
      "execution_count": null,
      "outputs": [
        {
          "output_type": "stream",
          "text": [
            "Help on function adfuller in module statsmodels.tsa.stattools:\n",
            "\n",
            "adfuller(x, maxlag=None, regression='c', autolag='AIC', store=False, regresults=False)\n",
            "    Augmented Dickey-Fuller unit root test\n",
            "    \n",
            "    The Augmented Dickey-Fuller test can be used to test for a unit root in a\n",
            "    univariate process in the presence of serial correlation.\n",
            "    \n",
            "    Parameters\n",
            "    ----------\n",
            "    x : array_like, 1d\n",
            "        data series\n",
            "    maxlag : int\n",
            "        Maximum lag which is included in test, default 12*(nobs/100)^{1/4}\n",
            "    regression : {'c','ct','ctt','nc'}\n",
            "        Constant and trend order to include in regression\n",
            "    \n",
            "        * 'c' : constant only (default)\n",
            "        * 'ct' : constant and trend\n",
            "        * 'ctt' : constant, and linear and quadratic trend\n",
            "        * 'nc' : no constant, no trend\n",
            "    autolag : {'AIC', 'BIC', 't-stat', None}\n",
            "        * if None, then maxlag lags are used\n",
            "        * if 'AIC' (default) or 'BIC', then the number of lags is chosen\n",
            "          to minimize the corresponding information criterion\n",
            "        * 't-stat' based choice of maxlag.  Starts with maxlag and drops a\n",
            "          lag until the t-statistic on the last lag length is significant\n",
            "          using a 5%-sized test\n",
            "    store : bool\n",
            "        If True, then a result instance is returned additionally to\n",
            "        the adf statistic. Default is False\n",
            "    regresults : bool, optional\n",
            "        If True, the full regression results are returned. Default is False\n",
            "    \n",
            "    Returns\n",
            "    -------\n",
            "    adf : float\n",
            "        Test statistic\n",
            "    pvalue : float\n",
            "        MacKinnon's approximate p-value based on MacKinnon (1994, 2010)\n",
            "    usedlag : int\n",
            "        Number of lags used\n",
            "    nobs : int\n",
            "        Number of observations used for the ADF regression and calculation of\n",
            "        the critical values\n",
            "    critical values : dict\n",
            "        Critical values for the test statistic at the 1 %, 5 %, and 10 %\n",
            "        levels. Based on MacKinnon (2010)\n",
            "    icbest : float\n",
            "        The maximized information criterion if autolag is not None.\n",
            "    resstore : ResultStore, optional\n",
            "        A dummy class with results attached as attributes\n",
            "    \n",
            "    Notes\n",
            "    -----\n",
            "    The null hypothesis of the Augmented Dickey-Fuller is that there is a unit\n",
            "    root, with the alternative that there is no unit root. If the pvalue is\n",
            "    above a critical size, then we cannot reject that there is a unit root.\n",
            "    \n",
            "    The p-values are obtained through regression surface approximation from\n",
            "    MacKinnon 1994, but using the updated 2010 tables. If the p-value is close\n",
            "    to significant, then the critical values should be used to judge whether\n",
            "    to reject the null.\n",
            "    \n",
            "    The autolag option and maxlag for it are described in Greene.\n",
            "    \n",
            "    Examples\n",
            "    --------\n",
            "    See example notebook\n",
            "    \n",
            "    References\n",
            "    ----------\n",
            "    .. [*] W. Green.  \"Econometric Analysis,\" 5th ed., Pearson, 2003.\n",
            "    \n",
            "    .. [*] Hamilton, J.D.  \"Time Series Analysis\".  Princeton, 1994.\n",
            "    \n",
            "    .. [*] MacKinnon, J.G. 1994.  \"Approximate asymptotic distribution functions for\n",
            "        unit-root and cointegration tests.  `Journal of Business and Economic\n",
            "        Statistics` 12, 167-76.\n",
            "    \n",
            "    .. [*] MacKinnon, J.G. 2010. \"Critical Values for Cointegration Tests.\"  Queen's\n",
            "        University, Dept of Economics, Working Papers.  Available at\n",
            "        http://ideas.repec.org/p/qed/wpaper/1227.html\n",
            "\n"
          ],
          "name": "stdout"
        }
      ]
    },
    {
      "cell_type": "code",
      "metadata": {
        "id": "Yrw-0lIpsyJC"
      },
      "source": [
        "df2=pd.read_csv('/content/DailyTotalFemaleBirths.csv',index_col='Date',parse_dates=True)"
      ],
      "execution_count": null,
      "outputs": []
    },
    {
      "cell_type": "code",
      "metadata": {
        "id": "Xqn4tKK5tAT9",
        "outputId": "8dc72de8-963f-4994-a897-08f9f2dfee90",
        "colab": {
          "base_uri": "https://localhost:8080/",
          "height": 198
        }
      },
      "source": [
        "df2.head()"
      ],
      "execution_count": null,
      "outputs": [
        {
          "output_type": "execute_result",
          "data": {
            "text/html": [
              "<div>\n",
              "<style scoped>\n",
              "    .dataframe tbody tr th:only-of-type {\n",
              "        vertical-align: middle;\n",
              "    }\n",
              "\n",
              "    .dataframe tbody tr th {\n",
              "        vertical-align: top;\n",
              "    }\n",
              "\n",
              "    .dataframe thead th {\n",
              "        text-align: right;\n",
              "    }\n",
              "</style>\n",
              "<table border=\"1\" class=\"dataframe\">\n",
              "  <thead>\n",
              "    <tr style=\"text-align: right;\">\n",
              "      <th></th>\n",
              "      <th>Date</th>\n",
              "      <th>Births</th>\n",
              "    </tr>\n",
              "  </thead>\n",
              "  <tbody>\n",
              "    <tr>\n",
              "      <th>0</th>\n",
              "      <td>1/1/1959</td>\n",
              "      <td>35</td>\n",
              "    </tr>\n",
              "    <tr>\n",
              "      <th>1</th>\n",
              "      <td>1/2/1959</td>\n",
              "      <td>32</td>\n",
              "    </tr>\n",
              "    <tr>\n",
              "      <th>2</th>\n",
              "      <td>1/3/1959</td>\n",
              "      <td>30</td>\n",
              "    </tr>\n",
              "    <tr>\n",
              "      <th>3</th>\n",
              "      <td>1/4/1959</td>\n",
              "      <td>31</td>\n",
              "    </tr>\n",
              "    <tr>\n",
              "      <th>4</th>\n",
              "      <td>1/5/1959</td>\n",
              "      <td>44</td>\n",
              "    </tr>\n",
              "  </tbody>\n",
              "</table>\n",
              "</div>"
            ],
            "text/plain": [
              "       Date  Births\n",
              "0  1/1/1959      35\n",
              "1  1/2/1959      32\n",
              "2  1/3/1959      30\n",
              "3  1/4/1959      31\n",
              "4  1/5/1959      44"
            ]
          },
          "metadata": {
            "tags": []
          },
          "execution_count": 15
        }
      ]
    },
    {
      "cell_type": "code",
      "metadata": {
        "id": "bXCqx-BurYY-"
      },
      "source": [
        "dftest=adfuller(df1['Thousands of Passengers'])\n",
        "dfout=pd.Series(dftest[0:4],index=['ADF Test Statistic','p-value','#Lags used','#observations'])"
      ],
      "execution_count": null,
      "outputs": []
    },
    {
      "cell_type": "code",
      "metadata": {
        "id": "uj3pXkVDrv7T",
        "outputId": "cc668887-cff1-4e9c-8990-76f01a0cbd59",
        "colab": {
          "base_uri": "https://localhost:8080/"
        }
      },
      "source": [
        "dfout"
      ],
      "execution_count": null,
      "outputs": [
        {
          "output_type": "execute_result",
          "data": {
            "text/plain": [
              "ADF Test Statistic      0.815369\n",
              "p-value                 0.991880\n",
              "#Lags used             13.000000\n",
              "#observations         130.000000\n",
              "dtype: float64"
            ]
          },
          "metadata": {
            "tags": []
          },
          "execution_count": 11
        }
      ]
    },
    {
      "cell_type": "code",
      "metadata": {
        "id": "irAipF6utG5L",
        "outputId": "d6f681ba-5a41-4dcd-c057-9f7a1f2b93b2",
        "colab": {
          "base_uri": "https://localhost:8080/"
        }
      },
      "source": [
        "adfuller(df2['Births'])\n",
        "#reject Null hypothesis "
      ],
      "execution_count": null,
      "outputs": [
        {
          "output_type": "execute_result",
          "data": {
            "text/plain": [
              "(-4.808291253559765,\n",
              " 5.2434129901498554e-05,\n",
              " 6,\n",
              " 358,\n",
              " {'1%': -3.448748905151901,\n",
              "  '10%': -2.5710891239349585,\n",
              "  '5%': -2.8696473721448728},\n",
              " 2343.8290926464197)"
            ]
          },
          "metadata": {
            "tags": []
          },
          "execution_count": 17
        }
      ]
    },
    {
      "cell_type": "code",
      "metadata": {
        "id": "3m-DhDi7t2wb"
      },
      "source": [
        "#Granger Causality Test\n",
        "\n",
        "df3=pd.read_csv('/content/samples.csv')"
      ],
      "execution_count": null,
      "outputs": []
    },
    {
      "cell_type": "code",
      "metadata": {
        "id": "IUT2Q037uCtw",
        "outputId": "26264f3f-82a7-41da-9786-85fa56f2e1f2",
        "colab": {
          "base_uri": "https://localhost:8080/",
          "height": 282
        }
      },
      "source": [
        "df3['a'].plot()\n",
        "df3['d'].plot()"
      ],
      "execution_count": null,
      "outputs": [
        {
          "output_type": "execute_result",
          "data": {
            "text/plain": [
              "<matplotlib.axes._subplots.AxesSubplot at 0x7fc7daffaf98>"
            ]
          },
          "metadata": {
            "tags": []
          },
          "execution_count": 23
        },
        {
          "output_type": "display_data",
          "data": {
            "image/png": "[encoded data removed]",
            "text/plain": [
              "<Figure size 432x288 with 1 Axes>"
            ]
          },
          "metadata": {
            "tags": [],
            "needs_background": "light"
          }
        }
      ]
    },
    {
      "cell_type": "code",
      "metadata": {
        "id": "2uyRsMW2uMAC"
      },
      "source": [
        "from statsmodels.tsa.stattools import grangercausalitytests"
      ],
      "execution_count": null,
      "outputs": []
    },
    {
      "cell_type": "code",
      "metadata": {
        "id": "C5Kr1TkOuqZn",
        "outputId": "07f444d7-4a8d-4d40-9af7-0e739326a964",
        "colab": {
          "base_uri": "https://localhost:8080/"
        }
      },
      "source": [
        "grangercausalitytests(df3[['a','d']],maxlag=3);"
      ],
      "execution_count": null,
      "outputs": [
        {
          "output_type": "stream",
          "text": [
            "\n",
            "Granger Causality\n",
            "number of lags (no zero) 1\n",
            "ssr based F test:         F=1.7051  , p=0.1942  , df_denom=116, df_num=1\n",
            "ssr based chi2 test:   chi2=1.7492  , p=0.1860  , df=1\n",
            "likelihood ratio test: chi2=1.7365  , p=0.1876  , df=1\n",
            "parameter F test:         F=1.7051  , p=0.1942  , df_denom=116, df_num=1\n",
            "\n",
            "Granger Causality\n",
            "number of lags (no zero) 2\n",
            "ssr based F test:         F=286.0339, p=0.0000  , df_denom=113, df_num=2\n",
            "ssr based chi2 test:   chi2=597.3806, p=0.0000  , df=2\n",
            "likelihood ratio test: chi2=212.6514, p=0.0000  , df=2\n",
            "parameter F test:         F=286.0339, p=0.0000  , df_denom=113, df_num=2\n",
            "\n",
            "Granger Causality\n",
            "number of lags (no zero) 3\n",
            "ssr based F test:         F=188.7446, p=0.0000  , df_denom=110, df_num=3\n",
            "ssr based chi2 test:   chi2=602.2669, p=0.0000  , df=3\n",
            "likelihood ratio test: chi2=212.4789, p=0.0000  , df=3\n",
            "parameter F test:         F=188.7446, p=0.0000  , df_denom=110, df_num=3\n"
          ],
          "name": "stdout"
        }
      ]
    },
    {
      "cell_type": "code",
      "metadata": {
        "id": "homv_JIjvUGt",
        "outputId": "30446bcf-b858-41ef-cbc1-63c2c43422db",
        "colab": {
          "base_uri": "https://localhost:8080/"
        }
      },
      "source": [
        "grangercausalitytests(df3[['b','d']],maxlag=3);"
      ],
      "execution_count": null,
      "outputs": [
        {
          "output_type": "stream",
          "text": [
            "\n",
            "Granger Causality\n",
            "number of lags (no zero) 1\n",
            "ssr based F test:         F=1.5225  , p=0.2197  , df_denom=116, df_num=1\n",
            "ssr based chi2 test:   chi2=1.5619  , p=0.2114  , df=1\n",
            "likelihood ratio test: chi2=1.5517  , p=0.2129  , df=1\n",
            "parameter F test:         F=1.5225  , p=0.2197  , df_denom=116, df_num=1\n",
            "\n",
            "Granger Causality\n",
            "number of lags (no zero) 2\n",
            "ssr based F test:         F=0.4350  , p=0.6483  , df_denom=113, df_num=2\n",
            "ssr based chi2 test:   chi2=0.9086  , p=0.6349  , df=2\n",
            "likelihood ratio test: chi2=0.9051  , p=0.6360  , df=2\n",
            "parameter F test:         F=0.4350  , p=0.6483  , df_denom=113, df_num=2\n",
            "\n",
            "Granger Causality\n",
            "number of lags (no zero) 3\n",
            "ssr based F test:         F=0.5333  , p=0.6604  , df_denom=110, df_num=3\n",
            "ssr based chi2 test:   chi2=1.7018  , p=0.6365  , df=3\n",
            "likelihood ratio test: chi2=1.6895  , p=0.6393  , df=3\n",
            "parameter F test:         F=0.5333  , p=0.6604  , df_denom=110, df_num=3\n"
          ],
          "name": "stdout"
        }
      ]
    },
    {
      "cell_type": "code",
      "metadata": {
        "id": "r5al07YK3Sf6",
        "outputId": "8d692cb6-e202-4aaf-af97-ccf0af7579db",
        "colab": {
          "base_uri": "https://localhost:8080/",
          "height": 228
        }
      },
      "source": [
        "df1.head()"
      ],
      "execution_count": 26,
      "outputs": [
        {
          "output_type": "execute_result",
          "data": {
            "text/html": [
              "<div>\n",
              "<style scoped>\n",
              "    .dataframe tbody tr th:only-of-type {\n",
              "        vertical-align: middle;\n",
              "    }\n",
              "\n",
              "    .dataframe tbody tr th {\n",
              "        vertical-align: top;\n",
              "    }\n",
              "\n",
              "    .dataframe thead th {\n",
              "        text-align: right;\n",
              "    }\n",
              "</style>\n",
              "<table border=\"1\" class=\"dataframe\">\n",
              "  <thead>\n",
              "    <tr style=\"text-align: right;\">\n",
              "      <th></th>\n",
              "      <th>Thousands of Passengers</th>\n",
              "    </tr>\n",
              "    <tr>\n",
              "      <th>Month</th>\n",
              "      <th></th>\n",
              "    </tr>\n",
              "  </thead>\n",
              "  <tbody>\n",
              "    <tr>\n",
              "      <th>1949-01-01</th>\n",
              "      <td>112</td>\n",
              "    </tr>\n",
              "    <tr>\n",
              "      <th>1949-02-01</th>\n",
              "      <td>118</td>\n",
              "    </tr>\n",
              "    <tr>\n",
              "      <th>1949-03-01</th>\n",
              "      <td>132</td>\n",
              "    </tr>\n",
              "    <tr>\n",
              "      <th>1949-04-01</th>\n",
              "      <td>129</td>\n",
              "    </tr>\n",
              "    <tr>\n",
              "      <th>1949-05-01</th>\n",
              "      <td>121</td>\n",
              "    </tr>\n",
              "  </tbody>\n",
              "</table>\n",
              "</div>"
            ],
            "text/plain": [
              "            Thousands of Passengers\n",
              "Month                              \n",
              "1949-01-01                      112\n",
              "1949-02-01                      118\n",
              "1949-03-01                      132\n",
              "1949-04-01                      129\n",
              "1949-05-01                      121"
            ]
          },
          "metadata": {
            "tags": []
          },
          "execution_count": 26
        }
      ]
    },
    {
      "cell_type": "code",
      "metadata": {
        "id": "WMx1JgjC4XgE"
      },
      "source": [
        "from statsmodels.graphics.tsaplots import month_plot"
      ],
      "execution_count": 27,
      "outputs": []
    },
    {
      "cell_type": "code",
      "metadata": {
        "id": "KOXQi3Ud4cVS",
        "outputId": "fb6991c5-5652-4a9b-dae6-9a3c6d56383e",
        "colab": {
          "base_uri": "https://localhost:8080/",
          "height": 265
        }
      },
      "source": [
        "month_plot(df1['Thousands of Passengers']);"
      ],
      "execution_count": 29,
      "outputs": [
        {
          "output_type": "display_data",
          "data": {
            "image/png": "[encoded data removed]",
            "text/plain": [
              "<Figure size 432x288 with 1 Axes>"
            ]
          },
          "metadata": {
            "tags": [],
            "needs_background": "light"
          }
        }
      ]
    }
  ]
}