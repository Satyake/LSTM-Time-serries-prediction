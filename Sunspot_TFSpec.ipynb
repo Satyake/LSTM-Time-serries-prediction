{
  "nbformat": 4,
  "nbformat_minor": 0,
  "metadata": {
    "colab": {
      "name": "Sunspot-TFSpec",
      "provenance": [],
      "authorship_tag": "ABX9TyNdKcs4EEJxxnONvZjorM7F",
      "include_colab_link": true
    },
    "kernelspec": {
      "name": "python3",
      "display_name": "Python 3"
    },
    "language_info": {
      "name": "python"
    }
  },
  "cells": [
    {
      "cell_type": "markdown",
      "metadata": {
        "id": "view-in-github",
        "colab_type": "text"
      },
      "source": [
        "<a href=\"https://colab.research.google.com/github/Satyake/Time-Series-Analysis-spagheti-code/blob/master/Sunspot_TFSpec.ipynb\" target=\"_parent\"><img src=\"https://colab.research.google.com/assets/colab-badge.svg\" alt=\"Open In Colab\"/></a>"
      ]
    },
    {
      "cell_type": "code",
      "metadata": {
        "colab": {
          "base_uri": "https://localhost:8080/"
        },
        "id": "C4Zz7nk-My5H",
        "outputId": "4109bc3a-8c93-4ffd-9113-8fdae329a5f0"
      },
      "source": [
        "!unzip '/content/archive_4.zip'"
      ],
      "execution_count": 26,
      "outputs": [
        {
          "output_type": "stream",
          "text": [
            "Archive:  /content/archive_4.zip\n",
            "  inflating: daily-minimum-temperatures-in-me.csv  \n"
          ],
          "name": "stdout"
        }
      ]
    },
    {
      "cell_type": "code",
      "metadata": {
        "id": "bc5Ph8MmM94X"
      },
      "source": [
        "import pandas as pd"
      ],
      "execution_count": 2,
      "outputs": []
    },
    {
      "cell_type": "code",
      "metadata": {
        "colab": {
          "base_uri": "https://localhost:8080/",
          "height": 295
        },
        "id": "VZrMG_o-Oogi",
        "outputId": "b244b485-e017-4a72-b537-ade6701837c6"
      },
      "source": [
        "with open('/content/sunspot.xlsx',encoding='utf-8') as f:\n",
        "  data=f.readlines()"
      ],
      "execution_count": 25,
      "outputs": [
        {
          "output_type": "error",
          "ename": "UnicodeDecodeError",
          "evalue": "ignored",
          "traceback": [
            "\u001b[0;31m---------------------------------------------------------------------------\u001b[0m",
            "\u001b[0;31mUnicodeDecodeError\u001b[0m                        Traceback (most recent call last)",
            "\u001b[0;32m<ipython-input-25-5550160b7bbb>\u001b[0m in \u001b[0;36m<module>\u001b[0;34m()\u001b[0m\n\u001b[1;32m      1\u001b[0m \u001b[0;32mwith\u001b[0m \u001b[0mopen\u001b[0m\u001b[0;34m(\u001b[0m\u001b[0;34m'/content/sunspot.xlsx'\u001b[0m\u001b[0;34m,\u001b[0m\u001b[0mencoding\u001b[0m\u001b[0;34m=\u001b[0m\u001b[0;34m'utf-8'\u001b[0m\u001b[0;34m)\u001b[0m \u001b[0;32mas\u001b[0m \u001b[0mf\u001b[0m\u001b[0;34m:\u001b[0m\u001b[0;34m\u001b[0m\u001b[0;34m\u001b[0m\u001b[0m\n\u001b[0;32m----> 2\u001b[0;31m   \u001b[0mdata\u001b[0m\u001b[0;34m=\u001b[0m\u001b[0mf\u001b[0m\u001b[0;34m.\u001b[0m\u001b[0mreadlines\u001b[0m\u001b[0;34m(\u001b[0m\u001b[0;34m)\u001b[0m\u001b[0;34m\u001b[0m\u001b[0;34m\u001b[0m\u001b[0m\n\u001b[0m",
            "\u001b[0;32m/usr/lib/python3.7/codecs.py\u001b[0m in \u001b[0;36mdecode\u001b[0;34m(self, input, final)\u001b[0m\n\u001b[1;32m    320\u001b[0m         \u001b[0;31m# decode input (taking the buffer into account)\u001b[0m\u001b[0;34m\u001b[0m\u001b[0;34m\u001b[0m\u001b[0;34m\u001b[0m\u001b[0m\n\u001b[1;32m    321\u001b[0m         \u001b[0mdata\u001b[0m \u001b[0;34m=\u001b[0m \u001b[0mself\u001b[0m\u001b[0;34m.\u001b[0m\u001b[0mbuffer\u001b[0m \u001b[0;34m+\u001b[0m \u001b[0minput\u001b[0m\u001b[0;34m\u001b[0m\u001b[0;34m\u001b[0m\u001b[0m\n\u001b[0;32m--> 322\u001b[0;31m         \u001b[0;34m(\u001b[0m\u001b[0mresult\u001b[0m\u001b[0;34m,\u001b[0m \u001b[0mconsumed\u001b[0m\u001b[0;34m)\u001b[0m \u001b[0;34m=\u001b[0m \u001b[0mself\u001b[0m\u001b[0;34m.\u001b[0m\u001b[0m_buffer_decode\u001b[0m\u001b[0;34m(\u001b[0m\u001b[0mdata\u001b[0m\u001b[0;34m,\u001b[0m \u001b[0mself\u001b[0m\u001b[0;34m.\u001b[0m\u001b[0merrors\u001b[0m\u001b[0;34m,\u001b[0m \u001b[0mfinal\u001b[0m\u001b[0;34m)\u001b[0m\u001b[0;34m\u001b[0m\u001b[0;34m\u001b[0m\u001b[0m\n\u001b[0m\u001b[1;32m    323\u001b[0m         \u001b[0;31m# keep undecoded input until the next call\u001b[0m\u001b[0;34m\u001b[0m\u001b[0;34m\u001b[0m\u001b[0;34m\u001b[0m\u001b[0m\n\u001b[1;32m    324\u001b[0m         \u001b[0mself\u001b[0m\u001b[0;34m.\u001b[0m\u001b[0mbuffer\u001b[0m \u001b[0;34m=\u001b[0m \u001b[0mdata\u001b[0m\u001b[0;34m[\u001b[0m\u001b[0mconsumed\u001b[0m\u001b[0;34m:\u001b[0m\u001b[0;34m]\u001b[0m\u001b[0;34m\u001b[0m\u001b[0;34m\u001b[0m\u001b[0m\n",
            "\u001b[0;31mUnicodeDecodeError\u001b[0m: 'utf-8' codec can't decode byte 0x82 in position 16: invalid start byte"
          ]
        }
      ]
    },
    {
      "cell_type": "code",
      "metadata": {
        "id": "M0ws7sN8M_NT"
      },
      "source": [
        "data=pd.read_csv('/content/daily-minimum-temperatures-in-me (1).csv')"
      ],
      "execution_count": 80,
      "outputs": []
    },
    {
      "cell_type": "code",
      "metadata": {
        "colab": {
          "base_uri": "https://localhost:8080/",
          "height": 202
        },
        "id": "v1BIMj3NPijt",
        "outputId": "3ade921e-6b0c-4ff2-d4d4-e3d6f16d18b1"
      },
      "source": [
        ""
      ],
      "execution_count": 72,
      "outputs": [
        {
          "output_type": "execute_result",
          "data": {
            "text/html": [
              "<div>\n",
              "<style scoped>\n",
              "    .dataframe tbody tr th:only-of-type {\n",
              "        vertical-align: middle;\n",
              "    }\n",
              "\n",
              "    .dataframe tbody tr th {\n",
              "        vertical-align: top;\n",
              "    }\n",
              "\n",
              "    .dataframe thead th {\n",
              "        text-align: right;\n",
              "    }\n",
              "</style>\n",
              "<table border=\"1\" class=\"dataframe\">\n",
              "  <thead>\n",
              "    <tr style=\"text-align: right;\">\n",
              "      <th></th>\n",
              "      <th>date</th>\n",
              "      <th>tempa</th>\n",
              "    </tr>\n",
              "  </thead>\n",
              "  <tbody>\n",
              "    <tr>\n",
              "      <th>0</th>\n",
              "      <td>1/1/1981</td>\n",
              "      <td>20.7</td>\n",
              "    </tr>\n",
              "    <tr>\n",
              "      <th>1</th>\n",
              "      <td>1/2/1981</td>\n",
              "      <td>17.9</td>\n",
              "    </tr>\n",
              "    <tr>\n",
              "      <th>2</th>\n",
              "      <td>1/3/1981</td>\n",
              "      <td>18.8</td>\n",
              "    </tr>\n",
              "    <tr>\n",
              "      <th>3</th>\n",
              "      <td>1/4/1981</td>\n",
              "      <td>14.6</td>\n",
              "    </tr>\n",
              "    <tr>\n",
              "      <th>4</th>\n",
              "      <td>1/5/1981</td>\n",
              "      <td>15.8</td>\n",
              "    </tr>\n",
              "  </tbody>\n",
              "</table>\n",
              "</div>"
            ],
            "text/plain": [
              "       date tempa\n",
              "0  1/1/1981  20.7\n",
              "1  1/2/1981  17.9\n",
              "2  1/3/1981  18.8\n",
              "3  1/4/1981  14.6\n",
              "4  1/5/1981  15.8"
            ]
          },
          "metadata": {
            "tags": []
          },
          "execution_count": 72
        }
      ]
    },
    {
      "cell_type": "code",
      "metadata": {
        "id": "_OY94rWePsoU"
      },
      "source": [
        "data['tempa']=pd.to_numeric(data['tempa'])"
      ],
      "execution_count": 81,
      "outputs": []
    },
    {
      "cell_type": "code",
      "metadata": {
        "id": "v-4tWZwcQQLb"
      },
      "source": [
        "x=data.iloc[:,[1]].values"
      ],
      "execution_count": 82,
      "outputs": []
    },
    {
      "cell_type": "code",
      "metadata": {
        "colab": {
          "base_uri": "https://localhost:8080/"
        },
        "id": "5mAFdRFjQUrw",
        "outputId": "6bb1c3c0-7a07-4db0-fdbf-a73db18afeb9"
      },
      "source": [
        "x"
      ],
      "execution_count": 83,
      "outputs": [
        {
          "output_type": "execute_result",
          "data": {
            "text/plain": [
              "array([[20.7],\n",
              "       [17.9],\n",
              "       [18.8],\n",
              "       ...,\n",
              "       [13.5],\n",
              "       [15.7],\n",
              "       [13. ]])"
            ]
          },
          "metadata": {
            "tags": []
          },
          "execution_count": 83
        }
      ]
    },
    {
      "cell_type": "code",
      "metadata": {
        "id": "8ZzRuwBxQ9Hn"
      },
      "source": [
        "import numpy as np \n",
        "import tensorflow as tf\n",
        "import keras\n"
      ],
      "execution_count": 84,
      "outputs": []
    },
    {
      "cell_type": "code",
      "metadata": {
        "id": "kMjNI0WSNSG9"
      },
      "source": [
        "x_train=[]\n",
        "y_train=[]\n",
        "for i in range(30,3622):\n",
        "  x_train.append(x[i-30:i])\n",
        "  y_train.append(x[i,0])\n",
        "x_train=np.array(x_train)\n",
        "y_train=np.array(y_train)\n"
      ],
      "execution_count": 86,
      "outputs": []
    },
    {
      "cell_type": "code",
      "metadata": {
        "id": "dncQ_7v8VNw4"
      },
      "source": [
        ""
      ],
      "execution_count": 86,
      "outputs": []
    },
    {
      "cell_type": "code",
      "metadata": {
        "colab": {
          "base_uri": "https://localhost:8080/"
        },
        "id": "iEQe15eMQ_ro",
        "outputId": "90636814-d54a-486f-97d5-9abcb627bb8f"
      },
      "source": [
        "x_train.shape\n",
        "\n"
      ],
      "execution_count": 87,
      "outputs": [
        {
          "output_type": "execute_result",
          "data": {
            "text/plain": [
              "(3592, 30, 1)"
            ]
          },
          "metadata": {
            "tags": []
          },
          "execution_count": 87
        }
      ]
    },
    {
      "cell_type": "code",
      "metadata": {
        "id": "FJdnnIoxTln3"
      },
      "source": [
        "#adding extra dimensions\n",
        "#x_train=np.reshape(x_train,(x_train.shape[0],x_train.shape[1],1))"
      ],
      "execution_count": 52,
      "outputs": []
    },
    {
      "cell_type": "code",
      "metadata": {
        "colab": {
          "base_uri": "https://localhost:8080/"
        },
        "id": "0DK4IXAkT2-K",
        "outputId": "ba12ab09-b418-48f5-ec4b-09092ac176e7"
      },
      "source": [
        "x_train.shape"
      ],
      "execution_count": 88,
      "outputs": [
        {
          "output_type": "execute_result",
          "data": {
            "text/plain": [
              "(3592, 30, 1)"
            ]
          },
          "metadata": {
            "tags": []
          },
          "execution_count": 88
        }
      ]
    },
    {
      "cell_type": "code",
      "metadata": {
        "id": "-E8j9_F6RCqE"
      },
      "source": [
        "model=tf.keras.Sequential([\n",
        "    tf.keras.layers.Conv1D(10,2,strides=1,input_shape=(x_train.shape[1],1)),\n",
        "    tf.keras.layers.LSTM(200,activation='tanh',return_sequences=True),\n",
        "    tf.keras.layers.LSTM(120,activation='tanh',return_sequences=False),\n",
        "    tf.keras.layers.Dense(1)\n",
        "]\n",
        "\n",
        ")"
      ],
      "execution_count": 114,
      "outputs": []
    },
    {
      "cell_type": "code",
      "metadata": {
        "id": "uKR2rGNtUem8"
      },
      "source": [
        "model.compile(optimizer=tf.keras.optimizers.Adam(learning_rate=0.0001),loss=tf.keras.losses.Huber())"
      ],
      "execution_count": 115,
      "outputs": []
    },
    {
      "cell_type": "code",
      "metadata": {
        "colab": {
          "base_uri": "https://localhost:8080/"
        },
        "id": "TVuWw4JcUvkh",
        "outputId": "8fec5b96-4bdd-4427-84bf-7113b24490d7"
      },
      "source": [
        "model.summary()"
      ],
      "execution_count": 116,
      "outputs": [
        {
          "output_type": "stream",
          "text": [
            "Model: \"sequential_3\"\n",
            "_________________________________________________________________\n",
            "Layer (type)                 Output Shape              Param #   \n",
            "=================================================================\n",
            "conv1d_1 (Conv1D)            (None, 29, 10)            30        \n",
            "_________________________________________________________________\n",
            "lstm_10 (LSTM)               (None, 29, 200)           168800    \n",
            "_________________________________________________________________\n",
            "lstm_11 (LSTM)               (None, 120)               154080    \n",
            "_________________________________________________________________\n",
            "dense_5 (Dense)              (None, 1)                 121       \n",
            "=================================================================\n",
            "Total params: 323,031\n",
            "Trainable params: 323,031\n",
            "Non-trainable params: 0\n",
            "_________________________________________________________________\n"
          ],
          "name": "stdout"
        }
      ]
    },
    {
      "cell_type": "code",
      "metadata": {
        "id": "zr8l5pidVJKS"
      },
      "source": [
        ""
      ],
      "execution_count": 116,
      "outputs": []
    },
    {
      "cell_type": "code",
      "metadata": {
        "id": "KyanUKI3U-F4"
      },
      "source": [
        "patience = 1\n",
        "stop_patience = 3\n",
        "factor = 0.5\n",
        "\n",
        "callbacks = [\n",
        "    #tf.keras.callbacks.ModelCheckpoint(\"classify_model.h5\", save_best_only=True, verbose = 0),\n",
        "    tf.keras.callbacks.EarlyStopping(patience=stop_patience, monitor='train_loss', verbose=1),\n",
        "    tf.keras.callbacks.ReduceLROnPlateau(monitor='train_loss', factor=factor, patience=patience, verbose=1)\n",
        "]"
      ],
      "execution_count": 109,
      "outputs": []
    },
    {
      "cell_type": "code",
      "metadata": {
        "colab": {
          "base_uri": "https://localhost:8080/"
        },
        "id": "t5msIY_2UxLJ",
        "outputId": "9fa4e095-c237-4931-8d3b-f3bc6f6f824a"
      },
      "source": [
        "history=model.fit(x_train,y_train,epochs=100)"
      ],
      "execution_count": 117,
      "outputs": [
        {
          "output_type": "stream",
          "text": [
            "Epoch 1/100\n",
            "113/113 [==============================] - 15s 109ms/step - loss: 4.7218\n",
            "Epoch 2/100\n",
            "113/113 [==============================] - 12s 109ms/step - loss: 2.0069\n",
            "Epoch 3/100\n",
            "113/113 [==============================] - 12s 109ms/step - loss: 1.7752\n",
            "Epoch 4/100\n",
            "113/113 [==============================] - 12s 109ms/step - loss: 1.7254\n",
            "Epoch 5/100\n",
            "113/113 [==============================] - 13s 111ms/step - loss: 1.6833\n",
            "Epoch 6/100\n",
            "113/113 [==============================] - 13s 112ms/step - loss: 1.6308\n",
            "Epoch 7/100\n",
            "113/113 [==============================] - 13s 113ms/step - loss: 1.5842\n",
            "Epoch 8/100\n",
            "113/113 [==============================] - 12s 109ms/step - loss: 1.5376\n",
            "Epoch 9/100\n",
            "113/113 [==============================] - 12s 109ms/step - loss: 1.5137\n",
            "Epoch 10/100\n",
            "113/113 [==============================] - 12s 109ms/step - loss: 1.5030\n",
            "Epoch 11/100\n",
            "113/113 [==============================] - 13s 111ms/step - loss: 1.4865\n",
            "Epoch 12/100\n",
            "113/113 [==============================] - 13s 112ms/step - loss: 1.4802\n",
            "Epoch 13/100\n",
            "113/113 [==============================] - 13s 113ms/step - loss: 1.4854\n",
            "Epoch 14/100\n",
            "113/113 [==============================] - 13s 113ms/step - loss: 1.4675\n",
            "Epoch 15/100\n",
            "113/113 [==============================] - 13s 111ms/step - loss: 1.4654\n",
            "Epoch 16/100\n",
            "113/113 [==============================] - 13s 111ms/step - loss: 1.4581\n",
            "Epoch 17/100\n",
            "113/113 [==============================] - 13s 113ms/step - loss: 1.4530\n",
            "Epoch 18/100\n",
            "113/113 [==============================] - 13s 112ms/step - loss: 1.4606\n",
            "Epoch 19/100\n",
            "113/113 [==============================] - 13s 111ms/step - loss: 1.4545\n",
            "Epoch 20/100\n",
            "113/113 [==============================] - 12s 110ms/step - loss: 1.4513\n",
            "Epoch 21/100\n",
            "113/113 [==============================] - 13s 112ms/step - loss: 1.4428\n",
            "Epoch 22/100\n",
            "113/113 [==============================] - 13s 112ms/step - loss: 1.4375\n",
            "Epoch 23/100\n",
            "113/113 [==============================] - 13s 112ms/step - loss: 1.4421\n",
            "Epoch 24/100\n",
            "113/113 [==============================] - 13s 112ms/step - loss: 1.4502\n",
            "Epoch 25/100\n",
            "113/113 [==============================] - 13s 111ms/step - loss: 1.4346\n",
            "Epoch 26/100\n",
            "113/113 [==============================] - 12s 110ms/step - loss: 1.4369\n",
            "Epoch 27/100\n",
            "113/113 [==============================] - 12s 110ms/step - loss: 1.4336\n",
            "Epoch 28/100\n",
            "113/113 [==============================] - 13s 112ms/step - loss: 1.4325\n",
            "Epoch 29/100\n",
            "113/113 [==============================] - 13s 112ms/step - loss: 1.4343\n",
            "Epoch 30/100\n",
            "113/113 [==============================] - 13s 111ms/step - loss: 1.4335\n",
            "Epoch 31/100\n",
            "113/113 [==============================] - 12s 110ms/step - loss: 1.4350\n",
            "Epoch 32/100\n",
            "113/113 [==============================] - 13s 112ms/step - loss: 1.4298\n",
            "Epoch 33/100\n",
            "113/113 [==============================] - 12s 110ms/step - loss: 1.4307\n",
            "Epoch 34/100\n",
            "113/113 [==============================] - 12s 111ms/step - loss: 1.4289\n",
            "Epoch 35/100\n",
            "113/113 [==============================] - 12s 110ms/step - loss: 1.4201\n",
            "Epoch 36/100\n",
            "113/113 [==============================] - 13s 113ms/step - loss: 1.4207\n",
            "Epoch 37/100\n",
            "113/113 [==============================] - 13s 111ms/step - loss: 1.4240\n",
            "Epoch 38/100\n",
            "113/113 [==============================] - 13s 112ms/step - loss: 1.4228\n",
            "Epoch 39/100\n",
            "113/113 [==============================] - 12s 110ms/step - loss: 1.4161\n",
            "Epoch 40/100\n",
            "113/113 [==============================] - 13s 112ms/step - loss: 1.4183\n",
            "Epoch 41/100\n",
            "113/113 [==============================] - 12s 110ms/step - loss: 1.4164\n",
            "Epoch 42/100\n",
            "113/113 [==============================] - 12s 110ms/step - loss: 1.4277\n",
            "Epoch 43/100\n",
            "113/113 [==============================] - 13s 112ms/step - loss: 1.4219\n",
            "Epoch 44/100\n",
            "113/113 [==============================] - 13s 114ms/step - loss: 1.4135\n",
            "Epoch 45/100\n",
            "113/113 [==============================] - 13s 111ms/step - loss: 1.4122\n",
            "Epoch 46/100\n",
            "113/113 [==============================] - 12s 110ms/step - loss: 1.4085\n",
            "Epoch 47/100\n",
            "113/113 [==============================] - 12s 110ms/step - loss: 1.4075\n",
            "Epoch 48/100\n",
            "113/113 [==============================] - 12s 110ms/step - loss: 1.4147\n",
            "Epoch 49/100\n",
            "113/113 [==============================] - 12s 110ms/step - loss: 1.4074\n",
            "Epoch 50/100\n",
            "113/113 [==============================] - 13s 111ms/step - loss: 1.4128\n",
            "Epoch 51/100\n",
            "113/113 [==============================] - 12s 110ms/step - loss: 1.4089\n",
            "Epoch 52/100\n",
            "113/113 [==============================] - 12s 110ms/step - loss: 1.4113\n",
            "Epoch 53/100\n",
            "113/113 [==============================] - 12s 110ms/step - loss: 1.4056\n",
            "Epoch 54/100\n",
            "113/113 [==============================] - 12s 110ms/step - loss: 1.4070\n",
            "Epoch 55/100\n",
            "113/113 [==============================] - 13s 113ms/step - loss: 1.4009\n",
            "Epoch 56/100\n",
            "113/113 [==============================] - 13s 111ms/step - loss: 1.4029\n",
            "Epoch 57/100\n",
            "113/113 [==============================] - 12s 110ms/step - loss: 1.3925\n",
            "Epoch 58/100\n",
            "113/113 [==============================] - 13s 111ms/step - loss: 1.3950\n",
            "Epoch 59/100\n",
            "113/113 [==============================] - 12s 110ms/step - loss: 1.3964\n",
            "Epoch 60/100\n",
            "113/113 [==============================] - 13s 113ms/step - loss: 1.4037\n",
            "Epoch 61/100\n",
            "113/113 [==============================] - 13s 114ms/step - loss: 1.4033\n",
            "Epoch 62/100\n",
            "113/113 [==============================] - 13s 112ms/step - loss: 1.4044\n",
            "Epoch 63/100\n",
            "113/113 [==============================] - 13s 112ms/step - loss: 1.3910\n",
            "Epoch 64/100\n",
            "113/113 [==============================] - 13s 111ms/step - loss: 1.3912\n",
            "Epoch 65/100\n",
            "113/113 [==============================] - 12s 110ms/step - loss: 1.3906\n",
            "Epoch 66/100\n",
            "113/113 [==============================] - 13s 112ms/step - loss: 1.3930\n",
            "Epoch 67/100\n",
            "113/113 [==============================] - 12s 110ms/step - loss: 1.3901\n",
            "Epoch 68/100\n",
            "113/113 [==============================] - 13s 111ms/step - loss: 1.3997\n",
            "Epoch 69/100\n",
            "113/113 [==============================] - 13s 111ms/step - loss: 1.3857\n",
            "Epoch 70/100\n",
            "113/113 [==============================] - 13s 112ms/step - loss: 1.3846\n",
            "Epoch 71/100\n",
            "113/113 [==============================] - 13s 114ms/step - loss: 1.3869\n",
            "Epoch 72/100\n",
            "113/113 [==============================] - 13s 113ms/step - loss: 1.3824\n",
            "Epoch 73/100\n",
            "113/113 [==============================] - 13s 113ms/step - loss: 1.3846\n",
            "Epoch 74/100\n",
            "113/113 [==============================] - 13s 113ms/step - loss: 1.3823\n",
            "Epoch 75/100\n",
            "113/113 [==============================] - 13s 114ms/step - loss: 1.3832\n",
            "Epoch 76/100\n",
            "113/113 [==============================] - 13s 111ms/step - loss: 1.3808\n",
            "Epoch 77/100\n",
            "113/113 [==============================] - 12s 110ms/step - loss: 1.3804\n",
            "Epoch 78/100\n",
            "113/113 [==============================] - 13s 111ms/step - loss: 1.3813\n",
            "Epoch 79/100\n",
            "113/113 [==============================] - 13s 111ms/step - loss: 1.3761\n",
            "Epoch 80/100\n",
            "113/113 [==============================] - 13s 113ms/step - loss: 1.3757\n",
            "Epoch 81/100\n",
            "113/113 [==============================] - 13s 112ms/step - loss: 1.3748\n",
            "Epoch 82/100\n",
            "113/113 [==============================] - 12s 110ms/step - loss: 1.3753\n",
            "Epoch 83/100\n",
            "113/113 [==============================] - 13s 112ms/step - loss: 1.3717\n",
            "Epoch 84/100\n",
            "113/113 [==============================] - 12s 111ms/step - loss: 1.3707\n",
            "Epoch 85/100\n",
            "113/113 [==============================] - 13s 112ms/step - loss: 1.3600\n",
            "Epoch 86/100\n",
            "113/113 [==============================] - 13s 112ms/step - loss: 1.3641\n",
            "Epoch 87/100\n",
            "113/113 [==============================] - 13s 111ms/step - loss: 1.3713\n",
            "Epoch 88/100\n",
            "113/113 [==============================] - 13s 112ms/step - loss: 1.3651\n",
            "Epoch 89/100\n",
            "113/113 [==============================] - 13s 113ms/step - loss: 1.3603\n",
            "Epoch 90/100\n",
            "113/113 [==============================] - 12s 110ms/step - loss: 1.3573\n",
            "Epoch 91/100\n",
            "113/113 [==============================] - 13s 113ms/step - loss: 1.3588\n",
            "Epoch 92/100\n",
            "113/113 [==============================] - 13s 111ms/step - loss: 1.3569\n",
            "Epoch 93/100\n",
            "113/113 [==============================] - 13s 113ms/step - loss: 1.3512\n",
            "Epoch 94/100\n",
            "113/113 [==============================] - 13s 111ms/step - loss: 1.3533\n",
            "Epoch 95/100\n",
            "113/113 [==============================] - 13s 113ms/step - loss: 1.3507\n",
            "Epoch 96/100\n",
            "113/113 [==============================] - 13s 111ms/step - loss: 1.3486\n",
            "Epoch 97/100\n",
            "113/113 [==============================] - 13s 112ms/step - loss: 1.3509\n",
            "Epoch 98/100\n",
            "113/113 [==============================] - 13s 113ms/step - loss: 1.3516\n",
            "Epoch 99/100\n",
            "113/113 [==============================] - 13s 113ms/step - loss: 1.3482\n",
            "Epoch 100/100\n",
            "113/113 [==============================] - 13s 113ms/step - loss: 1.3484\n"
          ],
          "name": "stdout"
        }
      ]
    },
    {
      "cell_type": "code",
      "metadata": {
        "id": "wMMZ5vscWPXM"
      },
      "source": [
        "x_test=[]\n",
        "y_test=[]\n",
        "for i in range(3592,3622):\n",
        "  x_test.append(x[i-3592:i])\n",
        "  y_test.append(x[i,0])\n",
        "x_test=np.array(x_test)\n",
        "y_test=np.array(y_test)\n"
      ],
      "execution_count": 111,
      "outputs": []
    },
    {
      "cell_type": "code",
      "metadata": {
        "colab": {
          "base_uri": "https://localhost:8080/"
        },
        "id": "oWe1nrOmdACk",
        "outputId": "87cf1f81-9bb0-44de-daaf-08d8d845972d"
      },
      "source": [
        "preds=model.predict(x_test)"
      ],
      "execution_count": 112,
      "outputs": [
        {
          "output_type": "stream",
          "text": [
            "WARNING:tensorflow:Model was constructed with shape (None, 30, 1) for input KerasTensor(type_spec=TensorSpec(shape=(None, 30, 1), dtype=tf.float32, name='conv1d_input'), name='conv1d_input', description=\"created by layer 'conv1d_input'\"), but it was called on an input with incompatible shape (None, 3592, 1).\n"
          ],
          "name": "stdout"
        }
      ]
    },
    {
      "cell_type": "code",
      "metadata": {
        "colab": {
          "base_uri": "https://localhost:8080/",
          "height": 281
        },
        "id": "BnXPeWWCdVNE",
        "outputId": "45876271-e28d-4eab-ebdd-8d2ff8eeaf2a"
      },
      "source": [
        "import matplotlib.pyplot as plt\n",
        "\n",
        "plt.plot(preds)\n",
        "plt.plot(y_test)"
      ],
      "execution_count": 113,
      "outputs": [
        {
          "output_type": "execute_result",
          "data": {
            "text/plain": [
              "[<matplotlib.lines.Line2D at 0x7f88dd6ba5d0>]"
            ]
          },
          "metadata": {
            "tags": []
          },
          "execution_count": 113
        },
        {
          "output_type": "display_data",
          "data": {
            "image/png": "[encoded data removed]",
            "text/plain": [
              "<Figure size 432x288 with 1 Axes>"
            ]
          },
          "metadata": {
            "tags": [],
            "needs_background": "light"
          }
        }
      ]
    }
  ]
}