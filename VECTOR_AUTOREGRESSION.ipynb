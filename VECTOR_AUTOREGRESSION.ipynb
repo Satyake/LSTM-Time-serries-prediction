{
  "nbformat": 4,
  "nbformat_minor": 0,
  "metadata": {
    "colab": {
      "name": "VECTOR AUTOREGRESSION",
      "provenance": [],
      "authorship_tag": "ABX9TyMKa1sP/xhr/FbEeSHv2L9g",
      "include_colab_link": true
    },
    "kernelspec": {
      "name": "python3",
      "display_name": "Python 3"
    }
  },
  "cells": [
    {
      "cell_type": "markdown",
      "metadata": {
        "id": "view-in-github",
        "colab_type": "text"
      },
      "source": [
        "<a href=\"https://colab.research.google.com/github/Satyake/Time-Series-Analysis-spagheti-code/blob/master/VECTOR_AUTOREGRESSION.ipynb\" target=\"_parent\"><img src=\"https://colab.research.google.com/assets/colab-badge.svg\" alt=\"Open In Colab\"/></a>"
      ]
    },
    {
      "cell_type": "code",
      "metadata": {
        "id": "4AknkdrUVusP"
      },
      "source": [
        "import pandas as pd \n",
        "import numpy as np "
      ],
      "execution_count": 2,
      "outputs": []
    },
    {
      "cell_type": "code",
      "metadata": {
        "id": "YbXDDR6sKGsM"
      },
      "source": [
        ""
      ],
      "execution_count": null,
      "outputs": []
    },
    {
      "cell_type": "code",
      "metadata": {
        "id": "d_ZjIpymJ-Ct"
      },
      "source": [
        "data_money=pd.read_csv('/content/M2SLMoneyStock.csv',index_col='Date',parse_dates=True)\n",
        "data_pce=pd.read_csv('/content/PCEPersonalSpending.csv',index_col='Date',parse_dates=True)"
      ],
      "execution_count": 30,
      "outputs": []
    },
    {
      "cell_type": "code",
      "metadata": {
        "id": "xDGpfSwzKgXF"
      },
      "source": [
        "df=data_money.join(data_pce)"
      ],
      "execution_count": 31,
      "outputs": []
    },
    {
      "cell_type": "code",
      "metadata": {
        "id": "7-2KUTKtKqFY"
      },
      "source": [
        "df_concat=pd.concat([data_money,data_pce],axis=1)"
      ],
      "execution_count": 32,
      "outputs": []
    },
    {
      "cell_type": "code",
      "metadata": {
        "id": "ia8nOBOMKn6y",
        "outputId": "b827d250-fedc-4755-8840-dba0cf8bb71d",
        "colab": {
          "base_uri": "https://localhost:8080/",
          "height": 434
        }
      },
      "source": [
        "df_concat"
      ],
      "execution_count": 14,
      "outputs": [
        {
          "output_type": "execute_result",
          "data": {
            "text/html": [
              "<div>\n",
              "<style scoped>\n",
              "    .dataframe tbody tr th:only-of-type {\n",
              "        vertical-align: middle;\n",
              "    }\n",
              "\n",
              "    .dataframe tbody tr th {\n",
              "        vertical-align: top;\n",
              "    }\n",
              "\n",
              "    .dataframe thead th {\n",
              "        text-align: right;\n",
              "    }\n",
              "</style>\n",
              "<table border=\"1\" class=\"dataframe\">\n",
              "  <thead>\n",
              "    <tr style=\"text-align: right;\">\n",
              "      <th></th>\n",
              "      <th>Money</th>\n",
              "      <th>Spending</th>\n",
              "    </tr>\n",
              "    <tr>\n",
              "      <th>Date</th>\n",
              "      <th></th>\n",
              "      <th></th>\n",
              "    </tr>\n",
              "  </thead>\n",
              "  <tbody>\n",
              "    <tr>\n",
              "      <th>1995-01-01</th>\n",
              "      <td>3492.4</td>\n",
              "      <td>4851.2</td>\n",
              "    </tr>\n",
              "    <tr>\n",
              "      <th>1995-02-01</th>\n",
              "      <td>3489.9</td>\n",
              "      <td>4850.8</td>\n",
              "    </tr>\n",
              "    <tr>\n",
              "      <th>1995-03-01</th>\n",
              "      <td>3491.1</td>\n",
              "      <td>4885.4</td>\n",
              "    </tr>\n",
              "    <tr>\n",
              "      <th>1995-04-01</th>\n",
              "      <td>3499.2</td>\n",
              "      <td>4890.2</td>\n",
              "    </tr>\n",
              "    <tr>\n",
              "      <th>1995-05-01</th>\n",
              "      <td>3524.2</td>\n",
              "      <td>4933.1</td>\n",
              "    </tr>\n",
              "    <tr>\n",
              "      <th>...</th>\n",
              "      <td>...</td>\n",
              "      <td>...</td>\n",
              "    </tr>\n",
              "    <tr>\n",
              "      <th>2015-08-01</th>\n",
              "      <td>12096.8</td>\n",
              "      <td>12394.0</td>\n",
              "    </tr>\n",
              "    <tr>\n",
              "      <th>2015-09-01</th>\n",
              "      <td>12153.8</td>\n",
              "      <td>12392.8</td>\n",
              "    </tr>\n",
              "    <tr>\n",
              "      <th>2015-10-01</th>\n",
              "      <td>12187.7</td>\n",
              "      <td>12416.1</td>\n",
              "    </tr>\n",
              "    <tr>\n",
              "      <th>2015-11-01</th>\n",
              "      <td>12277.4</td>\n",
              "      <td>12450.1</td>\n",
              "    </tr>\n",
              "    <tr>\n",
              "      <th>2015-12-01</th>\n",
              "      <td>12335.9</td>\n",
              "      <td>12469.1</td>\n",
              "    </tr>\n",
              "  </tbody>\n",
              "</table>\n",
              "<p>252 rows × 2 columns</p>\n",
              "</div>"
            ],
            "text/plain": [
              "              Money  Spending\n",
              "Date                         \n",
              "1995-01-01   3492.4    4851.2\n",
              "1995-02-01   3489.9    4850.8\n",
              "1995-03-01   3491.1    4885.4\n",
              "1995-04-01   3499.2    4890.2\n",
              "1995-05-01   3524.2    4933.1\n",
              "...             ...       ...\n",
              "2015-08-01  12096.8   12394.0\n",
              "2015-09-01  12153.8   12392.8\n",
              "2015-10-01  12187.7   12416.1\n",
              "2015-11-01  12277.4   12450.1\n",
              "2015-12-01  12335.9   12469.1\n",
              "\n",
              "[252 rows x 2 columns]"
            ]
          },
          "metadata": {
            "tags": []
          },
          "execution_count": 14
        }
      ]
    },
    {
      "cell_type": "code",
      "metadata": {
        "id": "ORpwegQLKxbO",
        "outputId": "4e53dc9f-72a5-49f9-925a-24f25fcd9193",
        "colab": {
          "base_uri": "https://localhost:8080/"
        }
      },
      "source": [
        "df_concat.shape"
      ],
      "execution_count": 15,
      "outputs": [
        {
          "output_type": "execute_result",
          "data": {
            "text/plain": [
              "(252, 2)"
            ]
          },
          "metadata": {
            "tags": []
          },
          "execution_count": 15
        }
      ]
    },
    {
      "cell_type": "code",
      "metadata": {
        "id": "2l6f69kzK1bc",
        "outputId": "ca65c021-9ec8-4797-e837-0621c72853e2",
        "colab": {
          "base_uri": "https://localhost:8080/",
          "height": 296
        }
      },
      "source": [
        "df_concat.plot()"
      ],
      "execution_count": 16,
      "outputs": [
        {
          "output_type": "execute_result",
          "data": {
            "text/plain": [
              "<matplotlib.axes._subplots.AxesSubplot at 0x7f7ba8669550>"
            ]
          },
          "metadata": {
            "tags": []
          },
          "execution_count": 16
        },
        {
          "output_type": "display_data",
          "data": {
            "image/png": "[encoded data removed]",
            "text/plain": [
              "<Figure size 432x288 with 1 Axes>"
            ]
          },
          "metadata": {
            "tags": [],
            "needs_background": "light"
          }
        }
      ]
    },
    {
      "cell_type": "code",
      "metadata": {
        "id": "qygFdJMYK8OY"
      },
      "source": [
        "#test forstationarity"
      ],
      "execution_count": 17,
      "outputs": []
    },
    {
      "cell_type": "code",
      "metadata": {
        "id": "q0rdkharK-cR"
      },
      "source": [
        "from statsmodels.tsa.stattools import adfuller"
      ],
      "execution_count": 33,
      "outputs": []
    },
    {
      "cell_type": "code",
      "metadata": {
        "id": "hlnLmjTdLGtU",
        "outputId": "bac860d4-9ce5-47b5-96f7-39beda3eba64",
        "colab": {
          "base_uri": "https://localhost:8080/"
        }
      },
      "source": [
        "adfuller(df_concat['Money'])"
      ],
      "execution_count": 34,
      "outputs": [
        {
          "output_type": "execute_result",
          "data": {
            "text/plain": [
              "(4.239022425670651,\n",
              " 1.0,\n",
              " 4,\n",
              " 247,\n",
              " {'1%': -3.457105309726321,\n",
              "  '10%': -2.5730443824681606,\n",
              "  '5%': -2.873313676101283},\n",
              " 2219.917877142354)"
            ]
          },
          "metadata": {
            "tags": []
          },
          "execution_count": 34
        }
      ]
    },
    {
      "cell_type": "code",
      "metadata": {
        "id": "DMRI8iaGLLPl",
        "outputId": "3cd01462-954c-46a8-8882-746738011eda",
        "colab": {
          "base_uri": "https://localhost:8080/"
        }
      },
      "source": [
        "adfuller(df_concat['Spending'])"
      ],
      "execution_count": 35,
      "outputs": [
        {
          "output_type": "execute_result",
          "data": {
            "text/plain": [
              "(0.14979608598625482,\n",
              " 0.9693009944428312,\n",
              " 3,\n",
              " 248,\n",
              " {'1%': -3.4569962781990573,\n",
              "  '10%': -2.573018897632674,\n",
              "  '5%': -2.8732659015936024},\n",
              " 2339.735574840993)"
            ]
          },
          "metadata": {
            "tags": []
          },
          "execution_count": 35
        }
      ]
    },
    {
      "cell_type": "code",
      "metadata": {
        "id": "5FigPyF4LawS"
      },
      "source": [
        "#p value is greater than alpha in both the cases at 1.0 and 0.96  - non stationary"
      ],
      "execution_count": 22,
      "outputs": []
    },
    {
      "cell_type": "code",
      "metadata": {
        "id": "HhXgWCm_Lgou"
      },
      "source": [
        "df_concat_diff=df_concat.diff()"
      ],
      "execution_count": 36,
      "outputs": []
    },
    {
      "cell_type": "code",
      "metadata": {
        "id": "15eEJ9XQL3jd"
      },
      "source": [
        "df_concat_diff.dropna(inplace=True)"
      ],
      "execution_count": 37,
      "outputs": []
    },
    {
      "cell_type": "code",
      "metadata": {
        "id": "fwRZVAMALsdu",
        "outputId": "100795bb-b5d7-45ed-87a7-e55896438a35",
        "colab": {
          "base_uri": "https://localhost:8080/"
        }
      },
      "source": [
        "adfuller(df_concat_diff['Money'])  #stationary  -2.05 >-2.87"
      ],
      "execution_count": 42,
      "outputs": [
        {
          "output_type": "execute_result",
          "data": {
            "text/plain": [
              "(-2.0574040497379373,\n",
              " 0.2619837978511253,\n",
              " 15,\n",
              " 235,\n",
              " {'1%': -3.4584868856997004,\n",
              "  '10%': -2.573367247623359,\n",
              "  '5%': -2.873918902362675},\n",
              " 2222.948346069441)"
            ]
          },
          "metadata": {
            "tags": []
          },
          "execution_count": 42
        }
      ]
    },
    {
      "cell_type": "code",
      "metadata": {
        "id": "UmtH15bqR1gN"
      },
      "source": [
        "df_concat_diff_2=df_concat_diff.diff()\n"
      ],
      "execution_count": 44,
      "outputs": []
    },
    {
      "cell_type": "code",
      "metadata": {
        "id": "2SEPZyROSM2g"
      },
      "source": [
        "df_concat_diff_2.dropna(inplace=True)"
      ],
      "execution_count": 46,
      "outputs": []
    },
    {
      "cell_type": "code",
      "metadata": {
        "id": "TlZJ-isvSO-3",
        "outputId": "7576786c-0475-4cb5-cd30-8c49ac6a97ad",
        "colab": {
          "base_uri": "https://localhost:8080/",
          "height": 434
        }
      },
      "source": [
        "df_concat_diff_2"
      ],
      "execution_count": 52,
      "outputs": [
        {
          "output_type": "execute_result",
          "data": {
            "text/html": [
              "<div>\n",
              "<style scoped>\n",
              "    .dataframe tbody tr th:only-of-type {\n",
              "        vertical-align: middle;\n",
              "    }\n",
              "\n",
              "    .dataframe tbody tr th {\n",
              "        vertical-align: top;\n",
              "    }\n",
              "\n",
              "    .dataframe thead th {\n",
              "        text-align: right;\n",
              "    }\n",
              "</style>\n",
              "<table border=\"1\" class=\"dataframe\">\n",
              "  <thead>\n",
              "    <tr style=\"text-align: right;\">\n",
              "      <th></th>\n",
              "      <th>Money</th>\n",
              "      <th>Spending</th>\n",
              "    </tr>\n",
              "    <tr>\n",
              "      <th>Date</th>\n",
              "      <th></th>\n",
              "      <th></th>\n",
              "    </tr>\n",
              "  </thead>\n",
              "  <tbody>\n",
              "    <tr>\n",
              "      <th>1995-03-01</th>\n",
              "      <td>3.7</td>\n",
              "      <td>35.0</td>\n",
              "    </tr>\n",
              "    <tr>\n",
              "      <th>1995-04-01</th>\n",
              "      <td>6.9</td>\n",
              "      <td>-29.8</td>\n",
              "    </tr>\n",
              "    <tr>\n",
              "      <th>1995-05-01</th>\n",
              "      <td>16.9</td>\n",
              "      <td>38.1</td>\n",
              "    </tr>\n",
              "    <tr>\n",
              "      <th>1995-06-01</th>\n",
              "      <td>-0.3</td>\n",
              "      <td>1.5</td>\n",
              "    </tr>\n",
              "    <tr>\n",
              "      <th>1995-07-01</th>\n",
              "      <td>-6.2</td>\n",
              "      <td>-51.7</td>\n",
              "    </tr>\n",
              "    <tr>\n",
              "      <th>...</th>\n",
              "      <td>...</td>\n",
              "      <td>...</td>\n",
              "    </tr>\n",
              "    <tr>\n",
              "      <th>2015-08-01</th>\n",
              "      <td>-0.7</td>\n",
              "      <td>-8.5</td>\n",
              "    </tr>\n",
              "    <tr>\n",
              "      <th>2015-09-01</th>\n",
              "      <td>5.5</td>\n",
              "      <td>-39.8</td>\n",
              "    </tr>\n",
              "    <tr>\n",
              "      <th>2015-10-01</th>\n",
              "      <td>-23.1</td>\n",
              "      <td>24.5</td>\n",
              "    </tr>\n",
              "    <tr>\n",
              "      <th>2015-11-01</th>\n",
              "      <td>55.8</td>\n",
              "      <td>10.7</td>\n",
              "    </tr>\n",
              "    <tr>\n",
              "      <th>2015-12-01</th>\n",
              "      <td>-31.2</td>\n",
              "      <td>-15.0</td>\n",
              "    </tr>\n",
              "  </tbody>\n",
              "</table>\n",
              "<p>250 rows × 2 columns</p>\n",
              "</div>"
            ],
            "text/plain": [
              "            Money  Spending\n",
              "Date                       \n",
              "1995-03-01    3.7      35.0\n",
              "1995-04-01    6.9     -29.8\n",
              "1995-05-01   16.9      38.1\n",
              "1995-06-01   -0.3       1.5\n",
              "1995-07-01   -6.2     -51.7\n",
              "...           ...       ...\n",
              "2015-08-01   -0.7      -8.5\n",
              "2015-09-01    5.5     -39.8\n",
              "2015-10-01  -23.1      24.5\n",
              "2015-11-01   55.8      10.7\n",
              "2015-12-01  -31.2     -15.0\n",
              "\n",
              "[250 rows x 2 columns]"
            ]
          },
          "metadata": {
            "tags": []
          },
          "execution_count": 52
        }
      ]
    },
    {
      "cell_type": "code",
      "metadata": {
        "id": "olXYboSpS3Jo",
        "outputId": "9fb99f4e-5f51-4f31-aeae-0035bce84555",
        "colab": {
          "base_uri": "https://localhost:8080/",
          "height": 161
        }
      },
      "source": [
        "shape(df_concat_diff_2)"
      ],
      "execution_count": 55,
      "outputs": [
        {
          "output_type": "error",
          "ename": "NameError",
          "evalue": "ignored",
          "traceback": [
            "\u001b[0;31m---------------------------------------------------------------------------\u001b[0m",
            "\u001b[0;31mNameError\u001b[0m                                 Traceback (most recent call last)",
            "\u001b[0;32m<ipython-input-55-7cbc429eb016>\u001b[0m in \u001b[0;36m<module>\u001b[0;34m()\u001b[0m\n\u001b[0;32m----> 1\u001b[0;31m \u001b[0mshape\u001b[0m\u001b[0;34m(\u001b[0m\u001b[0mdf_concat_diff_2\u001b[0m\u001b[0;34m)\u001b[0m\u001b[0;34m\u001b[0m\u001b[0;34m\u001b[0m\u001b[0m\n\u001b[0m",
            "\u001b[0;31mNameError\u001b[0m: name 'shape' is not defined"
          ]
        }
      ]
    },
    {
      "cell_type": "code",
      "metadata": {
        "id": "ATU0A9JTSHAX",
        "outputId": "fe7e253c-65a2-4f53-a945-4522c63bb989",
        "colab": {
          "base_uri": "https://localhost:8080/"
        }
      },
      "source": [
        "#adfuller(df_concat_diff_2['Money']) #-7.077 is less than 5% stationary  #Money 2nd order\n",
        "adfuller(df_concat_diff_2['Spending'])  #-8.76 is less than 5%  #stationary"
      ],
      "execution_count": 51,
      "outputs": [
        {
          "output_type": "execute_result",
          "data": {
            "text/plain": [
              "(-8.760145426337719,\n",
              " 2.6878999679871547e-14,\n",
              " 8,\n",
              " 241,\n",
              " {'1%': -3.4577787098622674,\n",
              "  '10%': -2.573201765981991,\n",
              "  '5%': -2.873608704758507},\n",
              " 2339.3283710766104)"
            ]
          },
          "metadata": {
            "tags": []
          },
          "execution_count": 51
        }
      ]
    },
    {
      "cell_type": "code",
      "metadata": {
        "id": "YPZfuFPYS1vw"
      },
      "source": [
        ""
      ],
      "execution_count": null,
      "outputs": []
    },
    {
      "cell_type": "code",
      "metadata": {
        "id": "ja1JP79_L-40",
        "outputId": "a0135e9b-4bbb-4a77-d4f9-2ee2742ea295",
        "colab": {
          "base_uri": "https://localhost:8080/"
        }
      },
      "source": [
        "adfuller(df_concat_diff['Spending'])  #-7.22 is less than 5%  #stationary"
      ],
      "execution_count": 43,
      "outputs": [
        {
          "output_type": "execute_result",
          "data": {
            "text/plain": [
              "(-7.226973930850647,\n",
              " 2.0410272592129706e-10,\n",
              " 2,\n",
              " 248,\n",
              " {'1%': -3.4569962781990573,\n",
              "  '10%': -2.573018897632674,\n",
              "  '5%': -2.8732659015936024},\n",
              " 2328.23145843905)"
            ]
          },
          "metadata": {
            "tags": []
          },
          "execution_count": 43
        }
      ]
    },
    {
      "cell_type": "code",
      "metadata": {
        "id": "9Ulg1wtiShnx"
      },
      "source": [
        ""
      ],
      "execution_count": null,
      "outputs": []
    },
    {
      "cell_type": "code",
      "metadata": {
        "id": "2smWunszKJ4y",
        "outputId": "46cfd4b6-10a6-4eeb-f7c9-854a87b258ae",
        "colab": {
          "base_uri": "https://localhost:8080/"
        }
      },
      "source": [
        "help(adfuller)"
      ],
      "execution_count": 21,
      "outputs": [
        {
          "output_type": "stream",
          "text": [
            "Help on function adfuller in module statsmodels.tsa.stattools:\n",
            "\n",
            "adfuller(x, maxlag=None, regression='c', autolag='AIC', store=False, regresults=False)\n",
            "    Augmented Dickey-Fuller unit root test\n",
            "    \n",
            "    The Augmented Dickey-Fuller test can be used to test for a unit root in a\n",
            "    univariate process in the presence of serial correlation.\n",
            "    \n",
            "    Parameters\n",
            "    ----------\n",
            "    x : array_like, 1d\n",
            "        data series\n",
            "    maxlag : int\n",
            "        Maximum lag which is included in test, default 12*(nobs/100)^{1/4}\n",
            "    regression : {'c','ct','ctt','nc'}\n",
            "        Constant and trend order to include in regression\n",
            "    \n",
            "        * 'c' : constant only (default)\n",
            "        * 'ct' : constant and trend\n",
            "        * 'ctt' : constant, and linear and quadratic trend\n",
            "        * 'nc' : no constant, no trend\n",
            "    autolag : {'AIC', 'BIC', 't-stat', None}\n",
            "        * if None, then maxlag lags are used\n",
            "        * if 'AIC' (default) or 'BIC', then the number of lags is chosen\n",
            "          to minimize the corresponding information criterion\n",
            "        * 't-stat' based choice of maxlag.  Starts with maxlag and drops a\n",
            "          lag until the t-statistic on the last lag length is significant\n",
            "          using a 5%-sized test\n",
            "    store : bool\n",
            "        If True, then a result instance is returned additionally to\n",
            "        the adf statistic. Default is False\n",
            "    regresults : bool, optional\n",
            "        If True, the full regression results are returned. Default is False\n",
            "    \n",
            "    Returns\n",
            "    -------\n",
            "    adf : float\n",
            "        Test statistic\n",
            "    pvalue : float\n",
            "        MacKinnon's approximate p-value based on MacKinnon (1994, 2010)\n",
            "    usedlag : int\n",
            "        Number of lags used\n",
            "    nobs : int\n",
            "        Number of observations used for the ADF regression and calculation of\n",
            "        the critical values\n",
            "    critical values : dict\n",
            "        Critical values for the test statistic at the 1 %, 5 %, and 10 %\n",
            "        levels. Based on MacKinnon (2010)\n",
            "    icbest : float\n",
            "        The maximized information criterion if autolag is not None.\n",
            "    resstore : ResultStore, optional\n",
            "        A dummy class with results attached as attributes\n",
            "    \n",
            "    Notes\n",
            "    -----\n",
            "    The null hypothesis of the Augmented Dickey-Fuller is that there is a unit\n",
            "    root, with the alternative that there is no unit root. If the pvalue is\n",
            "    above a critical size, then we cannot reject that there is a unit root.\n",
            "    \n",
            "    The p-values are obtained through regression surface approximation from\n",
            "    MacKinnon 1994, but using the updated 2010 tables. If the p-value is close\n",
            "    to significant, then the critical values should be used to judge whether\n",
            "    to reject the null.\n",
            "    \n",
            "    The autolag option and maxlag for it are described in Greene.\n",
            "    \n",
            "    Examples\n",
            "    --------\n",
            "    See example notebook\n",
            "    \n",
            "    References\n",
            "    ----------\n",
            "    .. [*] W. Green.  \"Econometric Analysis,\" 5th ed., Pearson, 2003.\n",
            "    \n",
            "    .. [*] Hamilton, J.D.  \"Time Series Analysis\".  Princeton, 1994.\n",
            "    \n",
            "    .. [*] MacKinnon, J.G. 1994.  \"Approximate asymptotic distribution functions for\n",
            "        unit-root and cointegration tests.  `Journal of Business and Economic\n",
            "        Statistics` 12, 167-76.\n",
            "    \n",
            "    .. [*] MacKinnon, J.G. 2010. \"Critical Values for Cointegration Tests.\"  Queen's\n",
            "        University, Dept of Economics, Working Papers.  Available at\n",
            "        http://ideas.repec.org/p/qed/wpaper/1227.html\n",
            "\n"
          ],
          "name": "stdout"
        }
      ]
    },
    {
      "cell_type": "code",
      "metadata": {
        "id": "yWW-KjsnTDel",
        "outputId": "2f6c6065-f5e9-4948-e22e-c70b149ec1cd",
        "colab": {
          "base_uri": "https://localhost:8080/",
          "height": 434
        }
      },
      "source": [
        "df_concat_diff_2"
      ],
      "execution_count": 56,
      "outputs": [
        {
          "output_type": "execute_result",
          "data": {
            "text/html": [
              "<div>\n",
              "<style scoped>\n",
              "    .dataframe tbody tr th:only-of-type {\n",
              "        vertical-align: middle;\n",
              "    }\n",
              "\n",
              "    .dataframe tbody tr th {\n",
              "        vertical-align: top;\n",
              "    }\n",
              "\n",
              "    .dataframe thead th {\n",
              "        text-align: right;\n",
              "    }\n",
              "</style>\n",
              "<table border=\"1\" class=\"dataframe\">\n",
              "  <thead>\n",
              "    <tr style=\"text-align: right;\">\n",
              "      <th></th>\n",
              "      <th>Money</th>\n",
              "      <th>Spending</th>\n",
              "    </tr>\n",
              "    <tr>\n",
              "      <th>Date</th>\n",
              "      <th></th>\n",
              "      <th></th>\n",
              "    </tr>\n",
              "  </thead>\n",
              "  <tbody>\n",
              "    <tr>\n",
              "      <th>1995-03-01</th>\n",
              "      <td>3.7</td>\n",
              "      <td>35.0</td>\n",
              "    </tr>\n",
              "    <tr>\n",
              "      <th>1995-04-01</th>\n",
              "      <td>6.9</td>\n",
              "      <td>-29.8</td>\n",
              "    </tr>\n",
              "    <tr>\n",
              "      <th>1995-05-01</th>\n",
              "      <td>16.9</td>\n",
              "      <td>38.1</td>\n",
              "    </tr>\n",
              "    <tr>\n",
              "      <th>1995-06-01</th>\n",
              "      <td>-0.3</td>\n",
              "      <td>1.5</td>\n",
              "    </tr>\n",
              "    <tr>\n",
              "      <th>1995-07-01</th>\n",
              "      <td>-6.2</td>\n",
              "      <td>-51.7</td>\n",
              "    </tr>\n",
              "    <tr>\n",
              "      <th>...</th>\n",
              "      <td>...</td>\n",
              "      <td>...</td>\n",
              "    </tr>\n",
              "    <tr>\n",
              "      <th>2015-08-01</th>\n",
              "      <td>-0.7</td>\n",
              "      <td>-8.5</td>\n",
              "    </tr>\n",
              "    <tr>\n",
              "      <th>2015-09-01</th>\n",
              "      <td>5.5</td>\n",
              "      <td>-39.8</td>\n",
              "    </tr>\n",
              "    <tr>\n",
              "      <th>2015-10-01</th>\n",
              "      <td>-23.1</td>\n",
              "      <td>24.5</td>\n",
              "    </tr>\n",
              "    <tr>\n",
              "      <th>2015-11-01</th>\n",
              "      <td>55.8</td>\n",
              "      <td>10.7</td>\n",
              "    </tr>\n",
              "    <tr>\n",
              "      <th>2015-12-01</th>\n",
              "      <td>-31.2</td>\n",
              "      <td>-15.0</td>\n",
              "    </tr>\n",
              "  </tbody>\n",
              "</table>\n",
              "<p>250 rows × 2 columns</p>\n",
              "</div>"
            ],
            "text/plain": [
              "            Money  Spending\n",
              "Date                       \n",
              "1995-03-01    3.7      35.0\n",
              "1995-04-01    6.9     -29.8\n",
              "1995-05-01   16.9      38.1\n",
              "1995-06-01   -0.3       1.5\n",
              "1995-07-01   -6.2     -51.7\n",
              "...           ...       ...\n",
              "2015-08-01   -0.7      -8.5\n",
              "2015-09-01    5.5     -39.8\n",
              "2015-10-01  -23.1      24.5\n",
              "2015-11-01   55.8      10.7\n",
              "2015-12-01  -31.2     -15.0\n",
              "\n",
              "[250 rows x 2 columns]"
            ]
          },
          "metadata": {
            "tags": []
          },
          "execution_count": 56
        }
      ]
    },
    {
      "cell_type": "code",
      "metadata": {
        "id": "Y2EHJkF1TF-R"
      },
      "source": [
        "train=df_concat_diff_2[:200]\n",
        "test=df_concat_diff_2[200:]"
      ],
      "execution_count": 60,
      "outputs": []
    },
    {
      "cell_type": "code",
      "metadata": {
        "id": "k_WH3kKXKCZN"
      },
      "source": [
        "start=len(train)\n",
        "stop=len(train)+len(test)"
      ],
      "execution_count": 59,
      "outputs": []
    },
    {
      "cell_type": "code",
      "metadata": {
        "id": "PD1X72UnTl-0"
      },
      "source": [
        "from statsmodels.tsa.api import  VAR"
      ],
      "execution_count": 68,
      "outputs": []
    },
    {
      "cell_type": "code",
      "metadata": {
        "id": "M8MAf15TXU5e"
      },
      "source": [
        ""
      ],
      "execution_count": null,
      "outputs": []
    },
    {
      "cell_type": "code",
      "metadata": {
        "id": "HJS_KKg3T-8z",
        "outputId": "008e91ce-cbec-48bb-b15f-89daf02ccbdd",
        "colab": {
          "base_uri": "https://localhost:8080/"
        }
      },
      "source": [
        "model=VAR(train)"
      ],
      "execution_count": 74,
      "outputs": [
        {
          "output_type": "stream",
          "text": [
            "/usr/local/lib/python3.6/dist-packages/statsmodels/tsa/base/tsa_model.py:165: ValueWarning: No frequency information was provided, so inferred frequency MS will be used.\n",
            "  % freq, ValueWarning)\n"
          ],
          "name": "stderr"
        }
      ]
    },
    {
      "cell_type": "code",
      "metadata": {
        "id": "h_XuzevPXVZW",
        "outputId": "a38736ee-ca80-4b87-a98f-1fed945e6b74",
        "colab": {
          "base_uri": "https://localhost:8080/"
        }
      },
      "source": [
        "for p in range(10):\n",
        "  results=model.fit(p)\n",
        "  print(p)\n",
        "  print(results.aic)"
      ],
      "execution_count": 72,
      "outputs": [
        {
          "output_type": "stream",
          "text": [
            "0\n",
            "14.766530094380567\n",
            "1\n",
            "14.207647855713152\n",
            "2\n",
            "13.955605574129493\n",
            "3\n",
            "13.823291908532902\n",
            "4\n",
            "13.804587287423413\n",
            "5\n",
            "13.768661667134804\n",
            "6\n",
            "13.79767252212603\n",
            "7\n",
            "13.809790410194859\n",
            "8\n",
            "13.762618402750412\n",
            "9\n",
            "13.789227123221588\n"
          ],
          "name": "stdout"
        }
      ]
    },
    {
      "cell_type": "code",
      "metadata": {
        "id": "iGJzsz_hX2Vi"
      },
      "source": [
        "#5th order lowest AIC\n",
        "fitted_model=model.fit(5)"
      ],
      "execution_count": 79,
      "outputs": []
    },
    {
      "cell_type": "code",
      "metadata": {
        "id": "bJGqgT0YYKN8",
        "outputId": "ca066400-3325-4f5a-9399-d71803e9316c",
        "colab": {
          "base_uri": "https://localhost:8080/"
        }
      },
      "source": [
        "fitted_model.summary()"
      ],
      "execution_count": 80,
      "outputs": [
        {
          "output_type": "execute_result",
          "data": {
            "text/plain": [
              "  Summary of Regression Results   \n",
              "==================================\n",
              "Model:                         VAR\n",
              "Method:                        OLS\n",
              "Date:           Sun, 15, Nov, 2020\n",
              "Time:                     14:48:37\n",
              "--------------------------------------------------------------------\n",
              "No. of Equations:         2.00000    BIC:                    14.1379\n",
              "Nobs:                     195.000    HQIC:                   13.9182\n",
              "Log likelihood:          -1873.83    FPE:                    954460.\n",
              "AIC:                      13.7687    Det(Omega_mle):         855249.\n",
              "--------------------------------------------------------------------\n",
              "Results for equation Money\n",
              "==============================================================================\n",
              "                 coefficient       std. error           t-stat            prob\n",
              "------------------------------------------------------------------------------\n",
              "const               1.146828         1.895778            0.605           0.545\n",
              "L1.Money           -0.616528         0.076903           -8.017           0.000\n",
              "L1.Spending        -0.107539         0.053979           -1.992           0.046\n",
              "L2.Money           -0.571613         0.096304           -5.936           0.000\n",
              "L2.Spending        -0.255942         0.075209           -3.403           0.001\n",
              "L3.Money           -0.305159         0.099760           -3.059           0.002\n",
              "L3.Spending        -0.240814         0.084454           -2.851           0.004\n",
              "L4.Money           -0.395317         0.096657           -4.090           0.000\n",
              "L4.Spending        -0.076930         0.079136           -0.972           0.331\n",
              "L5.Money           -0.197927         0.085996           -2.302           0.021\n",
              "L5.Spending        -0.093578         0.055647           -1.682           0.093\n",
              "==============================================================================\n",
              "\n",
              "Results for equation Spending\n",
              "==============================================================================\n",
              "                 coefficient       std. error           t-stat            prob\n",
              "------------------------------------------------------------------------------\n",
              "const               0.213603         2.649733            0.081           0.936\n",
              "L1.Money            0.135091         0.107487            1.257           0.209\n",
              "L1.Spending        -0.924918         0.075447          -12.259           0.000\n",
              "L2.Money           -0.087610         0.134604           -0.651           0.515\n",
              "L2.Spending        -0.688117         0.105119           -6.546           0.000\n",
              "L3.Money           -0.040555         0.139435           -0.291           0.771\n",
              "L3.Spending        -0.438526         0.118042           -3.715           0.000\n",
              "L4.Money           -0.032761         0.135098           -0.242           0.808\n",
              "L4.Spending        -0.274614         0.110609           -2.483           0.013\n",
              "L5.Money            0.085597         0.120197            0.712           0.476\n",
              "L5.Spending        -0.175649         0.077778           -2.258           0.024\n",
              "==============================================================================\n",
              "\n",
              "Correlation matrix of residuals\n",
              "               Money  Spending\n",
              "Money       1.000000 -0.297829\n",
              "Spending   -0.297829  1.000000\n",
              "\n"
            ]
          },
          "metadata": {
            "tags": []
          },
          "execution_count": 80
        }
      ]
    },
    {
      "cell_type": "code",
      "metadata": {
        "id": "dU4ED1r6YVR2"
      },
      "source": [
        "fitted_model.forecast(12)"
      ],
      "execution_count": null,
      "outputs": []
    },
    {
      "cell_type": "code",
      "metadata": {
        "id": "kEy69nbHcfUK"
      },
      "source": [
        "train.values.shape #need last 5 lag values\n",
        "lagged_values=train.values[-10:]"
      ],
      "execution_count": 89,
      "outputs": []
    },
    {
      "cell_type": "code",
      "metadata": {
        "id": "QEXVmLPpgnWp",
        "outputId": "e6c29b6c-84dc-4142-f138-245bc933534b",
        "colab": {
          "base_uri": "https://localhost:8080/"
        }
      },
      "source": [
        "train.shape"
      ],
      "execution_count": 88,
      "outputs": [
        {
          "output_type": "execute_result",
          "data": {
            "text/plain": [
              "(200, 2)"
            ]
          },
          "metadata": {
            "tags": []
          },
          "execution_count": 88
        }
      ]
    },
    {
      "cell_type": "code",
      "metadata": {
        "id": "MG_eI61ocdSP"
      },
      "source": [
        "z=results.forecast(y=lagged_values,steps=12)"
      ],
      "execution_count": 94,
      "outputs": []
    },
    {
      "cell_type": "code",
      "metadata": {
        "id": "4TPYsCilgr8l"
      },
      "source": [
        "idx=pd.date_range('2015-01-01',periods=12)"
      ],
      "execution_count": 91,
      "outputs": []
    },
    {
      "cell_type": "code",
      "metadata": {
        "id": "NlqV5v5Hgg5d",
        "outputId": "f9d5d628-17e2-4a8e-afc9-a1f3529c26a6",
        "colab": {
          "base_uri": "https://localhost:8080/"
        }
      },
      "source": [
        "idx"
      ],
      "execution_count": 92,
      "outputs": [
        {
          "output_type": "execute_result",
          "data": {
            "text/plain": [
              "DatetimeIndex(['2015-01-01', '2015-01-02', '2015-01-03', '2015-01-04',\n",
              "               '2015-01-05', '2015-01-06', '2015-01-07', '2015-01-08',\n",
              "               '2015-01-09', '2015-01-10', '2015-01-11', '2015-01-12'],\n",
              "              dtype='datetime64[ns]', freq='D')"
            ]
          },
          "metadata": {
            "tags": []
          },
          "execution_count": 92
        }
      ]
    },
    {
      "cell_type": "code",
      "metadata": {
        "id": "fr8d5GHFknmi"
      },
      "source": [
        "df_forecast=pd.DataFrame(data=z,index=idx,columns=['Money_2d','Spending_2d'])"
      ],
      "execution_count": 96,
      "outputs": []
    },
    {
      "cell_type": "code",
      "metadata": {
        "id": "fdn0xnxLy-Zb"
      },
      "source": [
        "test=test[38:]"
      ],
      "execution_count": 112,
      "outputs": []
    },
    {
      "cell_type": "code",
      "metadata": {
        "id": "zCuKrKzLzaGw",
        "outputId": "c501eb7e-f5be-4fd6-f3d5-318ef11f1300",
        "colab": {
          "base_uri": "https://localhost:8080/"
        }
      },
      "source": [
        "len(test)"
      ],
      "execution_count": 114,
      "outputs": [
        {
          "output_type": "execute_result",
          "data": {
            "text/plain": [
              "12"
            ]
          },
          "metadata": {
            "tags": []
          },
          "execution_count": 114
        }
      ]
    },
    {
      "cell_type": "code",
      "metadata": {
        "id": "KLlZGebxzbRI"
      },
      "source": [
        "from statsmodels.tools.eval_measures import rmse"
      ],
      "execution_count": 115,
      "outputs": []
    },
    {
      "cell_type": "code",
      "metadata": {
        "id": "--p01NLirfX-",
        "outputId": "43e7cd25-3ce4-4738-b378-c04c0b0be406",
        "colab": {
          "base_uri": "https://localhost:8080/",
          "height": 580
        }
      },
      "source": [
        "df_forecast.plot()\n",
        "test.plot()"
      ],
      "execution_count": 113,
      "outputs": [
        {
          "output_type": "execute_result",
          "data": {
            "text/plain": [
              "<matplotlib.axes._subplots.AxesSubplot at 0x7f7b962a5358>"
            ]
          },
          "metadata": {
            "tags": []
          },
          "execution_count": 113
        },
        {
          "output_type": "display_data",
          "data": {
            "image/png": "[encoded data removed]",
            "text/plain": [
              "<Figure size 432x288 with 1 Axes>"
            ]
          },
          "metadata": {
            "tags": [],
            "needs_background": "light"
          }
        },
        {
          "output_type": "display_data",
          "data": {
            "image/png": "[encoded data removed]",
            "text/plain": [
              "<Figure size 432x288 with 1 Axes>"
            ]
          },
          "metadata": {
            "tags": [],
            "needs_background": "light"
          }
        }
      ]
    },
    {
      "cell_type": "code",
      "metadata": {
        "id": "mAKyvmwny6ng",
        "outputId": "d145313b-14ce-4f60-e003-ca8cd3c0e273",
        "colab": {
          "base_uri": "https://localhost:8080/"
        }
      },
      "source": [
        "test.index"
      ],
      "execution_count": 109,
      "outputs": [
        {
          "output_type": "execute_result",
          "data": {
            "text/plain": [
              "DatetimeIndex(['2011-11-01', '2011-12-01', '2012-01-01', '2012-02-01',\n",
              "               '2012-03-01', '2012-04-01', '2012-05-01', '2012-06-01',\n",
              "               '2012-07-01', '2012-08-01', '2012-09-01', '2012-10-01',\n",
              "               '2012-11-01', '2012-12-01', '2013-01-01', '2013-02-01',\n",
              "               '2013-03-01', '2013-04-01', '2013-05-01', '2013-06-01',\n",
              "               '2013-07-01', '2013-08-01', '2013-09-01', '2013-10-01',\n",
              "               '2013-11-01', '2013-12-01', '2014-01-01', '2014-02-01',\n",
              "               '2014-03-01', '2014-04-01', '2014-05-01', '2014-06-01',\n",
              "               '2014-07-01', '2014-08-01', '2014-09-01', '2014-10-01',\n",
              "               '2014-11-01', '2014-12-01', '2015-01-01', '2015-02-01',\n",
              "               '2015-03-01', '2015-04-01', '2015-05-01', '2015-06-01',\n",
              "               '2015-07-01', '2015-08-01', '2015-09-01', '2015-10-01',\n",
              "               '2015-11-01', '2015-12-01'],\n",
              "              dtype='datetime64[ns]', name='Date', freq=None)"
            ]
          },
          "metadata": {
            "tags": []
          },
          "execution_count": 109
        }
      ]
    },
    {
      "cell_type": "code",
      "metadata": {
        "id": "J_xSCegvyi7q",
        "outputId": "463a9d6c-c0a4-41db-b0c7-12572a3de1a0",
        "colab": {
          "base_uri": "https://localhost:8080/"
        }
      },
      "source": [
        "rmse(test['Money'],df_forecast['Money_2d'])"
      ],
      "execution_count": 117,
      "outputs": [
        {
          "output_type": "execute_result",
          "data": {
            "text/plain": [
              "52.0057547238541"
            ]
          },
          "metadata": {
            "tags": []
          },
          "execution_count": 117
        }
      ]
    }
  ]
}